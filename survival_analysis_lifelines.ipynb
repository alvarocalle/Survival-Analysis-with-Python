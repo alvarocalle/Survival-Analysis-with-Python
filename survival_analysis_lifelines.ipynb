{
 "cells": [
  {
   "cell_type": "markdown",
   "metadata": {},
   "source": [
    "# Survival Analysis with lifelines Python\n",
    "\n",
    "## An introduction to survival analysis with Python lifelines library\n",
    "\n",
    "In this notebook, we go through the examples described in the `lifeline` python library [documentation](http://lifelines.readthedocs.io/en/latest/index.html) and explore the use of such librery modules.\n",
    "\n",
    "Date: December 2017\n",
    "\n",
    "Autor: [Alvaro Calle Cordon](www.linkedin.com/in/alvarocallecordon)\n",
    "\n",
    "Notebook uses Python 2.7"
   ]
  },
  {
   "cell_type": "markdown",
   "metadata": {},
   "source": [
    "## Setups"
   ]
  },
  {
   "cell_type": "code",
   "execution_count": 1,
   "metadata": {
    "collapsed": true
   },
   "outputs": [],
   "source": [
    "# suppress warnings\n",
    "import warnings\n",
    "warnings.filterwarnings('ignore')\n",
    "\n",
    "import numpy as np\n",
    "import pandas as pd\n",
    "import matplotlib.pyplot as plt\n",
    "\n",
    "# Show in-line plots\n",
    "%matplotlib inline\n",
    "\n",
    "np.random.seed(0)"
   ]
  },
  {
   "cell_type": "code",
   "execution_count": 2,
   "metadata": {},
   "outputs": [
    {
     "name": "stdout",
     "output_type": "stream",
     "text": [
      "[u'seaborn-darkgrid', u'Solarize_Light2', u'seaborn-notebook', u'classic', u'seaborn-ticks', u'grayscale', u'bmh', u'seaborn-talk', u'dark_background', u'ggplot', u'fivethirtyeight', u'_classic_test', u'seaborn-colorblind', u'seaborn-deep', u'seaborn-whitegrid', u'seaborn-bright', u'seaborn-poster', u'seaborn-muted', u'seaborn-paper', u'seaborn-white', u'fast', u'seaborn-pastel', u'seaborn-dark', u'seaborn', u'seaborn-dark-palette']\n"
     ]
    }
   ],
   "source": [
    "print(plt.style.available)"
   ]
  },
  {
   "cell_type": "code",
   "execution_count": 3,
   "metadata": {
    "collapsed": true
   },
   "outputs": [],
   "source": [
    "# Set default styles for plotting\n",
    "plt.style.use('ggplot')\n",
    "plt.rcParams['figure.figsize'] = 10, 6"
   ]
  },
  {
   "cell_type": "markdown",
   "metadata": {},
   "source": [
    "## Quickstart"
   ]
  },
  {
   "cell_type": "markdown",
   "metadata": {},
   "source": [
    "### Kaplan-Meier and Nelson-Aalen"
   ]
  },
  {
   "cell_type": "code",
   "execution_count": 4,
   "metadata": {},
   "outputs": [
    {
     "name": "stdout",
     "output_type": "stream",
     "text": [
      "      T  E    group\n",
      "0   6.0  1  miR-137\n",
      "1  13.0  1  miR-137\n",
      "2  13.0  1  miR-137\n",
      "3  13.0  1  miR-137\n",
      "4  19.0  1  miR-137\n"
     ]
    }
   ],
   "source": [
    "from lifelines.datasets import load_waltons\n",
    "df = load_waltons() # returns a Pandas DataFrame\n",
    "\n",
    "print(df.head())\n",
    "\n",
    "T = df['T'] # durations\n",
    "E = df['E'] # censorship"
   ]
  },
  {
   "cell_type": "markdown",
   "metadata": {},
   "source": [
    "KM estimator"
   ]
  },
  {
   "cell_type": "code",
   "execution_count": 5,
   "metadata": {},
   "outputs": [
    {
     "data": {
      "text/plain": [
       "<lifelines.KaplanMeierFitter: fitted with 163 observations, 7 censored>"
      ]
     },
     "execution_count": 5,
     "metadata": {},
     "output_type": "execute_result"
    }
   ],
   "source": [
    "from lifelines import KaplanMeierFitter\n",
    "kmf = KaplanMeierFitter()\n",
    "kmf.fit(T, event_observed=E)  # or, more succiently, kmf.fit(T, E)"
   ]
  },
  {
   "cell_type": "markdown",
   "metadata": {},
   "source": [
    "Fit results"
   ]
  },
  {
   "cell_type": "code",
   "execution_count": 6,
   "metadata": {},
   "outputs": [
    {
     "data": {
      "text/plain": [
       "<matplotlib.axes._subplots.AxesSubplot at 0x7f79c0e81b90>"
      ]
     },
     "execution_count": 6,
     "metadata": {},
     "output_type": "execute_result"
    },
    {
     "data": {
      "image/png": "[encoded data removed]",
      "text/plain": [
       "<matplotlib.figure.Figure at 0x7f79c0e81290>"
      ]
     },
     "metadata": {},
     "output_type": "display_data"
    }
   ],
   "source": [
    "kmf.survival_function_\n",
    "kmf.median_\n",
    "kmf.plot()"
   ]
  },
  {
   "cell_type": "markdown",
   "metadata": {
    "collapsed": true
   },
   "source": [
    "### Multiple groups"
   ]
  },
  {
   "cell_type": "markdown",
   "metadata": {},
   "source": [
    "There are two groups in the data set:"
   ]
  },
  {
   "cell_type": "code",
   "execution_count": 7,
   "metadata": {
    "scrolled": true
   },
   "outputs": [
    {
     "name": "stdout",
     "output_type": "stream",
     "text": [
      "['miR-137' 'control']\n"
     ]
    }
   ],
   "source": [
    "print df.group.unique()"
   ]
  },
  {
   "cell_type": "markdown",
   "metadata": {},
   "source": [
    "#### Kaplan-Meier"
   ]
  },
  {
   "cell_type": "code",
   "execution_count": 8,
   "metadata": {},
   "outputs": [
    {
     "data": {
      "text/plain": [
       "<matplotlib.axes._subplots.AxesSubplot at 0x7f79b8f42dd0>"
      ]
     },
     "execution_count": 8,
     "metadata": {},
     "output_type": "execute_result"
    },
    {
     "data": {
      "image/png": "[encoded data removed]",
      "text/plain": [
       "<matplotlib.figure.Figure at 0x7f79c11de7d0>"
      ]
     },
     "metadata": {},
     "output_type": "display_data"
    }
   ],
   "source": [
    "groups = df['group']\n",
    "ix = (groups == 'miR-137')\n",
    "\n",
    "# fit control group\n",
    "kmf.fit(T[~ix], E[~ix], label='control')\n",
    "ax = kmf.plot()\n",
    "\n",
    "# fit miR-137 group\n",
    "kmf.fit(T[ix], E[ix], label='miR-137')\n",
    "kmf.plot(ax=ax)"
   ]
  },
  {
   "cell_type": "markdown",
   "metadata": {},
   "source": [
    "#### Nelson-Aalen"
   ]
  },
  {
   "cell_type": "code",
   "execution_count": 9,
   "metadata": {},
   "outputs": [
    {
     "data": {
      "text/plain": [
       "<matplotlib.axes._subplots.AxesSubplot at 0x7f79b8f5a450>"
      ]
     },
     "execution_count": 9,
     "metadata": {},
     "output_type": "execute_result"
    },
    {
     "data": {
      "image/png": "[encoded data removed]",
      "text/plain": [
       "<matplotlib.figure.Figure at 0x7f79b8f1c510>"
      ]
     },
     "metadata": {},
     "output_type": "display_data"
    }
   ],
   "source": [
    "from lifelines import NelsonAalenFitter\n",
    "naf = NelsonAalenFitter()\n",
    "naf.fit(T, event_observed=E)\n",
    "naf.cumulative_hazard_\n",
    "naf.plot()"
   ]
  },
  {
   "cell_type": "markdown",
   "metadata": {},
   "source": [
    "**Observation:** \n",
    "\n",
    "Similar to Scikit-Learn, all statistically estimated quantities append an underscore to the property name."
   ]
  },
  {
   "cell_type": "markdown",
   "metadata": {},
   "source": [
    "### Getting Data in The Right Format\n",
    "\n",
    "- From date_times to durations: *start_time, end_time* $\\to$ *durations*"
   ]
  },
  {
   "cell_type": "code",
   "execution_count": 10,
   "metadata": {},
   "outputs": [
    {
     "ename": "NameError",
     "evalue": "name 'start_times' is not defined",
     "output_type": "error",
     "traceback": [
      "\u001b[0;31m------------------------------------------------------------------------\u001b[0m",
      "\u001b[0;31mNameError\u001b[0m                              Traceback (most recent call last)",
      "\u001b[0;32m<ipython-input-10-fcde32daf110>\u001b[0m in \u001b[0;36m<module>\u001b[0;34m()\u001b[0m\n\u001b[1;32m      3\u001b[0m \u001b[0;31m# start_times is a vector of datetime objects\u001b[0m\u001b[0;34m\u001b[0m\u001b[0;34m\u001b[0m\u001b[0m\n\u001b[1;32m      4\u001b[0m \u001b[0;31m# end_times is a vector of (possibly missing) datetime objects.\u001b[0m\u001b[0;34m\u001b[0m\u001b[0;34m\u001b[0m\u001b[0m\n\u001b[0;32m----> 5\u001b[0;31m \u001b[0mT\u001b[0m\u001b[0;34m,\u001b[0m \u001b[0mE\u001b[0m \u001b[0;34m=\u001b[0m \u001b[0mdatetimes_to_durations\u001b[0m\u001b[0;34m(\u001b[0m\u001b[0mstart_times\u001b[0m\u001b[0;34m,\u001b[0m \u001b[0mend_times\u001b[0m\u001b[0;34m,\u001b[0m \u001b[0mfreq\u001b[0m\u001b[0;34m=\u001b[0m\u001b[0;34m'h'\u001b[0m\u001b[0;34m)\u001b[0m\u001b[0;34m\u001b[0m\u001b[0m\n\u001b[0m",
      "\u001b[0;31mNameError\u001b[0m: name 'start_times' is not defined"
     ]
    }
   ],
   "source": [
    "from lifelines.utils import datetimes_to_durations\n",
    "\n",
    "# start_times is a vector of datetime objects\n",
    "# end_times is a vector of (possibly missing) datetime objects.\n",
    "T, E = datetimes_to_durations(start_times, end_times, freq='h')"
   ]
  },
  {
   "cell_type": "markdown",
   "metadata": {},
   "source": [
    "- Survival table given some durations and censorship vectors."
   ]
  },
  {
   "cell_type": "code",
   "execution_count": 11,
   "metadata": {},
   "outputs": [
    {
     "name": "stdout",
     "output_type": "stream",
     "text": [
      "          removed  observed  censored  entrance  at_risk\n",
      "event_at                                                \n",
      "0.0             0         0         0       163      163\n",
      "6.0             1         1         0         0      163\n",
      "7.0             2         1         1         0      162\n",
      "9.0             3         3         0         0      160\n",
      "13.0            3         3         0         0      157\n"
     ]
    }
   ],
   "source": [
    "from lifelines.utils import survival_table_from_events\n",
    "\n",
    "table = survival_table_from_events(T, E)\n",
    "print(table.head())"
   ]
  },
  {
   "cell_type": "markdown",
   "metadata": {},
   "source": [
    "### Survival Regression"
   ]
  },
  {
   "cell_type": "markdown",
   "metadata": {},
   "source": [
    "Event data including covariates"
   ]
  },
  {
   "cell_type": "code",
   "execution_count": 12,
   "metadata": {},
   "outputs": [
    {
     "data": {
      "text/html": [
       "<div>\n",
       "<style>\n",
       "    .dataframe thead tr:only-child th {\n",
       "        text-align: right;\n",
       "    }\n",
       "\n",
       "    .dataframe thead th {\n",
       "        text-align: left;\n",
       "    }\n",
       "\n",
       "    .dataframe tbody tr th {\n",
       "        vertical-align: top;\n",
       "    }\n",
       "</style>\n",
       "<table border=\"1\" class=\"dataframe\">\n",
       "  <thead>\n",
       "    <tr style=\"text-align: right;\">\n",
       "      <th></th>\n",
       "      <th>var1</th>\n",
       "      <th>var2</th>\n",
       "      <th>var3</th>\n",
       "      <th>T</th>\n",
       "      <th>E</th>\n",
       "    </tr>\n",
       "  </thead>\n",
       "  <tbody>\n",
       "    <tr>\n",
       "      <th>0</th>\n",
       "      <td>0.595170</td>\n",
       "      <td>1.143472</td>\n",
       "      <td>1.571079</td>\n",
       "      <td>14.785479</td>\n",
       "      <td>1</td>\n",
       "    </tr>\n",
       "    <tr>\n",
       "      <th>1</th>\n",
       "      <td>0.209325</td>\n",
       "      <td>0.184677</td>\n",
       "      <td>0.356980</td>\n",
       "      <td>7.336734</td>\n",
       "      <td>1</td>\n",
       "    </tr>\n",
       "    <tr>\n",
       "      <th>2</th>\n",
       "      <td>0.693919</td>\n",
       "      <td>0.071893</td>\n",
       "      <td>0.557960</td>\n",
       "      <td>5.271527</td>\n",
       "      <td>1</td>\n",
       "    </tr>\n",
       "    <tr>\n",
       "      <th>3</th>\n",
       "      <td>0.443804</td>\n",
       "      <td>1.364646</td>\n",
       "      <td>0.374221</td>\n",
       "      <td>11.684168</td>\n",
       "      <td>1</td>\n",
       "    </tr>\n",
       "    <tr>\n",
       "      <th>4</th>\n",
       "      <td>1.613324</td>\n",
       "      <td>0.125566</td>\n",
       "      <td>1.921325</td>\n",
       "      <td>7.637764</td>\n",
       "      <td>1</td>\n",
       "    </tr>\n",
       "  </tbody>\n",
       "</table>\n",
       "</div>"
      ],
      "text/plain": [
       "       var1      var2      var3          T  E\n",
       "0  0.595170  1.143472  1.571079  14.785479  1\n",
       "1  0.209325  0.184677  0.356980   7.336734  1\n",
       "2  0.693919  0.071893  0.557960   5.271527  1\n",
       "3  0.443804  1.364646  0.374221  11.684168  1\n",
       "4  1.613324  0.125566  1.921325   7.637764  1"
      ]
     },
     "execution_count": 12,
     "metadata": {},
     "output_type": "execute_result"
    }
   ],
   "source": [
    "from lifelines.datasets import load_regression_dataset\n",
    "regression_dataset = load_regression_dataset()\n",
    "\n",
    "regression_dataset.head()"
   ]
  },
  {
   "cell_type": "markdown",
   "metadata": {},
   "source": [
    "The input of the fit method's API in a regression is different. All the data, including durations, censorships and covariates must be contained in a Pandas DataFrame. The duration column and event occured column must be specified in the call to fit.\n",
    "\n",
    "If $\\beta$ is a vector of coefficients and $\\mathbf X = (x_1, \\ldots, x_n)$ a vector of $n$ covariates (for a single instance), there are two popular competing techniques in survival regression: Cox's model and Aalen's additive model. Both models attempt to represent the **hazard rate** $\\lambda(t|x)$ as a function of $t$ and some covariates $x$:"
   ]
  },
  {
   "cell_type": "markdown",
   "metadata": {},
   "source": [
    "- CoxPH: $\\lambda(t|\\mathbf{X}) = \\lambda_0(t)\\ \\exp{(- \\mathbf \\beta^T \\mathbf X)}$"
   ]
  },
  {
   "cell_type": "code",
   "execution_count": 13,
   "metadata": {},
   "outputs": [
    {
     "name": "stdout",
     "output_type": "stream",
     "text": [
      "n=200, number of events=189\n",
      "\n",
      "       coef  exp(coef)  se(coef)      z      p  lower 0.95  upper 0.95    \n",
      "var1 0.2213     1.2476    0.0743 2.9784 0.0029      0.0756      0.3669  **\n",
      "var2 0.0509     1.0522    0.0829 0.6136 0.5395     -0.1116      0.2134    \n",
      "var3 0.2185     1.2442    0.0758 2.8824 0.0039      0.0699      0.3672  **\n",
      "---\n",
      "Signif. codes:  0 '***' 0.001 '**' 0.01 '*' 0.05 '.' 0.1 ' ' 1 \n",
      "\n",
      "Concordance = 0.580\n"
     ]
    },
    {
     "data": {
      "text/plain": [
       "<matplotlib.axes._subplots.AxesSubplot at 0x7f79b8e0bfd0>"
      ]
     },
     "execution_count": 13,
     "metadata": {},
     "output_type": "execute_result"
    },
    {
     "data": {
      "image/png": "[encoded data removed]",
      "text/plain": [
       "<matplotlib.figure.Figure at 0x7f79b8e67810>"
      ]
     },
     "metadata": {},
     "output_type": "display_data"
    }
   ],
   "source": [
    "from lifelines import CoxPHFitter\n",
    "\n",
    "# Using Cox Proportional Hazards model\n",
    "cph = CoxPHFitter()\n",
    "cph.fit(regression_dataset, 'T', event_col='E')\n",
    "cph.print_summary()\n",
    "cph.plot()"
   ]
  },
  {
   "cell_type": "markdown",
   "metadata": {},
   "source": [
    "- Aalen's Additive model:  $\\lambda(t|\\mathbf{X}) = \\lambda_0(t) + \\mathbf \\beta(t)^T \\mathbf X$"
   ]
  },
  {
   "cell_type": "code",
   "execution_count": 14,
   "metadata": {},
   "outputs": [
    {
     "name": "stdout",
     "output_type": "stream",
     "text": [
      " [-----------------100%-----------------] 189 of 189 complete in 0.2 sec\n"
     ]
    },
    {
     "data": {
      "text/plain": [
       "<matplotlib.axes._subplots.AxesSubplot at 0x7f79b8077d50>"
      ]
     },
     "execution_count": 14,
     "metadata": {},
     "output_type": "execute_result"
    },
    {
     "data": {
      "image/png": "[encoded data removed]",
      "text/plain": [
       "<matplotlib.figure.Figure at 0x7f79c0e81b50>"
      ]
     },
     "metadata": {},
     "output_type": "display_data"
    },
    {
     "data": {
      "image/png": "[encoded data removed]",
      "text/plain": [
       "<matplotlib.figure.Figure at 0x7f79b8d36d50>"
      ]
     },
     "metadata": {},
     "output_type": "display_data"
    }
   ],
   "source": [
    "from lifelines import AalenAdditiveFitter\n",
    "aaf = AalenAdditiveFitter(fit_intercept=False)\n",
    "aaf.fit(regression_dataset, 'T', event_col='E')\n",
    "\n",
    "X = regression_dataset.drop(['E', 'T'], axis=1)\n",
    "aaf.predict_survival_function(X.iloc[10:12]).plot()  # get the unique survival functions of two subjects\n",
    "\n",
    "aaf.plot()"
   ]
  },
  {
   "cell_type": "markdown",
   "metadata": {},
   "source": [
    "## Introduction to Survival Analysis"
   ]
  },
  {
   "cell_type": "markdown",
   "metadata": {},
   "source": [
    "### Concept of censorship"
   ]
  },
  {
   "cell_type": "markdown",
   "metadata": {
    "collapsed": true
   },
   "source": [
    "Consider a case where the population is actually made up of two subpopulations, A and B. Population A has a very small lifespan, say 2 months on average, and population B enjoys a much larger lifespan, say 12 months on average. We might not know this distinction before hand. At $t=10$, we wish to investigate the average lifespan. Below is an example of such a situation."
   ]
  },
  {
   "cell_type": "code",
   "execution_count": 16,
   "metadata": {},
   "outputs": [
    {
     "data": {
      "image/png": "[encoded data removed]",
      "text/plain": [
       "<matplotlib.figure.Figure at 0x7f79b8f1c350>"
      ]
     },
     "metadata": {},
     "output_type": "display_data"
    },
    {
     "name": "stdout",
     "output_type": "stream",
     "text": [
      "('Observed lifetimes at time 10:\\n', array([  9.5504941 ,   9.44641383,   6.90623039,   5.80322521,\n",
      "         5.19650831,   1.09393235,  10.        ,  10.        ,\n",
      "         2.04286377,   1.47565456,   2.97650968,  10.        ,\n",
      "        10.        ,   0.89103699,  10.        ,   0.47241341,\n",
      "         4.54754359,   8.90899476,   2.81161819,   1.25588316,\n",
      "         2.07752943,   0.43776121,  10.        ,   7.4980629 ,  10.        ]))\n"
     ]
    }
   ],
   "source": [
    "from lifelines.plotting import plot_lifetimes\n",
    "from numpy.random import uniform, exponential\n",
    "import matplotlib.pyplot as plt\n",
    "\n",
    "N = 25\n",
    "current_time = 10\n",
    "actual_lifetimes = np.array([[exponential(12), exponential(2)][uniform() < 0.5] for i in range(N)])\n",
    "observed_lifetimes = np.minimum(actual_lifetimes, current_time)\n",
    "observed = actual_lifetimes < current_time\n",
    "\n",
    "plt.xlim(0, 25)\n",
    "plt.vlines(10, 0, 30, lw=2, linestyles='--')\n",
    "plt.xlabel(\"time\")\n",
    "plt.title(\"Births and deaths of our population, at $t=10$\")\n",
    "plot_lifetimes(observed_lifetimes, event_observed=observed)\n",
    "print(\"Observed lifetimes at time %d:\\n\" % (current_time), observed_lifetimes)"
   ]
  },
  {
   "cell_type": "markdown",
   "metadata": {},
   "source": [
    "- Red lines denote the lifespan of individuals where the death event has been observed\n",
    "- Blue lines denote the lifespan of the right-censored individuals (deaths have not been observed). \n",
    "\n",
    "> If we are asked to estimate the average lifetime of our population, and we naively decided to not included the right-censored individuals, it is clear that we would be serverly underestimating the true average lifespan:"
   ]
  },
  {
   "cell_type": "code",
   "execution_count": 17,
   "metadata": {},
   "outputs": [
    {
     "data": {
      "text/plain": [
       "4.0773708795323245"
      ]
     },
     "execution_count": 17,
     "metadata": {},
     "output_type": "execute_result"
    }
   ],
   "source": [
    "# Mean lifetime ignoring right-censored data\n",
    "observed_lifetimes[(observed_lifetimes < 10)].mean()"
   ]
  },
  {
   "cell_type": "markdown",
   "metadata": {},
   "source": [
    "> Furthermore, if we instead simply took the mean of all observed lifespans, including the current lifespans of right-censored instances, we would still be underestimating the true average lifespan:"
   ]
  },
  {
   "cell_type": "code",
   "execution_count": 18,
   "metadata": {},
   "outputs": [
    {
     "data": {
      "text/plain": [
       "5.7357070332632727"
      ]
     },
     "execution_count": 18,
     "metadata": {},
     "output_type": "execute_result"
    }
   ],
   "source": [
    "# Mean lifetime including current lifespams of right-censored data\n",
    "observed_lifetimes.mean()"
   ]
  },
  {
   "cell_type": "markdown",
   "metadata": {},
   "source": [
    "Why? Below we plot the actual lifetimes of all instances (recall, in practice, we do not see this information at t=10)."
   ]
  },
  {
   "cell_type": "code",
   "execution_count": 19,
   "metadata": {},
   "outputs": [
    {
     "data": {
      "image/png": "[encoded data removed]",
      "text/plain": [
       "<matplotlib.figure.Figure at 0x7f79b805a490>"
      ]
     },
     "metadata": {},
     "output_type": "display_data"
    }
   ],
   "source": [
    "plt.xlim(0,50)\n",
    "plt.vlines(10, 0, 30, lw=2, linestyles='--')\n",
    "plot_lifetimes(actual_lifetimes, event_observed=observed)"
   ]
  },
  {
   "cell_type": "markdown",
   "metadata": {},
   "source": [
    "Survival analysis was originally developed to solve this type of problem, that is, to deal with estimation when our data is right-censored. Even in the case where all events have been observed, i.e. no censorship, survival analysis is still a very useful tool to understand durations.\n",
    "\n",
    "The observations need not always start at zero, either. This is called left-censoring.\n",
    "\n",
    "We next introduce the two fundamental objects in survival analysis, the **survival function** and the **hazard function**."
   ]
  },
  {
   "cell_type": "markdown",
   "metadata": {},
   "source": [
    "### Survival function"
   ]
  },
  {
   "cell_type": "markdown",
   "metadata": {
    "collapsed": true
   },
   "source": [
    "Let $T$ be a (possibly infinite, but always non-negative) random lifetime taken from the population under study. For example, the amount of time a couple is married. Or the time it takes a user to enter a webpage (an infinite time if they never do). The survival function - $S(t)$ - of a population is defined as\n",
    "\n",
    "$$\n",
    "S(t) = \\text{Pr}(T > t)\n",
    "$$\n",
    "\n",
    "In plain English: the survival function defines the probability the death event has not occured yet at time $t$, or equivalently, the probability of surviving past time t. Note the following properties of the survival function:\n",
    "\n",
    "- $ 0 \\leq S(t) \\leq 1$\n",
    "- $F_T(t) = 1 − S(t)$, where $F_T(t)$ is the CDF of $T$, which implies\n",
    "- $S(t)$ is a non-increasing function of $t$."
   ]
  },
  {
   "cell_type": "markdown",
   "metadata": {},
   "source": [
    "### Hazard function"
   ]
  },
  {
   "cell_type": "markdown",
   "metadata": {},
   "source": [
    "We are also interested in the probability of the death event occurring at time $t$, given that the death event has not occurred until time t. Mathematically, that is:\n",
    "\n",
    "$$\n",
    "\\lim_{\\delta t\\to 0} \\text{Pr}(t\\leq T \\leq t + \\delta t\\ |\\ T>t)\n",
    "$$\n",
    "\n",
    "This quantity goes to 0 as $\\delta t$ shrinks, so we divide this by the interval $\\delta t$ (like we might do in calculus). This defines the hazard function at time $t$, $\\delta (t)$:\n",
    "\n",
    "$$\n",
    "\\lambda(t)=\\lim_{\\delta t \\to 0} \\frac{\\text{Pr}(t \\leq T \\leq t + \\delta t\\ |\\ T>t)}{t}\n",
    "$$\n",
    "\n",
    "It can be shown with quite elementary probability that this is equal to:\n",
    "\n",
    "$$\n",
    "\\lambda(t) = -\\frac{S'(t)}{S(t)}\n",
    "$$\n",
    "\n",
    "and solving this differential equation, we get:\n",
    "\n",
    "$$\n",
    "S(t) = \\exp{(−\\int_0^t \\lambda(z)\\ dz)}\n",
    "$$\n",
    "\n",
    "The above equation defines all survival functions, in terms of an arbitrary hazard function (i.e. there is no parametric form) and this allows for very flexible curves. Notice that we can now speak either about the survival function, $S(t)$, or the hazard function, $\\lambda(t)$, and we can convert back and forth quite easily. It also gives us another, albeit less useful, expression for $T$:\n",
    "\n",
    "$$\n",
    "f_T(t)=\\lambda(t)  \\exp{(−\\int_0^t \\lambda(z)\\ dz)}\n",
    "$$\n",
    "\n",
    "Because we do not observe the true survival curve of a population, we must use the observed data to estimate it (either parametric or non-parametrically):\n",
    "\n",
    "- The **Kaplan-Meier** estimator is a non-parametric estimator of the survival function, and,\n",
    "- The **Nelson-Aalen** estimator is a non-parametric estimator of the (cumulative) hazard function."
   ]
  },
  {
   "cell_type": "markdown",
   "metadata": {},
   "source": [
    "## Survival analysis with lifelines"
   ]
  },
  {
   "cell_type": "markdown",
   "metadata": {},
   "source": [
    "### Estimating the Survival function using Kaplan-Meier"
   ]
  },
  {
   "cell_type": "markdown",
   "metadata": {},
   "source": [
    "#### Data\n",
    "\n",
    "For this example, we will be investigating the lifetimes of political leaders around the world. A political leader in this case is defined by a single individual's time in office who controls the ruling regime. This could be an elected president, unelected dictator, monarch, etc. The birth event is the start of the individual's tenure, and the death event is the retirement of the individual. Censorship can occur if they are a) still in offices at the time of dataset complilation (2008), or b) die while in office (this includes assassinations).\n",
    "\n",
    "For example, the Bush regime began in 2000 and officially ended in 2008 upon his retirement, thus this regime's lifespan was 8 years and the \"death\" event was observed. On the other hand, the JFK regime lasted 2 years, from 1961 and 1963, and the regime's official death event was not observed - JFK died before his official retirement.\n",
    "\n",
    "To estimate the survival function, we use the Kaplan-Meier Estimate:"
   ]
  },
  {
   "cell_type": "code",
   "execution_count": 20,
   "metadata": {},
   "outputs": [
    {
     "data": {
      "text/html": [
       "<div>\n",
       "<style>\n",
       "    .dataframe thead tr:only-child th {\n",
       "        text-align: right;\n",
       "    }\n",
       "\n",
       "    .dataframe thead th {\n",
       "        text-align: left;\n",
       "    }\n",
       "\n",
       "    .dataframe tbody tr th {\n",
       "        vertical-align: top;\n",
       "    }\n",
       "</style>\n",
       "<table border=\"1\" class=\"dataframe\">\n",
       "  <thead>\n",
       "    <tr style=\"text-align: right;\">\n",
       "      <th></th>\n",
       "      <th>ctryname</th>\n",
       "      <th>cowcode2</th>\n",
       "      <th>politycode</th>\n",
       "      <th>un_region_name</th>\n",
       "      <th>un_continent_name</th>\n",
       "      <th>ehead</th>\n",
       "      <th>leaderspellreg</th>\n",
       "      <th>democracy</th>\n",
       "      <th>regime</th>\n",
       "      <th>start_year</th>\n",
       "      <th>duration</th>\n",
       "      <th>observed</th>\n",
       "    </tr>\n",
       "  </thead>\n",
       "  <tbody>\n",
       "    <tr>\n",
       "      <th>1010</th>\n",
       "      <td>Malta</td>\n",
       "      <td>338</td>\n",
       "      <td>338.0</td>\n",
       "      <td>Southern Europe</td>\n",
       "      <td>Europe</td>\n",
       "      <td>Dominic Mintoff</td>\n",
       "      <td>Dominic Mintoff.Malta.1971.1983.Parliamentary Dem</td>\n",
       "      <td>Democracy</td>\n",
       "      <td>Parliamentary Dem</td>\n",
       "      <td>1971</td>\n",
       "      <td>13</td>\n",
       "      <td>1</td>\n",
       "    </tr>\n",
       "    <tr>\n",
       "      <th>979</th>\n",
       "      <td>Madagascar</td>\n",
       "      <td>580</td>\n",
       "      <td>580.0</td>\n",
       "      <td>Eastern Africa</td>\n",
       "      <td>Africa</td>\n",
       "      <td>Didier Ratsiraka</td>\n",
       "      <td>Didier Ratsiraka.Madagascar.1975.1992.Military...</td>\n",
       "      <td>Non-democracy</td>\n",
       "      <td>Military Dict</td>\n",
       "      <td>1975</td>\n",
       "      <td>18</td>\n",
       "      <td>1</td>\n",
       "    </tr>\n",
       "    <tr>\n",
       "      <th>84</th>\n",
       "      <td>Austria</td>\n",
       "      <td>305</td>\n",
       "      <td>305.0</td>\n",
       "      <td>Western Europe</td>\n",
       "      <td>Europe</td>\n",
       "      <td>Alfred Gusenbauer</td>\n",
       "      <td>Alfred Gusenbauer.Austria.2007.2008.Mixed Dem</td>\n",
       "      <td>Democracy</td>\n",
       "      <td>Mixed Dem</td>\n",
       "      <td>2007</td>\n",
       "      <td>2</td>\n",
       "      <td>0</td>\n",
       "    </tr>\n",
       "    <tr>\n",
       "      <th>1798</th>\n",
       "      <td>Yugoslavia</td>\n",
       "      <td>345</td>\n",
       "      <td>345.0</td>\n",
       "      <td>Southern Europe</td>\n",
       "      <td>Europe</td>\n",
       "      <td>Stipe Suvar</td>\n",
       "      <td>Stipe Suvar.Yugoslavia.1988.1988.Civilian Dict</td>\n",
       "      <td>Non-democracy</td>\n",
       "      <td>Civilian Dict</td>\n",
       "      <td>1988</td>\n",
       "      <td>1</td>\n",
       "      <td>1</td>\n",
       "    </tr>\n",
       "    <tr>\n",
       "      <th>220</th>\n",
       "      <td>Bulgaria</td>\n",
       "      <td>355</td>\n",
       "      <td>355.0</td>\n",
       "      <td>Eastern Europe</td>\n",
       "      <td>Europe</td>\n",
       "      <td>Todor Zhivkov</td>\n",
       "      <td>Todor Zhivkov.Bulgaria.1954.1988.Civilian Dict</td>\n",
       "      <td>Non-democracy</td>\n",
       "      <td>Civilian Dict</td>\n",
       "      <td>1954</td>\n",
       "      <td>35</td>\n",
       "      <td>1</td>\n",
       "    </tr>\n",
       "    <tr>\n",
       "      <th>135</th>\n",
       "      <td>Belize</td>\n",
       "      <td>80</td>\n",
       "      <td>80.0</td>\n",
       "      <td>Central America</td>\n",
       "      <td>Americas</td>\n",
       "      <td>George Cadle Price</td>\n",
       "      <td>George Cadle Price.Belize.1981.1983.Parliament...</td>\n",
       "      <td>Democracy</td>\n",
       "      <td>Parliamentary Dem</td>\n",
       "      <td>1981</td>\n",
       "      <td>3</td>\n",
       "      <td>1</td>\n",
       "    </tr>\n",
       "  </tbody>\n",
       "</table>\n",
       "</div>"
      ],
      "text/plain": [
       "        ctryname  cowcode2  politycode   un_region_name un_continent_name  \\\n",
       "1010       Malta       338       338.0  Southern Europe            Europe   \n",
       "979   Madagascar       580       580.0   Eastern Africa            Africa   \n",
       "84       Austria       305       305.0   Western Europe            Europe   \n",
       "1798  Yugoslavia       345       345.0  Southern Europe            Europe   \n",
       "220     Bulgaria       355       355.0   Eastern Europe            Europe   \n",
       "135       Belize        80        80.0  Central America          Americas   \n",
       "\n",
       "                   ehead                                     leaderspellreg  \\\n",
       "1010     Dominic Mintoff  Dominic Mintoff.Malta.1971.1983.Parliamentary Dem   \n",
       "979     Didier Ratsiraka  Didier Ratsiraka.Madagascar.1975.1992.Military...   \n",
       "84     Alfred Gusenbauer      Alfred Gusenbauer.Austria.2007.2008.Mixed Dem   \n",
       "1798         Stipe Suvar     Stipe Suvar.Yugoslavia.1988.1988.Civilian Dict   \n",
       "220        Todor Zhivkov     Todor Zhivkov.Bulgaria.1954.1988.Civilian Dict   \n",
       "135   George Cadle Price  George Cadle Price.Belize.1981.1983.Parliament...   \n",
       "\n",
       "          democracy             regime  start_year  duration  observed  \n",
       "1010      Democracy  Parliamentary Dem        1971        13         1  \n",
       "979   Non-democracy      Military Dict        1975        18         1  \n",
       "84        Democracy          Mixed Dem        2007         2         0  \n",
       "1798  Non-democracy      Civilian Dict        1988         1         1  \n",
       "220   Non-democracy      Civilian Dict        1954        35         1  \n",
       "135       Democracy  Parliamentary Dem        1981         3         1  "
      ]
     },
     "execution_count": 20,
     "metadata": {},
     "output_type": "execute_result"
    }
   ],
   "source": [
    "import pandas as pd\n",
    "from lifelines.datasets import load_dd\n",
    "\n",
    "data = load_dd()\n",
    "\n",
    "data.sample(6)"
   ]
  },
  {
   "cell_type": "markdown",
   "metadata": {},
   "source": [
    "The DataFrame contains a column of `duration` and a boolean variable `observed` refers to whether the death (leaving office) was observed or not."
   ]
  },
  {
   "cell_type": "code",
   "execution_count": 21,
   "metadata": {
    "collapsed": true
   },
   "outputs": [],
   "source": [
    "from lifelines import KaplanMeierFitter\n",
    "kmf = KaplanMeierFitter()"
   ]
  },
  {
   "cell_type": "code",
   "execution_count": 22,
   "metadata": {
    "collapsed": true
   },
   "outputs": [],
   "source": [
    "#KaplanMeierFitter.fit?"
   ]
  },
  {
   "cell_type": "code",
   "execution_count": 23,
   "metadata": {},
   "outputs": [
    {
     "data": {
      "text/plain": [
       "<lifelines.KaplanMeierFitter: fitted with 1808 observations, 340 censored>"
      ]
     },
     "execution_count": 23,
     "metadata": {},
     "output_type": "execute_result"
    }
   ],
   "source": [
    "T = data[\"duration\"]\n",
    "E = data[\"observed\"]\n",
    "\n",
    "kmf.fit(T, event_observed=E)"
   ]
  },
  {
   "cell_type": "code",
   "execution_count": 24,
   "metadata": {},
   "outputs": [
    {
     "data": {
      "image/png": "[encoded data removed]",
      "text/plain": [
       "<matplotlib.figure.Figure at 0x7f79aacea990>"
      ]
     },
     "metadata": {},
     "output_type": "display_data"
    }
   ],
   "source": [
    "kmf.survival_function_.plot()\n",
    "plt.title('Survival function of political regimes');"
   ]
  },
  {
   "cell_type": "markdown",
   "metadata": {},
   "source": [
    "How do we interpret this figure? The y-axis represents the probability a leader is still around after t years, where t years is on the x-axis. We see that very few leaders make it past 20 years in office. Of course, like all good stats, we need to report how uncertain we are about these point estimates, i.e. we need confidence intervals. They are computed in the call to fit, and are located under the confidence_interval_property. \n",
    "\n",
    "Alternatively, we can call plot on the KaplanMeierFitter itself to plot both the KM estimate and its confidence intervals:"
   ]
  },
  {
   "cell_type": "code",
   "execution_count": 25,
   "metadata": {},
   "outputs": [
    {
     "data": {
      "text/plain": [
       "<matplotlib.axes._subplots.AxesSubplot at 0x7f79aaccdb50>"
      ]
     },
     "execution_count": 25,
     "metadata": {},
     "output_type": "execute_result"
    },
    {
     "data": {
      "image/png": "[encoded data removed]",
      "text/plain": [
       "<matplotlib.figure.Figure at 0x7f79aaca4ed0>"
      ]
     },
     "metadata": {},
     "output_type": "display_data"
    }
   ],
   "source": [
    "kmf.plot()"
   ]
  },
  {
   "cell_type": "markdown",
   "metadata": {},
   "source": [
    "Convert to a Plotly object:"
   ]
  },
  {
   "cell_type": "code",
   "execution_count": 26,
   "metadata": {},
   "outputs": [
    {
     "data": {
      "text/plain": [
       "4.0"
      ]
     },
     "execution_count": 26,
     "metadata": {},
     "output_type": "execute_result"
    }
   ],
   "source": [
    "# The median time in office (point in time where on average 1/2 of the population has expired):\n",
    "kmf.median_"
   ]
  },
  {
   "cell_type": "markdown",
   "metadata": {},
   "source": [
    "Interesting that it is only 4 years. That means, around the world, when a leader is elected there is a 50% chance he or she will be gone in 4 years!\n",
    "\n",
    "Let's segment on democratic regimes vs non-democratic regimes. Calling plot on either the estimate itself or the fitter object will return an axis object, that can be used for plotting further estimates:"
   ]
  },
  {
   "cell_type": "code",
   "execution_count": 27,
   "metadata": {},
   "outputs": [
    {
     "name": "stdout",
     "output_type": "stream",
     "text": [
      "('Median survival time of democratic:', 3.0)\n",
      "('Median survival time of non-democratic:', 6.0)\n"
     ]
    },
    {
     "data": {
      "image/png": "[encoded data removed]",
      "text/plain": [
       "<matplotlib.figure.Figure at 0x7f79aab89910>"
      ]
     },
     "metadata": {},
     "output_type": "display_data"
    }
   ],
   "source": [
    "ax = plt.subplot(111)\n",
    "\n",
    "t = np.linspace(0, 50, 51)\n",
    "\n",
    "dem = (data[\"democracy\"] == \"Democracy\")\n",
    "\n",
    "kmf.fit(T[dem], event_observed=E[dem], timeline=t, label=\"Democratic Regimes\")\n",
    "ax = kmf.plot(ax=ax)\n",
    "print(\"Median survival time of democratic:\", kmf.median_)\n",
    "\n",
    "kmf.fit(T[~dem], event_observed=E[~dem], timeline=t, label=\"Non-democratic Regimes\")\n",
    "ax = kmf.plot(ax=ax)\n",
    "print(\"Median survival time of non-democratic:\", kmf.median_)\n",
    "\n",
    "plt.ylim(0,1)\n",
    "plt.title(\"Lifespans of different global regimes\");"
   ]
  },
  {
   "cell_type": "markdown",
   "metadata": {},
   "source": [
    "It is incredible how much longer these non-democratic regimes exist for. A democratic regime does have a natural bias towards death though: both via elections and natural limits (the US imposes a strict 8 year limit). The median of a non-democractic is only a bit larger than a democratic regime, but the difference is really apparent in the tails: if you're a non-democratic leader, and you've made it past the 10 year mark, you probably have a long life ahead. Meanwhile, a democratic leader rarely makes it past 10 years, and then have a very short lifetime past that.\n",
    "\n",
    "Here the difference between survival functions is very obvious, and performing a statistical test seems pedantic. If the curves are more similar, or we possess less data, we may be interested in performing a statistical test. In this case, lifelines contains routines in `lifelines.statistics` to compare two survival curves. Below we demonstrate this routine. The function `logrank_test` is a common statistical test in survival analysis that compares two event series' generators. If the value returned exceeds some prespecified value, then we rule that the series have different generators."
   ]
  },
  {
   "cell_type": "code",
   "execution_count": 28,
   "metadata": {},
   "outputs": [
    {
     "name": "stdout",
     "output_type": "stream",
     "text": [
      "Results\n",
      "   df: 1\n",
      "   alpha: 0.99\n",
      "   t 0: -1\n",
      "   test: logrank\n",
      "   null distribution: chi squared\n",
      "\n",
      "   __ p-value ___|__ test statistic __|____ test result ____|__ is significant __\n",
      "         0.00000 |            260.470 |      Reject Null    |        True       \n"
     ]
    }
   ],
   "source": [
    "from lifelines.statistics import logrank_test\n",
    "\n",
    "results = logrank_test(T[dem], T[~dem], E[dem], E[~dem], alpha=.99)\n",
    "\n",
    "results.print_summary()"
   ]
  },
  {
   "cell_type": "markdown",
   "metadata": {},
   "source": [
    "Lets compare the different types of regimes present in the dataset:"
   ]
  },
  {
   "cell_type": "code",
   "execution_count": 29,
   "metadata": {},
   "outputs": [
    {
     "data": {
      "image/png": "[encoded data removed]",
      "text/plain": [
       "<matplotlib.figure.Figure at 0x7f79aaafd7d0>"
      ]
     },
     "metadata": {},
     "output_type": "display_data"
    }
   ],
   "source": [
    "regime_types = data['regime'].unique()\n",
    "\n",
    "for i,regime_type in enumerate(regime_types):\n",
    "    ax = plt.subplot(2, 3, i+1)\n",
    "    ix = data['regime'] == regime_type\n",
    "    kmf.fit( T[ix], E[ix], label=regime_type)\n",
    "    kmf.plot(ax=ax, legend=False)\n",
    "    plt.title(regime_type)\n",
    "    plt.xlim(0, 50)\n",
    "    if i==0:\n",
    "        plt.ylabel('Frac. in power after $n$ years')\n",
    "\n",
    "plt.tight_layout()"
   ]
  },
  {
   "cell_type": "markdown",
   "metadata": {},
   "source": [
    "#### Getting data into the right format"
   ]
  },
  {
   "cell_type": "markdown",
   "metadata": {},
   "source": [
    "Lifelines data format is consistent across all estimator class and functions: an array of individual durations, and the individuals event observation (if any). These are often denoted T and E respectively. For example:"
   ]
  },
  {
   "cell_type": "code",
   "execution_count": 31,
   "metadata": {},
   "outputs": [
    {
     "data": {
      "text/plain": [
       "<lifelines.KaplanMeierFitter: fitted with 6 observations, 2 censored>"
      ]
     },
     "execution_count": 31,
     "metadata": {},
     "output_type": "execute_result"
    }
   ],
   "source": [
    "T = [0,3,3,2,1,2]\n",
    "E = [1,1,0,0,1,1]\n",
    "kmf.fit(T, event_observed=E)"
   ]
  },
  {
   "cell_type": "markdown",
   "metadata": {},
   "source": [
    "The raw data is not always available in this format - lifelines includes some helper functions to transform data formats to lifelines format. These are located in the `lifelines.utils` sublibrary. For example, the function `datetimes_to_durations` accepts an array or Pandas object of start times/dates, and an array or Pandas objects of end times/dates (or None if not observed):"
   ]
  },
  {
   "cell_type": "code",
   "execution_count": 32,
   "metadata": {},
   "outputs": [
    {
     "name": "stdout",
     "output_type": "stream",
     "text": [
      "('T (durations): ', array([ 3.,  1.,  5.]))\n",
      "('E (event_observed): ', array([ True,  True, False], dtype=bool))\n"
     ]
    }
   ],
   "source": [
    "from lifelines.utils import datetimes_to_durations\n",
    "\n",
    "start_date = ['2013-10-10 0:00:00', '2013-10-09', '2013-10-10']\n",
    "end_date = ['2013-10-13', '2013-10-10', None]\n",
    "T, E = datetimes_to_durations(start_date, end_date, fill_date='2013-10-15')\n",
    "print('T (durations): ', T)\n",
    "print('E (event_observed): ', E)"
   ]
  },
  {
   "cell_type": "markdown",
   "metadata": {},
   "source": [
    "#### Fitting to a Weibull model"
   ]
  },
  {
   "cell_type": "markdown",
   "metadata": {},
   "source": [
    "A very popular model for reliability data is the Weibull model. In contrast the the Kaplan-Meier estimator, this model is a parametric model, meaning it has a functional form with parameters that we are fitting the data to. In lifelines, this is implemented in the WeibullFitter:"
   ]
  },
  {
   "cell_type": "code",
   "execution_count": 35,
   "metadata": {},
   "outputs": [
    {
     "name": "stdout",
     "output_type": "stream",
     "text": [
      "(0.16366017864643498, 0.94264634310995588)\n",
      "n=1808, number of events=1468\n",
      "\n",
      "             coef  se(coef)  lower 0.95  upper 0.95\n",
      "lambda_ 1.637e-01 4.603e-03   1.546e-01   1.727e-01\n",
      "rho_    9.426e-01 1.799e-02   9.074e-01   9.779e-01\n"
     ]
    },
    {
     "data": {
      "text/plain": [
       "<matplotlib.axes._subplots.AxesSubplot at 0x7f79aac78750>"
      ]
     },
     "execution_count": 35,
     "metadata": {},
     "output_type": "execute_result"
    },
    {
     "data": {
      "image/png": "[encoded data removed]",
      "text/plain": [
       "<matplotlib.figure.Figure at 0x7f79aab493d0>"
      ]
     },
     "metadata": {},
     "output_type": "display_data"
    }
   ],
   "source": [
    "from lifelines import WeibullFitter\n",
    "\n",
    "T = data['duration']\n",
    "E = data['observed']\n",
    "\n",
    "wf = WeibullFitter()\n",
    "wf.fit(T, E)\n",
    "print(wf.lambda_, wf.rho_)\n",
    "wf.print_summary()\n",
    "wf.plot_cumulative_hazard()"
   ]
  },
  {
   "cell_type": "markdown",
   "metadata": {},
   "source": [
    "### Estimating hazard rates using the Nelson-Aalen"
   ]
  },
  {
   "cell_type": "markdown",
   "metadata": {},
   "source": [
    "The survival curve is a great way to summarize and visualize the lifetime data, however it is not the only way. If we are curious about the hazard function $\\lambda(t)$ of a population, we unfortunately cannot transform the Kaplan Meier estimate. Fortunately, there is a proper estimator of the cumulative hazard function:\n",
    "\n",
    "$$\n",
    "\\Lambda(t) = \\int_0^t \\ \\lambda(z)\\ dz\n",
    "$$\n",
    "\n",
    "The estimator for this quantity is called the Nelson-Aalen estimator:\n",
    "\n",
    "$$\n",
    "\\hat\\Lambda(t) = \\sum_{t_i\\leq t} \\frac{d_i}{n_i}\n",
    "$$\n",
    "\n",
    "where $d_i$ is the number of deaths at time $t_i$ and $n_i$ is the number of susceptible individuals."
   ]
  },
  {
   "cell_type": "code",
   "execution_count": 37,
   "metadata": {},
   "outputs": [
    {
     "data": {
      "text/plain": [
       "<lifelines.NelsonAalenFitter: fitted with 1808 observations, 340 censored>"
      ]
     },
     "execution_count": 37,
     "metadata": {},
     "output_type": "execute_result"
    }
   ],
   "source": [
    "T = data[\"duration\"]\n",
    "E = data[\"observed\"]\n",
    "\n",
    "from lifelines import NelsonAalenFitter\n",
    "naf = NelsonAalenFitter()\n",
    "\n",
    "naf.fit(T,event_observed=E)"
   ]
  },
  {
   "cell_type": "code",
   "execution_count": 38,
   "metadata": {},
   "outputs": [
    {
     "name": "stdout",
     "output_type": "stream",
     "text": [
      "          NA_estimate\n",
      "timeline             \n",
      "0.0          0.000000\n",
      "1.0          0.325912\n",
      "2.0          0.507356\n",
      "3.0          0.671251\n",
      "4.0          0.869867\n"
     ]
    },
    {
     "data": {
      "text/plain": [
       "<matplotlib.axes._subplots.AxesSubplot at 0x7f79b8d47950>"
      ]
     },
     "execution_count": 38,
     "metadata": {},
     "output_type": "execute_result"
    },
    {
     "data": {
      "image/png": "[encoded data removed]",
      "text/plain": [
       "<matplotlib.figure.Figure at 0x7f79b8e67a90>"
      ]
     },
     "metadata": {},
     "output_type": "display_data"
    }
   ],
   "source": [
    "print(naf.cumulative_hazard_.head())\n",
    "naf.plot()"
   ]
  },
  {
   "cell_type": "markdown",
   "metadata": {},
   "source": [
    "The rate of change of the curve above is an estimate of the hazard function. Looking at figure above, it looks like the hazard starts off high and gets smaller (as seen by the decreasing rate of change). Let's break the regimes down between democratic and non-democratic, during the first 20 years:"
   ]
  },
  {
   "cell_type": "code",
   "execution_count": 39,
   "metadata": {},
   "outputs": [
    {
     "data": {
      "image/png": "[encoded data removed]",
      "text/plain": [
       "<matplotlib.figure.Figure at 0x7f79aaea6090>"
      ]
     },
     "metadata": {},
     "output_type": "display_data"
    }
   ],
   "source": [
    "naf.fit(T[dem], event_observed=E[dem], label=\"Democratic Regimes\")\n",
    "ax = naf.plot(loc=slice(0, 20))\n",
    "naf.fit(T[~dem], event_observed=E[~dem], label=\"Non-democratic Regimes\")\n",
    "naf.plot(ax=ax, loc=slice(0, 20))\n",
    "plt.title(\"Cumulative hazard function of different global regimes\");"
   ]
  },
  {
   "cell_type": "markdown",
   "metadata": {},
   "source": [
    "Looking at the rates of change, we can say that both political philosophies have a constant hazard, albeit democratic regimes have a much higher constant hazard. So why did the combination of both regimes have a decreasing hazard? This is the effect of **frailty**, a topic we will discuss later."
   ]
  },
  {
   "cell_type": "markdown",
   "metadata": {},
   "source": [
    "#### Smoothing the hazard curve"
   ]
  },
  {
   "cell_type": "markdown",
   "metadata": {},
   "source": [
    "Interpretation of the cumulative hazard function can be difficult. Alternatively, we can derive the more-interpretable hazard curve, but there is a catch. The derivation involves a kernel smoother (to smooth out the differences of the cumulative hazard curve), and this requires us to specify a bandwidth parameter that controls the amount of smoothing. This functionality is provided in the `smoothed_hazard_` and `hazard_confidence_intervals_` methods.\n",
    "\n",
    "There is also a `plot_hazard` function (that also requires a bandwidth keyword) that will plot the estimate plus the confidence intervals, similar to the traditional plot functionality."
   ]
  },
  {
   "cell_type": "code",
   "execution_count": 40,
   "metadata": {},
   "outputs": [
    {
     "data": {
      "image/png": "[encoded data removed]",
      "text/plain": [
       "<matplotlib.figure.Figure at 0x7f79aad8af50>"
      ]
     },
     "metadata": {},
     "output_type": "display_data"
    }
   ],
   "source": [
    "b = 3.\n",
    "naf.fit(T[dem], event_observed=E[dem], label=\"Democratic Regimes\")\n",
    "ax = naf.plot_hazard(bandwidth=b)\n",
    "naf.fit(T[~dem], event_observed=E[~dem], label=\"Non-democratic Regimes\")\n",
    "naf.plot_hazard(ax=ax, bandwidth=b)\n",
    "plt.title(\"Hazard function of different global regimes | bandwidth=%.1f\"%b);\n",
    "plt.ylim(0, 0.4)\n",
    "plt.xlim(0, 25);"
   ]
  },
  {
   "cell_type": "markdown",
   "metadata": {},
   "source": [
    "There is no obvious way to choose a bandwidth, and different bandwidths can produce different inferences, so best to be very careful here. **(advice: stick with the cumulative hazard function.)**"
   ]
  },
  {
   "cell_type": "code",
   "execution_count": 41,
   "metadata": {},
   "outputs": [
    {
     "data": {
      "image/png": "[encoded data removed]",
      "text/plain": [
       "<matplotlib.figure.Figure at 0x7f79aadaad10>"
      ]
     },
     "metadata": {},
     "output_type": "display_data"
    }
   ],
   "source": [
    "b = 8.\n",
    "naf.fit(T[dem], event_observed=E[dem], label=\"Democratic Regimes\")\n",
    "ax = naf.plot_hazard(bandwidth=b)\n",
    "naf.fit(T[~dem], event_observed=E[~dem], label=\"Non-democratic Regimes\")\n",
    "naf.plot_hazard(ax=ax, bandwidth=b)\n",
    "plt.title(\"Hazard function of different global regimes | bandwidth=%.1f\"%b);"
   ]
  },
  {
   "cell_type": "markdown",
   "metadata": {},
   "source": [
    "### Other types of censorship"
   ]
  },
  {
   "cell_type": "markdown",
   "metadata": {},
   "source": [
    "#### Left Censored Data\n",
    "\n",
    "There are situations where we do not observe the birth event occurring, and this is called left-censored data. `lifelines` has support for left-censored datasets in the `KaplanMeierFitter` class, by adding the keyword `left_censorship=True` (default False) to the call to fit."
   ]
  },
  {
   "cell_type": "code",
   "execution_count": 45,
   "metadata": {},
   "outputs": [
    {
     "data": {
      "text/plain": [
       "<lifelines.KaplanMeierFitter: fitted with 55 observations, 12 censored>"
      ]
     },
     "execution_count": 45,
     "metadata": {},
     "output_type": "execute_result"
    }
   ],
   "source": [
    "from lifelines.datasets import load_lcd\n",
    "lcd_dataset = load_lcd()\n",
    "\n",
    "ix = lcd_dataset['group'] == 'alluvial_fan'\n",
    "\n",
    "T = lcd_dataset[ix]['T']\n",
    "E = lcd_dataset[ix]['C'] #boolean array, True if observed.\n",
    "\n",
    "kmf = KaplanMeierFitter()\n",
    "kmf.fit(T, E, left_censorship=True)"
   ]
  },
  {
   "cell_type": "code",
   "execution_count": 46,
   "metadata": {},
   "outputs": [
    {
     "name": "stdout",
     "output_type": "stream",
     "text": [
      "          KM_estimate\n",
      "timeline             \n",
      "0.0          0.087646\n",
      "1.0          0.197203\n",
      "2.0          0.657343\n",
      "3.0          0.788811\n",
      "4.0          0.854545\n",
      "5.0          0.909091\n",
      "7.0          0.963636\n",
      "8.0          0.981818\n",
      "9.0          1.000000\n"
     ]
    },
    {
     "data": {
      "text/plain": [
       "<matplotlib.axes._subplots.AxesSubplot at 0x7f79aa837f90>"
      ]
     },
     "execution_count": 46,
     "metadata": {},
     "output_type": "execute_result"
    },
    {
     "data": {
      "image/png": "[encoded data removed]",
      "text/plain": [
       "<matplotlib.figure.Figure at 0x7f79b8d9ab50>"
      ]
     },
     "metadata": {},
     "output_type": "display_data"
    }
   ],
   "source": [
    "print(kmf.cumulative_density_)\n",
    "kmf.plot() #will plot the CDF"
   ]
  },
  {
   "cell_type": "markdown",
   "metadata": {},
   "source": [
    "#### Left Truncated Data\n",
    "\n",
    "Another form of bias that can be introduced into a dataset is called left-truncation. (Also a form of censorship). This occurs when individuals may die even before ever entering into the study. Both `KaplanMeierFitter` and `NelsonAalenFitter` have an optional arugment for entry, which is an array of equal size to the duration array. It describes the offset from birth to entering the study. This is also useful when subjects enter the study at different points in their lifetime. For example, if you are measuring time to death of prisoners in prison, the prisoners will enter the study at different ages.\n",
    "\n",
    "> Other types of censorship, like interval-censorship, are not implemented in lifelines yet."
   ]
  },
  {
   "cell_type": "markdown",
   "metadata": {},
   "source": [
    "## Survival Regression"
   ]
  },
  {
   "cell_type": "markdown",
   "metadata": {},
   "source": [
    "### Aalen’s Additive model (experimental implementation)"
   ]
  },
  {
   "cell_type": "markdown",
   "metadata": {},
   "source": [
    "**Data**: For this example, we will use the regime dataset and include the categorical variables `un_continent_name` (eg: Asia, North America, ...), the `regime` type (eg: monarchy, civilan, ...) and the year the regime started in, `start_year`.\n",
    "\n",
    "Aalen's additive model typically does not estimate the individual $b_i(t)$ but instead estimates $\\int_0^t b_i(s)ds$ (similar to the estimate of the hazard rate using `NelsonAalenFitter` above). This is important to keep in mind when analzying the output"
   ]
  },
  {
   "cell_type": "code",
   "execution_count": 47,
   "metadata": {},
   "outputs": [
    {
     "data": {
      "text/html": [
       "<div>\n",
       "<style>\n",
       "    .dataframe thead tr:only-child th {\n",
       "        text-align: right;\n",
       "    }\n",
       "\n",
       "    .dataframe thead th {\n",
       "        text-align: left;\n",
       "    }\n",
       "\n",
       "    .dataframe tbody tr th {\n",
       "        vertical-align: top;\n",
       "    }\n",
       "</style>\n",
       "<table border=\"1\" class=\"dataframe\">\n",
       "  <thead>\n",
       "    <tr style=\"text-align: right;\">\n",
       "      <th></th>\n",
       "      <th>ctryname</th>\n",
       "      <th>cowcode2</th>\n",
       "      <th>politycode</th>\n",
       "      <th>un_region_name</th>\n",
       "      <th>un_continent_name</th>\n",
       "      <th>ehead</th>\n",
       "      <th>leaderspellreg</th>\n",
       "      <th>democracy</th>\n",
       "      <th>regime</th>\n",
       "      <th>start_year</th>\n",
       "      <th>duration</th>\n",
       "      <th>observed</th>\n",
       "    </tr>\n",
       "  </thead>\n",
       "  <tbody>\n",
       "    <tr>\n",
       "      <th>0</th>\n",
       "      <td>Afghanistan</td>\n",
       "      <td>700</td>\n",
       "      <td>700.0</td>\n",
       "      <td>Southern Asia</td>\n",
       "      <td>Asia</td>\n",
       "      <td>Mohammad Zahir Shah</td>\n",
       "      <td>Mohammad Zahir Shah.Afghanistan.1946.1952.Mona...</td>\n",
       "      <td>Non-democracy</td>\n",
       "      <td>Monarchy</td>\n",
       "      <td>1946</td>\n",
       "      <td>7</td>\n",
       "      <td>1</td>\n",
       "    </tr>\n",
       "    <tr>\n",
       "      <th>1</th>\n",
       "      <td>Afghanistan</td>\n",
       "      <td>700</td>\n",
       "      <td>700.0</td>\n",
       "      <td>Southern Asia</td>\n",
       "      <td>Asia</td>\n",
       "      <td>Sardar Mohammad Daoud</td>\n",
       "      <td>Sardar Mohammad Daoud.Afghanistan.1953.1962.Ci...</td>\n",
       "      <td>Non-democracy</td>\n",
       "      <td>Civilian Dict</td>\n",
       "      <td>1953</td>\n",
       "      <td>10</td>\n",
       "      <td>1</td>\n",
       "    </tr>\n",
       "    <tr>\n",
       "      <th>2</th>\n",
       "      <td>Afghanistan</td>\n",
       "      <td>700</td>\n",
       "      <td>700.0</td>\n",
       "      <td>Southern Asia</td>\n",
       "      <td>Asia</td>\n",
       "      <td>Mohammad Zahir Shah</td>\n",
       "      <td>Mohammad Zahir Shah.Afghanistan.1963.1972.Mona...</td>\n",
       "      <td>Non-democracy</td>\n",
       "      <td>Monarchy</td>\n",
       "      <td>1963</td>\n",
       "      <td>10</td>\n",
       "      <td>1</td>\n",
       "    </tr>\n",
       "    <tr>\n",
       "      <th>3</th>\n",
       "      <td>Afghanistan</td>\n",
       "      <td>700</td>\n",
       "      <td>700.0</td>\n",
       "      <td>Southern Asia</td>\n",
       "      <td>Asia</td>\n",
       "      <td>Sardar Mohammad Daoud</td>\n",
       "      <td>Sardar Mohammad Daoud.Afghanistan.1973.1977.Ci...</td>\n",
       "      <td>Non-democracy</td>\n",
       "      <td>Civilian Dict</td>\n",
       "      <td>1973</td>\n",
       "      <td>5</td>\n",
       "      <td>0</td>\n",
       "    </tr>\n",
       "    <tr>\n",
       "      <th>4</th>\n",
       "      <td>Afghanistan</td>\n",
       "      <td>700</td>\n",
       "      <td>700.0</td>\n",
       "      <td>Southern Asia</td>\n",
       "      <td>Asia</td>\n",
       "      <td>Nur Mohammad Taraki</td>\n",
       "      <td>Nur Mohammad Taraki.Afghanistan.1978.1978.Civi...</td>\n",
       "      <td>Non-democracy</td>\n",
       "      <td>Civilian Dict</td>\n",
       "      <td>1978</td>\n",
       "      <td>1</td>\n",
       "      <td>0</td>\n",
       "    </tr>\n",
       "  </tbody>\n",
       "</table>\n",
       "</div>"
      ],
      "text/plain": [
       "      ctryname  cowcode2  politycode un_region_name un_continent_name  \\\n",
       "0  Afghanistan       700       700.0  Southern Asia              Asia   \n",
       "1  Afghanistan       700       700.0  Southern Asia              Asia   \n",
       "2  Afghanistan       700       700.0  Southern Asia              Asia   \n",
       "3  Afghanistan       700       700.0  Southern Asia              Asia   \n",
       "4  Afghanistan       700       700.0  Southern Asia              Asia   \n",
       "\n",
       "                   ehead                                     leaderspellreg  \\\n",
       "0    Mohammad Zahir Shah  Mohammad Zahir Shah.Afghanistan.1946.1952.Mona...   \n",
       "1  Sardar Mohammad Daoud  Sardar Mohammad Daoud.Afghanistan.1953.1962.Ci...   \n",
       "2    Mohammad Zahir Shah  Mohammad Zahir Shah.Afghanistan.1963.1972.Mona...   \n",
       "3  Sardar Mohammad Daoud  Sardar Mohammad Daoud.Afghanistan.1973.1977.Ci...   \n",
       "4    Nur Mohammad Taraki  Nur Mohammad Taraki.Afghanistan.1978.1978.Civi...   \n",
       "\n",
       "       democracy         regime  start_year  duration  observed  \n",
       "0  Non-democracy       Monarchy        1946         7         1  \n",
       "1  Non-democracy  Civilian Dict        1953        10         1  \n",
       "2  Non-democracy       Monarchy        1963        10         1  \n",
       "3  Non-democracy  Civilian Dict        1973         5         0  \n",
       "4  Non-democracy  Civilian Dict        1978         1         0  "
      ]
     },
     "execution_count": 47,
     "metadata": {},
     "output_type": "execute_result"
    }
   ],
   "source": [
    "from lifelines import AalenAdditiveFitter\n",
    "data.head()"
   ]
  },
  {
   "cell_type": "markdown",
   "metadata": {},
   "source": [
    "Create a design matrix with pasty"
   ]
  },
  {
   "cell_type": "code",
   "execution_count": 49,
   "metadata": {},
   "outputs": [
    {
     "data": {
      "text/plain": [
       "Index([u'un_continent_name[Africa]', u'un_continent_name[Americas]',\n",
       "       u'un_continent_name[Asia]', u'un_continent_name[Europe]',\n",
       "       u'un_continent_name[Oceania]', u'regime[T.Military Dict]',\n",
       "       u'regime[T.Mixed Dem]', u'regime[T.Monarchy]',\n",
       "       u'regime[T.Parliamentary Dem]', u'regime[T.Presidential Dem]',\n",
       "       u'start_year'],\n",
       "      dtype='object')"
      ]
     },
     "execution_count": 49,
     "metadata": {},
     "output_type": "execute_result"
    }
   ],
   "source": [
    "import patsy\n",
    "# the '-1' term refers to not adding an intercept column (a column of all 1s).\n",
    "X = patsy.dmatrix('un_continent_name + regime + start_year - 1', data, return_type='dataframe')\n",
    "X.columns"
   ]
  },
  {
   "cell_type": "markdown",
   "metadata": {},
   "source": [
    "Below we create our fitter class:\n",
    "\n",
    "- Since we did not supply an intercept column in our matrix we have included the keyword `fit_intercept=True` (True by default) which will append the column of ones to our matrix. (Sidenote: the intercept term, $b_0(t)$ in survival regression is often referred to as the **baseline hazard**.)\n",
    "\n",
    "- We have also included the `coef_penalizer` option. During the estimation, a linear regression is computed at each step. Often the regression can be unstable (due to high co-linearity or small sample sizes) - adding a penalizer term controls the stability. It is recommended always starting with a small penalizer term - if the estimates still appear to be too unstable, try increasing it."
   ]
  },
  {
   "cell_type": "code",
   "execution_count": 52,
   "metadata": {
    "scrolled": true
   },
   "outputs": [
    {
     "name": "stdout",
     "output_type": "stream",
     "text": [
      " [-----------------100%-----------------] 1468 of 1468 complete in 1.1 sec\n"
     ]
    },
    {
     "data": {
      "text/plain": [
       "<lifelines.AalenAdditiveFitter: fitted with 1808 observations, 340 censored>"
      ]
     },
     "execution_count": 52,
     "metadata": {},
     "output_type": "execute_result"
    }
   ],
   "source": [
    "aaf = AalenAdditiveFitter(coef_penalizer=1.0, fit_intercept=True)\n",
    "\n",
    "X['T'] = data['duration']\n",
    "X['E'] = data['observed']\n",
    "\n",
    "aaf.fit(X, 'T', event_col='E')"
   ]
  },
  {
   "cell_type": "markdown",
   "metadata": {},
   "source": [
    "After fitting, the instance exposes a cumulative_hazards_ DataFrame containing the estimates of $\\int_0^t b_i(s)ds$:"
   ]
  },
  {
   "cell_type": "code",
   "execution_count": 57,
   "metadata": {},
   "outputs": [
    {
     "data": {
      "text/html": [
       "<div>\n",
       "<style>\n",
       "    .dataframe thead tr:only-child th {\n",
       "        text-align: right;\n",
       "    }\n",
       "\n",
       "    .dataframe thead th {\n",
       "        text-align: left;\n",
       "    }\n",
       "\n",
       "    .dataframe tbody tr th {\n",
       "        vertical-align: top;\n",
       "    }\n",
       "</style>\n",
       "<table border=\"1\" class=\"dataframe\">\n",
       "  <thead>\n",
       "    <tr style=\"text-align: right;\">\n",
       "      <th></th>\n",
       "      <th>un_continent_name[Africa]</th>\n",
       "      <th>un_continent_name[Americas]</th>\n",
       "      <th>un_continent_name[Asia]</th>\n",
       "      <th>un_continent_name[Europe]</th>\n",
       "      <th>un_continent_name[Oceania]</th>\n",
       "      <th>regime[T.Military Dict]</th>\n",
       "      <th>regime[T.Mixed Dem]</th>\n",
       "      <th>regime[T.Monarchy]</th>\n",
       "      <th>regime[T.Parliamentary Dem]</th>\n",
       "      <th>regime[T.Presidential Dem]</th>\n",
       "      <th>start_year</th>\n",
       "      <th>baseline</th>\n",
       "    </tr>\n",
       "  </thead>\n",
       "  <tbody>\n",
       "    <tr>\n",
       "      <th>1</th>\n",
       "      <td>-0.051595</td>\n",
       "      <td>-0.082406</td>\n",
       "      <td>0.010666</td>\n",
       "      <td>0.154493</td>\n",
       "      <td>-0.060438</td>\n",
       "      <td>0.075333</td>\n",
       "      <td>0.086274</td>\n",
       "      <td>-0.133938</td>\n",
       "      <td>0.048077</td>\n",
       "      <td>0.127171</td>\n",
       "      <td>0.000116</td>\n",
       "      <td>-0.029280</td>\n",
       "    </tr>\n",
       "    <tr>\n",
       "      <th>2</th>\n",
       "      <td>-0.014713</td>\n",
       "      <td>-0.039471</td>\n",
       "      <td>0.095668</td>\n",
       "      <td>0.194251</td>\n",
       "      <td>-0.092696</td>\n",
       "      <td>0.115033</td>\n",
       "      <td>0.358702</td>\n",
       "      <td>-0.226233</td>\n",
       "      <td>0.168783</td>\n",
       "      <td>0.121862</td>\n",
       "      <td>0.000053</td>\n",
       "      <td>0.143039</td>\n",
       "    </tr>\n",
       "    <tr>\n",
       "      <th>3</th>\n",
       "      <td>0.007389</td>\n",
       "      <td>-0.064758</td>\n",
       "      <td>0.115121</td>\n",
       "      <td>0.170549</td>\n",
       "      <td>0.069371</td>\n",
       "      <td>0.161490</td>\n",
       "      <td>0.677347</td>\n",
       "      <td>-0.271183</td>\n",
       "      <td>0.328483</td>\n",
       "      <td>0.146234</td>\n",
       "      <td>0.000004</td>\n",
       "      <td>0.297672</td>\n",
       "    </tr>\n",
       "    <tr>\n",
       "      <th>4</th>\n",
       "      <td>-0.058418</td>\n",
       "      <td>0.011399</td>\n",
       "      <td>0.091784</td>\n",
       "      <td>0.205824</td>\n",
       "      <td>0.125722</td>\n",
       "      <td>0.220028</td>\n",
       "      <td>0.932674</td>\n",
       "      <td>-0.294900</td>\n",
       "      <td>0.365604</td>\n",
       "      <td>0.422617</td>\n",
       "      <td>0.000002</td>\n",
       "      <td>0.376311</td>\n",
       "    </tr>\n",
       "    <tr>\n",
       "      <th>5</th>\n",
       "      <td>-0.099282</td>\n",
       "      <td>0.106641</td>\n",
       "      <td>0.112083</td>\n",
       "      <td>0.150708</td>\n",
       "      <td>0.091900</td>\n",
       "      <td>0.241575</td>\n",
       "      <td>1.123860</td>\n",
       "      <td>-0.391103</td>\n",
       "      <td>0.536185</td>\n",
       "      <td>0.743913</td>\n",
       "      <td>0.000057</td>\n",
       "      <td>0.362049</td>\n",
       "    </tr>\n",
       "  </tbody>\n",
       "</table>\n",
       "</div>"
      ],
      "text/plain": [
       "   un_continent_name[Africa]  un_continent_name[Americas]  \\\n",
       "1                  -0.051595                    -0.082406   \n",
       "2                  -0.014713                    -0.039471   \n",
       "3                   0.007389                    -0.064758   \n",
       "4                  -0.058418                     0.011399   \n",
       "5                  -0.099282                     0.106641   \n",
       "\n",
       "   un_continent_name[Asia]  un_continent_name[Europe]  \\\n",
       "1                 0.010666                   0.154493   \n",
       "2                 0.095668                   0.194251   \n",
       "3                 0.115121                   0.170549   \n",
       "4                 0.091784                   0.205824   \n",
       "5                 0.112083                   0.150708   \n",
       "\n",
       "   un_continent_name[Oceania]  regime[T.Military Dict]  regime[T.Mixed Dem]  \\\n",
       "1                   -0.060438                 0.075333             0.086274   \n",
       "2                   -0.092696                 0.115033             0.358702   \n",
       "3                    0.069371                 0.161490             0.677347   \n",
       "4                    0.125722                 0.220028             0.932674   \n",
       "5                    0.091900                 0.241575             1.123860   \n",
       "\n",
       "   regime[T.Monarchy]  regime[T.Parliamentary Dem]  \\\n",
       "1           -0.133938                     0.048077   \n",
       "2           -0.226233                     0.168783   \n",
       "3           -0.271183                     0.328483   \n",
       "4           -0.294900                     0.365604   \n",
       "5           -0.391103                     0.536185   \n",
       "\n",
       "   regime[T.Presidential Dem]  start_year  baseline  \n",
       "1                    0.127171    0.000116 -0.029280  \n",
       "2                    0.121862    0.000053  0.143039  \n",
       "3                    0.146234    0.000004  0.297672  \n",
       "4                    0.422617    0.000002  0.376311  \n",
       "5                    0.743913    0.000057  0.362049  "
      ]
     },
     "execution_count": 57,
     "metadata": {},
     "output_type": "execute_result"
    },
    {
     "data": {
      "text/plain": [
       "<matplotlib.figure.Figure at 0x7f79aa4ff490>"
      ]
     },
     "metadata": {},
     "output_type": "display_data"
    }
   ],
   "source": [
    "plt.figure(figsize=(12.5,8))\n",
    "aaf.cumulative_hazards_.head()"
   ]
  },
  {
   "cell_type": "code",
   "execution_count": 58,
   "metadata": {},
   "outputs": [
    {
     "data": {
      "text/plain": [
       "<matplotlib.axes._subplots.AxesSubplot at 0x7f79aa59ba50>"
      ]
     },
     "execution_count": 58,
     "metadata": {},
     "output_type": "execute_result"
    },
    {
     "data": {
      "image/png": "[encoded data removed]",
      "text/plain": [
       "<matplotlib.figure.Figure at 0x7f79aa62c550>"
      ]
     },
     "metadata": {},
     "output_type": "display_data"
    }
   ],
   "source": [
    "aaf.plot(columns=['regime[T.Presidential Dem]', 'baseline', 'un_continent_name[Europe]'], iloc=slice(1,15))"
   ]
  },
  {
   "cell_type": "markdown",
   "metadata": {},
   "source": [
    "We can use what we have learned to predict individual hazard rates, survival functions, and median survival time. The dataset we are using is aviable up until 2008, so let's use this data to predict the (already partly seen) possible duration of Canadian Prime Minister Stephen Harper."
   ]
  },
  {
   "cell_type": "code",
   "execution_count": 61,
   "metadata": {},
   "outputs": [
    {
     "name": "stdout",
     "output_type": "stream",
     "text": [
      "Harper's unique data point:\n"
     ]
    },
    {
     "data": {
      "text/html": [
       "<div>\n",
       "<style>\n",
       "    .dataframe thead tr:only-child th {\n",
       "        text-align: right;\n",
       "    }\n",
       "\n",
       "    .dataframe thead th {\n",
       "        text-align: left;\n",
       "    }\n",
       "\n",
       "    .dataframe tbody tr th {\n",
       "        vertical-align: top;\n",
       "    }\n",
       "</style>\n",
       "<table border=\"1\" class=\"dataframe\">\n",
       "  <thead>\n",
       "    <tr style=\"text-align: right;\">\n",
       "      <th></th>\n",
       "      <th>un_continent_name[Africa]</th>\n",
       "      <th>un_continent_name[Americas]</th>\n",
       "      <th>un_continent_name[Asia]</th>\n",
       "      <th>un_continent_name[Europe]</th>\n",
       "      <th>un_continent_name[Oceania]</th>\n",
       "      <th>regime[T.Military Dict]</th>\n",
       "      <th>regime[T.Mixed Dem]</th>\n",
       "      <th>regime[T.Monarchy]</th>\n",
       "      <th>regime[T.Parliamentary Dem]</th>\n",
       "      <th>regime[T.Presidential Dem]</th>\n",
       "      <th>start_year</th>\n",
       "      <th>T</th>\n",
       "      <th>E</th>\n",
       "    </tr>\n",
       "  </thead>\n",
       "  <tbody>\n",
       "    <tr>\n",
       "      <th>268</th>\n",
       "      <td>0.0</td>\n",
       "      <td>1.0</td>\n",
       "      <td>0.0</td>\n",
       "      <td>0.0</td>\n",
       "      <td>0.0</td>\n",
       "      <td>0.0</td>\n",
       "      <td>0.0</td>\n",
       "      <td>0.0</td>\n",
       "      <td>1.0</td>\n",
       "      <td>0.0</td>\n",
       "      <td>2006.0</td>\n",
       "      <td>3</td>\n",
       "      <td>0</td>\n",
       "    </tr>\n",
       "  </tbody>\n",
       "</table>\n",
       "</div>"
      ],
      "text/plain": [
       "     un_continent_name[Africa]  un_continent_name[Americas]  \\\n",
       "268                        0.0                          1.0   \n",
       "\n",
       "     un_continent_name[Asia]  un_continent_name[Europe]  \\\n",
       "268                      0.0                        0.0   \n",
       "\n",
       "     un_continent_name[Oceania]  regime[T.Military Dict]  regime[T.Mixed Dem]  \\\n",
       "268                         0.0                      0.0                  0.0   \n",
       "\n",
       "     regime[T.Monarchy]  regime[T.Parliamentary Dem]  \\\n",
       "268                 0.0                          1.0   \n",
       "\n",
       "     regime[T.Presidential Dem]  start_year  T  E  \n",
       "268                         0.0      2006.0  3  0  "
      ]
     },
     "execution_count": 61,
     "metadata": {},
     "output_type": "execute_result"
    }
   ],
   "source": [
    "ix = (data['ctryname'] == 'Canada') * (data['start_year'] == 2006)\n",
    "harper = X.loc[ix]\n",
    "print(\"Harper's unique data point:\")\n",
    "harper"
   ]
  },
  {
   "cell_type": "code",
   "execution_count": 62,
   "metadata": {},
   "outputs": [
    {
     "data": {
      "image/png": "[encoded data removed]",
      "text/plain": [
       "<matplotlib.figure.Figure at 0x7f79aa4a8c10>"
      ]
     },
     "metadata": {},
     "output_type": "display_data"
    }
   ],
   "source": [
    "ax = plt.subplot(2,1,1)\n",
    "\n",
    "aaf.predict_cumulative_hazard(harper).plot(ax=ax)\n",
    "ax = plt.subplot(2,1,2)\n",
    "\n",
    "aaf.predict_survival_function(harper).plot(ax=ax);"
   ]
  },
  {
   "cell_type": "markdown",
   "metadata": {},
   "source": [
    "### Cox's Proportional Hazard model"
   ]
  },
  {
   "cell_type": "markdown",
   "metadata": {},
   "source": [
    "#### Fit results"
   ]
  },
  {
   "cell_type": "markdown",
   "metadata": {},
   "source": [
    "This model is of the form:\n",
    "\n",
    "$$\n",
    "\\lambda(t|X) = b_0(t)\\exp\\left(\\sum_{i=1}^d\\ b_i\\ x_i\\right)\n",
    "$$\n",
    "\n",
    "Note a few facts about this model: the only time component is in the baseline hazard, $b_0(t)$. In the above product, the second term is only a scalar factor that only increases or decreases the baseline hazard. Thus a change in a covariate will only increase or decrease this baseline hazard."
   ]
  },
  {
   "cell_type": "code",
   "execution_count": 63,
   "metadata": {},
   "outputs": [
    {
     "name": "stdout",
     "output_type": "stream",
     "text": [
      "n=432, number of events=114\n",
      "\n",
      "        coef  exp(coef)  se(coef)       z      p  lower 0.95  upper 0.95    \n",
      "fin  -0.3790     0.6846    0.1914 -1.9804 0.0477     -0.7541     -0.0038   *\n",
      "age  -0.0572     0.9444    0.0220 -2.6037 0.0092     -0.1003     -0.0141  **\n",
      "race  0.3141     1.3690    0.3080  1.0197 0.3079     -0.2897      0.9179    \n",
      "wexp -0.1511     0.8598    0.2121 -0.7124 0.4762     -0.5670      0.2647    \n",
      "mar  -0.4327     0.6488    0.3817 -1.1334 0.2570     -1.1810      0.3157    \n",
      "paro -0.0850     0.9185    0.1957 -0.4341 0.6643     -0.4687      0.2988    \n",
      "prio  0.0911     1.0954    0.0286  3.1819 0.0015      0.0350      0.1472  **\n",
      "---\n",
      "Signif. codes:  0 '***' 0.001 '**' 0.01 '*' 0.05 '.' 0.1 ' ' 1 \n",
      "\n",
      "Concordance = 0.640\n"
     ]
    }
   ],
   "source": [
    "from lifelines.datasets import load_rossi\n",
    "from lifelines import CoxPHFitter\n",
    "\n",
    "rossi_dataset = load_rossi()\n",
    "cph = CoxPHFitter()\n",
    "cph.fit(rossi_dataset, duration_col='week', event_col='arrest')\n",
    "\n",
    "cph.print_summary()  # access the results using cph.summary"
   ]
  },
  {
   "cell_type": "code",
   "execution_count": 66,
   "metadata": {},
   "outputs": [
    {
     "name": "stdout",
     "output_type": "stream",
     "text": [
      "           fin      age      race      wexp       mar      paro      prio\n",
      "coef -0.378969 -0.05723  0.314081 -0.151108 -0.432673 -0.084965  0.091104\n",
      "          baseline hazard\n",
      "event_at                 \n",
      "0.0              0.000000\n",
      "1.0              0.001960\n",
      "2.0              0.001966\n",
      "3.0              0.001967\n",
      "4.0              0.001971\n"
     ]
    }
   ],
   "source": [
    "print(cph.hazards_)\n",
    "print(cph.baseline_hazard_.head())"
   ]
  },
  {
   "cell_type": "markdown",
   "metadata": {},
   "source": [
    "#### Goodness of fit and prediction"
   ]
  },
  {
   "cell_type": "markdown",
   "metadata": {},
   "source": [
    "**1) look at the concordance-index**:"
   ]
  },
  {
   "cell_type": "code",
   "execution_count": 73,
   "metadata": {},
   "outputs": [
    {
     "name": "stdout",
     "output_type": "stream",
     "text": [
      "n=432, number of events=114\n",
      "\n",
      "        coef  exp(coef)  se(coef)       z      p  lower 0.95  upper 0.95    \n",
      "fin  -0.3790     0.6846    0.1914 -1.9804 0.0477     -0.7541     -0.0038   *\n",
      "age  -0.0572     0.9444    0.0220 -2.6037 0.0092     -0.1003     -0.0141  **\n",
      "race  0.3141     1.3690    0.3080  1.0197 0.3079     -0.2897      0.9179    \n",
      "wexp -0.1511     0.8598    0.2121 -0.7124 0.4762     -0.5670      0.2647    \n",
      "mar  -0.4327     0.6488    0.3817 -1.1334 0.2570     -1.1810      0.3157    \n",
      "paro -0.0850     0.9185    0.1957 -0.4341 0.6643     -0.4687      0.2988    \n",
      "prio  0.0911     1.0954    0.0286  3.1819 0.0015      0.0350      0.1472  **\n",
      "---\n",
      "Signif. codes:  0 '***' 0.001 '**' 0.01 '*' 0.05 '.' 0.1 ' ' 1 \n",
      "\n",
      "Concordance = 0.640\n"
     ]
    }
   ],
   "source": [
    "cph.print_summary()"
   ]
  },
  {
   "cell_type": "markdown",
   "metadata": {},
   "source": [
    "**2) comparison between spread baseline survival function vs the Kaplan Meier survival function**\n",
    "\n",
    "- small spread: the impact of the exponential in the Cox model does very little\n",
    "- large spread means most of the changes in individual hazard can be attributed to the exponential term "
   ]
  },
  {
   "cell_type": "markdown",
   "metadata": {},
   "source": [
    "#### Plotting the coefficients"
   ]
  },
  {
   "cell_type": "code",
   "execution_count": 67,
   "metadata": {},
   "outputs": [
    {
     "data": {
      "text/plain": [
       "<matplotlib.axes._subplots.AxesSubplot at 0x7f79aa4ffed0>"
      ]
     },
     "execution_count": 67,
     "metadata": {},
     "output_type": "execute_result"
    },
    {
     "data": {
      "image/png": "[encoded data removed]",
      "text/plain": [
       "<matplotlib.figure.Figure at 0x7f79aa383090>"
      ]
     },
     "metadata": {},
     "output_type": "display_data"
    }
   ],
   "source": [
    "cph.plot()"
   ]
  },
  {
   "cell_type": "markdown",
   "metadata": {},
   "source": [
    "#### Checking the proportional hazards assumption: log-log plot\n",
    "\n",
    "PH assumption: curves are parallel (they do not cross each other), then it's likely the variable satisfies the assumption."
   ]
  },
  {
   "cell_type": "code",
   "execution_count": 77,
   "metadata": {},
   "outputs": [
    {
     "data": {
      "image/png": "[encoded data removed]",
      "text/plain": [
       "<matplotlib.figure.Figure at 0x7f79b80c2ad0>"
      ]
     },
     "metadata": {},
     "output_type": "display_data"
    }
   ],
   "source": [
    "from lifelines.datasets import load_dd\n",
    "from lifelines import KaplanMeierFitter\n",
    "\n",
    "data = load_dd()\n",
    "\n",
    "democracy_0 = data.loc[data['democracy'] == 'Non-democracy']\n",
    "democracy_1 = data.loc[data['democracy'] == 'Democracy']\n",
    "\n",
    "kmf0 = KaplanMeierFitter()\n",
    "kmf0.fit(democracy_0['duration'], event_observed=democracy_0['observed'])\n",
    "\n",
    "kmf1 = KaplanMeierFitter()\n",
    "kmf1.fit(democracy_1['duration'], event_observed=democracy_1['observed'])\n",
    "\n",
    "fig, axes = plt.subplots()\n",
    "kmf0.plot_loglogs(ax=axes)\n",
    "kmf1.plot_loglogs(ax=axes)\n",
    "\n",
    "axes.legend(['Non-democracy', 'Democracy'])\n",
    "\n",
    "plt.show()"
   ]
  },
  {
   "cell_type": "markdown",
   "metadata": {},
   "source": [
    "#### Stratification\n",
    "\n",
    "Sometimes a covariate may not obey the proportional hazard assumption. In this case, we can allow a factor to be adjusted for without estimating its effect."
   ]
  },
  {
   "cell_type": "code",
   "execution_count": 78,
   "metadata": {},
   "outputs": [
    {
     "name": "stdout",
     "output_type": "stream",
     "text": [
      "n=432, number of events=114\n",
      "\n",
      "        coef  exp(coef)  se(coef)       z      p  lower 0.95  upper 0.95    \n",
      "fin  -0.3774     0.6856    0.1913 -1.9729 0.0485     -0.7524     -0.0024   *\n",
      "age  -0.0573     0.9443    0.0220 -2.6076 0.0091     -0.1004     -0.0142  **\n",
      "wexp -0.1435     0.8664    0.2127 -0.6746 0.4999     -0.5603      0.2734    \n",
      "mar  -0.4418     0.6429    0.3819 -1.1569 0.2473     -1.1905      0.3069    \n",
      "paro -0.0838     0.9196    0.1958 -0.4282 0.6685     -0.4677      0.3000    \n",
      "prio  0.0919     1.0962    0.0287  3.1979 0.0014      0.0356      0.1482  **\n",
      "---\n",
      "Signif. codes:  0 '***' 0.001 '**' 0.01 '*' 0.05 '.' 0.1 ' ' 1 \n",
      "\n",
      "Concordance = 0.638\n"
     ]
    }
   ],
   "source": [
    "cph.fit(rossi_dataset, 'week', event_col='arrest', strata=['race'])\n",
    "\n",
    "cph.print_summary()  # access the results using cph.summary"
   ]
  },
  {
   "cell_type": "markdown",
   "metadata": {},
   "source": [
    "### Cox’s Time Varying Proportional Hazard model"
   ]
  },
  {
   "cell_type": "markdown",
   "metadata": {},
   "source": [
    "We can incorporate changes over time into our survival analysis by using a modification of the Cox model above. The general mathematical description is:\n",
    "\n",
    "$$\n",
    "\\lambda(t|X) = b_0(t)\\ \\exp\\left(\\sum_{i=1}^d\\ b_i x_i(t)\\right)\n",
    "$$\n",
    "\n",
    "Note the time-varying $x_i(t)$ to denote that covariates can change over time. This model is implemented in lifelines as `CoxTimeVaryingFitter`. The dataset schema required is different than previous models, so we will spend some time describing this.\n",
    "\n",
    "Lifelines requires that the dataset be in what is called the *long* format.\n",
    "\n",
    "\n",
    "We can use to_long_format to transform the base dataset into a long format and `add_covariate_to_timeline` to fold the covariate dataset into the original dataset."
   ]
  },
  {
   "cell_type": "code",
   "execution_count": null,
   "metadata": {
    "collapsed": true
   },
   "outputs": [],
   "source": []
  },
  {
   "cell_type": "code",
   "execution_count": 79,
   "metadata": {},
   "outputs": [
    {
     "ename": "ImportError",
     "evalue": "cannot import name to_long_format",
     "output_type": "error",
     "traceback": [
      "\u001b[0;31m------------------------------------------------------------------------\u001b[0m",
      "\u001b[0;31mImportError\u001b[0m                            Traceback (most recent call last)",
      "\u001b[0;32m<ipython-input-79-3c3a861e1e41>\u001b[0m in \u001b[0;36m<module>\u001b[0;34m()\u001b[0m\n\u001b[0;32m----> 1\u001b[0;31m \u001b[0;32mfrom\u001b[0m \u001b[0mlifelines\u001b[0m\u001b[0;34m.\u001b[0m\u001b[0mutils\u001b[0m \u001b[0;32mimport\u001b[0m \u001b[0mto_long_format\u001b[0m\u001b[0;34m\u001b[0m\u001b[0m\n\u001b[0m\u001b[1;32m      2\u001b[0m \u001b[0;32mfrom\u001b[0m \u001b[0mlifelines\u001b[0m\u001b[0;34m.\u001b[0m\u001b[0mutils\u001b[0m \u001b[0;32mimport\u001b[0m \u001b[0madd_covariate_to_timeline\u001b[0m\u001b[0;34m\u001b[0m\u001b[0m\n\u001b[1;32m      3\u001b[0m \u001b[0;34m\u001b[0m\u001b[0m\n\u001b[1;32m      4\u001b[0m \u001b[0mbase_df\u001b[0m \u001b[0;34m=\u001b[0m \u001b[0mto_long_format\u001b[0m\u001b[0;34m(\u001b[0m\u001b[0mbase_df\u001b[0m\u001b[0;34m,\u001b[0m \u001b[0mduration_col\u001b[0m\u001b[0;34m=\u001b[0m\u001b[0;34m\"T\"\u001b[0m\u001b[0;34m)\u001b[0m\u001b[0;34m\u001b[0m\u001b[0m\n\u001b[1;32m      5\u001b[0m \u001b[0mdf\u001b[0m \u001b[0;34m=\u001b[0m \u001b[0madd_covariate_to_timeline\u001b[0m\u001b[0;34m(\u001b[0m\u001b[0mbase_df\u001b[0m\u001b[0;34m,\u001b[0m \u001b[0mcv\u001b[0m\u001b[0;34m,\u001b[0m \u001b[0mduration_col\u001b[0m\u001b[0;34m=\u001b[0m\u001b[0;34m\"time\"\u001b[0m\u001b[0;34m,\u001b[0m \u001b[0mid_col\u001b[0m\u001b[0;34m=\u001b[0m\u001b[0;34m\"id\"\u001b[0m\u001b[0;34m,\u001b[0m \u001b[0mevent_col\u001b[0m\u001b[0;34m=\u001b[0m\u001b[0;34m\"event\"\u001b[0m\u001b[0;34m)\u001b[0m\u001b[0;34m\u001b[0m\u001b[0m\n",
      "\u001b[0;31mImportError\u001b[0m: cannot import name to_long_format"
     ]
    }
   ],
   "source": [
    "from lifelines.utils import to_long_format\n",
    "from lifelines.utils import add_covariate_to_timeline\n",
    "\n",
    "base_df = to_long_format(base_df, duration_col=\"T\")\n",
    "df = add_covariate_to_timeline(base_df, cv, duration_col=\"time\", id_col=\"id\", event_col=\"event\")"
   ]
  },
  {
   "cell_type": "code",
   "execution_count": null,
   "metadata": {
    "collapsed": true
   },
   "outputs": [],
   "source": []
  }
 ],
 "metadata": {
  "kernelspec": {
   "display_name": "Python 3",
   "language": "python",
   "name": "python3"
  },
  "language_info": {
   "codemirror_mode": {
    "name": "ipython",
    "version": 3
   },
   "file_extension": ".py",
   "mimetype": "text/x-python",
   "name": "python",
   "nbconvert_exporter": "python",
   "pygments_lexer": "ipython3",
   "version": "3.6.8"
  }
 },
 "nbformat": 4,
 "nbformat_minor": 2
}
