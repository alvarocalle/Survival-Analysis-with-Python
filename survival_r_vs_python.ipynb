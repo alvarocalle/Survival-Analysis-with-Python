{
 "cells": [
  {
   "cell_type": "markdown",
   "metadata": {},
   "source": [
    "# Survival Analysis with Plotly in Python\n",
    "\n",
    "## An introduction to survival analysis with Plotly graphs using R, Python, and IPython notebooks \n",
    "\n",
    "In this notebook, we introduce survival analysis and we show application examples using both R and Python. We will compare the two programming languages, and leverage Plotly's Python and R APIs to convert static graphics into interactive plotly objects.\n",
    "\n",
    "[Plotly](https://plot.ly/) is a platform for making interactive graphs with R, Python, MATLAB, and Excel. You can make graphs and analyze data on Plotly’s free public cloud. For collaboration and sensitive data, you can run Plotly [on your own servers](https://plot.ly/product/enterprise/).\n",
    "\n",
    "For a more in-depth theoretical background in survival analysis, please refer to these sources:\n",
    "\n",
    "- [Lecture Notes by John Fox](http://socserv.mcmaster.ca/jfox/Courses/soc761/survival-analysis.pdf)\n",
    "- [Wikipedia article](http://en.wikipedia.org/wiki/Survival_analysis)\n",
    "- [Presentation by Kristin Sainani](https://plot.ly/ipython-notebooks/survival-analysis-r-vs-python/www.pitt.edu/~super4/33011-34001/33051-33061.ppt)\n",
    "- [Lecture Notes by Germán Rodríguez](http://data.princeton.edu/wws509/notes/c7.pdf)\n",
    "\n",
    "Need help converting Plotly graphs from R or Python?\n",
    "\n",
    "- [R](https://plot.ly/r/user-guide/)\n",
    "- [Python](https://plot.ly/python/matplotlib-to-plotly-tutorial/)\n",
    "\n",
    "For this code to run on your machine, you will need several R and Python packages installed.\n",
    "\n",
    "> Running `sudo pip install <package_name>` from your terminal will install a Python package.\n",
    "\n",
    "> Running `install.packages(\"<package_name>\")` in your R console will install an R package.\n",
    "\n",
    "You will also need to create an account with [Plotly](https://plot.ly/feed/) to receive your API key."
   ]
  },
  {
   "cell_type": "markdown",
   "metadata": {},
   "source": [
    "## Initial setup"
   ]
  },
  {
   "cell_type": "code",
   "execution_count": 1,
   "metadata": {
    "collapsed": true
   },
   "outputs": [],
   "source": [
    "# suppress warnings\n",
    "import warnings\n",
    "warnings.filterwarnings('ignore')"
   ]
  },
  {
   "cell_type": "raw",
   "metadata": {},
   "source": [
    "# list available python magics\n",
    "%lsmagic"
   ]
  },
  {
   "cell_type": "code",
   "execution_count": 2,
   "metadata": {
    "collapsed": true
   },
   "outputs": [],
   "source": [
    "# Load extension that let us use magic function `%R`\n",
    "%load_ext rpy2.ipython"
   ]
  },
  {
   "cell_type": "code",
   "execution_count": 3,
   "metadata": {},
   "outputs": [
    {
     "data": {
      "text/plain": [
       "[1] \"/home/alvaro/anaconda2/lib/R/library\"\n"
      ]
     },
     "metadata": {},
     "output_type": "display_data"
    }
   ],
   "source": [
    "%%R\n",
    "\n",
    "# show the path where the libraries are installed \n",
    "# note this path is different from the one in standalone RStudio\n",
    ".libPaths()"
   ]
  },
  {
   "cell_type": "code",
   "execution_count": 4,
   "metadata": {
    "scrolled": true
   },
   "outputs": [
    {
     "name": "stdout",
     "output_type": "stream",
     "text": [
      "R Help on ‘install.packages’install.packages             package:utils             R Documentation\n",
      "\n",
      "_\bI_\bn_\bs_\bt_\ba_\bl_\bl _\bP_\ba_\bc_\bk_\ba_\bg_\be_\bs _\bf_\br_\bo_\bm _\bR_\be_\bp_\bo_\bs_\bi_\bt_\bo_\br_\bi_\be_\bs _\bo_\br _\bL_\bo_\bc_\ba_\bl _\bF_\bi_\bl_\be_\bs\n",
      "\n",
      "_\bD_\be_\bs_\bc_\br_\bi_\bp_\bt_\bi_\bo_\bn:\n",
      "\n",
      "     Download and install packages from CRAN-like repositories or from\n",
      "     local files.\n",
      "\n",
      "_\bU_\bs_\ba_\bg_\be:\n",
      "\n",
      "     install.packages(pkgs, lib, repos = getOption(\"repos\"),\n",
      "                      contriburl = contrib.url(repos, type),\n",
      "                      method, available = NULL, destdir = NULL,\n",
      "                      dependencies = NA, type = getOption(\"pkgType\"),\n",
      "                      configure.args = getOption(\"configure.args\"),\n",
      "                      configure.vars = getOption(\"configure.vars\"),\n",
      "                      clean = FALSE, Ncpus = getOption(\"Ncpus\", 1L),\n",
      "                      verbose = getOption(\"verbose\"),\n",
      "                      libs_only = FALSE, INSTALL_opts, quiet = FALSE,\n",
      "                      keep_outputs = FALSE, ...)\n",
      "     \n",
      "_\bA_\br_\bg_\bu_\bm_\be_\bn_\bt_\bs:\n",
      "\n",
      "    pkgs: character vector of the names of packages whose current\n",
      "          versions should be downloaded from the repositories.\n",
      "\n",
      "          If ‘repos = NULL’, a character vector of file paths.  These\n",
      "          can be source directories or archives or binary package\n",
      "          archive files (as created by ‘R CMD build --binary’).\n",
      "          (‘http://’ and ‘file://’ URLs are also accepted and the files\n",
      "          will be downloaded and installed from local copies.)  On a\n",
      "          CRAN build of R for macOS these can be ‘.tgz’ files\n",
      "          containing binary package archives.  Tilde-expansion will be\n",
      "          done on file paths.\n",
      "\n",
      "          If this is missing or a zero-length character vector, a\n",
      "          listbox of available packages is presented where possible in\n",
      "          an interactive R session.\n",
      "\n",
      "     lib: character vector giving the library directories where to\n",
      "          install the packages.  Recycled as needed.  If missing,\n",
      "          defaults to the first element of ‘.libPaths()’.\n",
      "\n",
      "   repos: character vector, the base URL(s) of the repositories to use,\n",
      "          e.g., the URL of a CRAN mirror such as\n",
      "          ‘\"https://cloud.r-project.org\"’.  For more details on\n",
      "          supported URL schemes see ‘url’.\n",
      "\n",
      "          Can be ‘NULL’ to install from local files, directories or\n",
      "          URLs: this will be inferred by extension from ‘pkgs’ if of\n",
      "          length one.\n",
      "\n",
      "contriburl: URL(s) of the contrib sections of the repositories.  Use\n",
      "          this argument if your repository mirror is incomplete, e.g.,\n",
      "          because you burned only the ‘contrib’ section on a CD, or\n",
      "          only have binary packages.  Overrides argument ‘repos’.\n",
      "          Incompatible with ‘type = \"both\"’.\n",
      "\n",
      "  method: download method, see ‘download.file’.  Unused if a non-‘NULL’\n",
      "          ‘available’ is supplied.\n",
      "\n",
      "available: a matrix as returned by ‘available.packages’ listing\n",
      "          packages available at the repositories, or ‘NULL’ when the\n",
      "          function makes an internal call to ‘available.packages’.\n",
      "          Incompatible with ‘type = \"both\"’.\n",
      "\n",
      " destdir: directory where downloaded packages are stored.  If it is\n",
      "          ‘NULL’ (the default) a subdirectory ‘downloaded_packages’ of\n",
      "          the session temporary directory will be used (and the files\n",
      "          will be deleted at the end of the session).\n",
      "\n",
      "dependencies: logical indicating whether to also install uninstalled\n",
      "          packages which these packages depend on/link\n",
      "          to/import/suggest (and so on recursively).  Not used if\n",
      "          ‘repos = NULL’.  Can also be a character vector, a subset of\n",
      "          ‘c(\"Depends\", \"Imports\", \"LinkingTo\", \"Suggests\",\n",
      "          \"Enhances\")’.\n",
      "\n",
      "          Only supported if ‘lib’ is of length one (or missing), so it\n",
      "          is unambiguous where to install the dependent packages.  If\n",
      "          this is not the case it is ignored, with a warning.\n",
      "\n",
      "          The default, ‘NA’, means ‘c(\"Depends\", \"Imports\",\n",
      "          \"LinkingTo\")’.\n",
      "\n",
      "          ‘TRUE’ means to use ‘c(\"Depends\", \"Imports\", \"LinkingTo\",\n",
      "          \"Suggests\")’ for ‘pkgs’ and ‘c(\"Depends\", \"Imports\",\n",
      "          \"LinkingTo\")’ for added dependencies: this installs all the\n",
      "          packages needed to run ‘pkgs’, their examples, tests and\n",
      "          vignettes (if the package author specified them correctly).\n",
      "\n",
      "          In all of these, ‘\"LinkingTo\"’ is omitted for binary\n",
      "          packages.\n",
      "\n",
      "    type: character, indicating the type of package to download and\n",
      "          install.  Will be ‘\"source\"’ except on Windows and some macOS\n",
      "          builds: see the section on ‘Binary packages’ for those.\n",
      "\n",
      "configure.args: (Used only for source installs.) A character vector or\n",
      "          a named list.  If a character vector with no names is\n",
      "          supplied, the elements are concatenated into a single string\n",
      "          (separated by a space) and used as the value for the\n",
      "          ‘--configure-args’ flag in the call to ‘R CMD INSTALL’.  If\n",
      "          the character vector has names these are assumed to identify\n",
      "          values for ‘--configure-args’ for individual packages.  This\n",
      "          allows one to specify settings for an entire collection of\n",
      "          packages which will be used if any of those packages are to\n",
      "          be installed.  (These settings can therefore be re-used and\n",
      "          act as default settings.)\n",
      "\n",
      "          A named list can be used also to the same effect, and that\n",
      "          allows multi-element character strings for each package which\n",
      "          are concatenated to a single string to be used as the value\n",
      "          for ‘--configure-args’.\n",
      "\n",
      "configure.vars: (Used only for source installs.) Analogous to\n",
      "          ‘configure.args’ for flag ‘--configure-vars’, which is used\n",
      "          to set environment variables for the ‘configure’ run.\n",
      "\n",
      "   clean: a logical value indicating whether to add the ‘--clean’ flag\n",
      "          to the call to ‘R CMD INSTALL’.  This is sometimes used to\n",
      "          perform additional operations at the end of the package\n",
      "          installation in addition to removing intermediate files.\n",
      "\n",
      "   Ncpus: the number of parallel processes to use for a parallel\n",
      "          install of more than one source package.  Values greater than\n",
      "          one are supported if the ‘make’ command specified by\n",
      "          ‘Sys.getenv(\"MAKE\", \"make\")’ accepts argument ‘-k -j Ncpus’.\n",
      "\n",
      " verbose: a logical indicating if some “progress report” should be\n",
      "          given.\n",
      "\n",
      "libs_only: a logical value: should the ‘--libs-only’ option be used to\n",
      "          install only additional sub-architectures for source\n",
      "          installs?  (See also ‘INSTALL_opts’.)  This can also be used\n",
      "          on Windows to install just the DLL(s) from a binary package,\n",
      "          e.g. to add 64-bit DLLs to a 32-bit install.\n",
      "\n",
      "INSTALL_opts: an optional character vector of additional option(s) to\n",
      "          be passed to ‘R CMD INSTALL’ for a source package install.\n",
      "          E.g., ‘c(\"--html\", \"--no-multiarch\")’.\n",
      "\n",
      "          Can also be a named list of character vectors to be used as\n",
      "          additional options, with names the respective package names.\n",
      "\n",
      "   quiet: logical: if true, reduce the amount of output.\n",
      "\n",
      "keep_outputs: a logical: if true, keep the outputs from installing\n",
      "          source packages in the current working directory, with the\n",
      "          names of the output files the package names with ‘.out’\n",
      "          appended.  Alternatively, a character string giving the\n",
      "          directory in which to save the outputs.  Ignored when\n",
      "          installing from local files.\n",
      "\n",
      "     ...: Arguments to be passed to ‘download.file’ or to the functions\n",
      "          for binary installs on macOS and Windows (which accept an\n",
      "          argument ‘\"lock\"’: see the section on ‘Locking’).\n",
      "\n",
      "_\bD_\be_\bt_\ba_\bi_\bl_\bs:\n",
      "\n",
      "     This is the main function to install packages.  It takes a vector\n",
      "     of names and a destination library, downloads the packages from\n",
      "     the repositories and installs them.  (If the library is omitted it\n",
      "     defaults to the first directory in ‘.libPaths()’, with a message\n",
      "     if there is more than one.)  If ‘lib’ is omitted or is of length\n",
      "     one and is not a (group) writable directory, in interactive use\n",
      "     the code offers to create a personal library tree (the first\n",
      "     element of ‘Sys.getenv(\"R_LIBS_USER\")’) and install there.\n",
      "\n",
      "     For installs from a repository an attempt is made to install the\n",
      "     packages in an order that respects their dependencies.  This does\n",
      "     assume that all the entries in ‘lib’ are on the default library\n",
      "     path for installs (set by environment variable ‘R_LIBS’).\n",
      "\n",
      "     You are advised to run ‘update.packages’ before ‘install.packages’\n",
      "     to ensure that any already installed dependencies have their\n",
      "     latest versions.\n",
      "\n",
      "_\bV_\ba_\bl_\bu_\be:\n",
      "\n",
      "     Invisible ‘NULL’.\n",
      "\n",
      "_\bB_\bi_\bn_\ba_\br_\by _\bp_\ba_\bc_\bk_\ba_\bg_\be_\bs:\n",
      "\n",
      "     This section applies only to platforms where binary packages are\n",
      "     available: Windows and CRAN builds for macOS.\n",
      "\n",
      "     R packages are primarily distributed as _source_ packages, but\n",
      "     _binary_ packages (a packaging up of the installed package) are\n",
      "     also supported, and the type most commonly used on Windows and by\n",
      "     the CRAN builds for macOS.  This function can install either type,\n",
      "     either by downloading a file from a repository or from a local\n",
      "     file.\n",
      "\n",
      "     Possible values of ‘type’ are (currently) ‘\"source\"’,\n",
      "     ‘\"mac.binary\"’, ‘\"mac.binary.el-capitan\"’ and ‘\"win.binary\"’: the\n",
      "     appropriate binary type where supported can also be selected as\n",
      "     ‘\"binary\"’.\n",
      "\n",
      "     For a binary install from a repository, the function checks for\n",
      "     the availability of a source package on the same repository, and\n",
      "     reports if the source package has a later version, or is available\n",
      "     but no binary version is.  This check can be suppressed by using\n",
      "     \n",
      "         options(install.packages.check.source = \"no\")\n",
      "\n",
      "     and should be if there is a partial repository containing only\n",
      "     binary files.\n",
      "\n",
      "     An alternative (and the current default) is ‘\"both\"’ which means\n",
      "     ‘use binary if available and current, otherwise try source’. The\n",
      "     action if there are source packages which are preferred but may\n",
      "     contain code which needs to be compiled is controlled by\n",
      "     ‘getOption(\"install.packages.compile.from.source\")’.  ‘type =\n",
      "     \"both\"’ will be silently changed to ‘\"binary\"’ if either\n",
      "     ‘contriburl’ or ‘available’ is specified.\n",
      "\n",
      "     Using packages with ‘type = \"source\"’ always works provided the\n",
      "     package contains no C/C++/Fortran code that needs compilation.\n",
      "     Otherwise, on macOS you need to have installed the ‘Command-line\n",
      "     tools for Xcode’ (see the ‘R Installation and Administration\n",
      "     Manual’) and if needed by the package a Fortran compiler, and have\n",
      "     them in your path.\n",
      "\n",
      "_\bL_\bo_\bc_\bk_\bi_\bn_\bg:\n",
      "\n",
      "     There are various options for locking: these differ between source\n",
      "     and binary installs.\n",
      "\n",
      "     By default for a source install, the library directory is ‘locked’\n",
      "     by creating a directory ‘00LOCK’ within it.  This has two\n",
      "     purposes: it prevents any other process installing into that\n",
      "     library concurrently, and is used to store any previous version of\n",
      "     the package to restore on error.  A finer-grained locking is\n",
      "     provided by the option ‘--pkglock’ which creates a separate lock\n",
      "     for each package: this allows enough freedom for parallel\n",
      "     installation.  Per-package locking is the default when installing\n",
      "     a single package, and for multiple packages when ‘Ncpus > 1L’.\n",
      "     Finally locking (and restoration on error) can be suppressed by\n",
      "     ‘--no-lock’.\n",
      "\n",
      "     For a macOS or Windows binary install, no locking is done by\n",
      "     default.  Setting argument ‘lock’ to ‘TRUE’ (it defaults to the\n",
      "     value of ‘getOption(\"install.lock\", FALSE)’) will use\n",
      "     per-directory locking as described for source installs: if the\n",
      "     value is ‘\"pkglock\"’ per-package locking will be used.\n",
      "\n",
      "     If package locking is used on Windows with ‘libs_only = TRUE’ and\n",
      "     the installation fails, the package will be restored to its\n",
      "     previous state.\n",
      "\n",
      "     Note that it is possible for the package installation to fail so\n",
      "     badly that the lock directory is not removed: this inhibits any\n",
      "     further installs to the library directory (or for ‘--pkglock’, of\n",
      "     the package) until the lock directory is removed manually.\n",
      "\n",
      "_\bP_\ba_\br_\ba_\bl_\bl_\be_\bl _\bi_\bn_\bs_\bt_\ba_\bl_\bl_\bs:\n",
      "\n",
      "     Parallel installs are attempted if ‘pkgs’ has length greater than\n",
      "     one and ‘Ncpus > 1’.  It makes use of a parallel ‘make’, so the\n",
      "     ‘make’ specified (default ‘make’) when R was built must be capable\n",
      "     of supporting ‘make -j n’: GNU make, ‘dmake’ and ‘pmake’ do, but\n",
      "     Solaris ‘make’ and older FreeBSD ‘make’ do not: if necessary\n",
      "     environment variable ‘MAKE’ can be set for the current session to\n",
      "     select a suitable ‘make’.\n",
      "\n",
      "     ‘install.packages’ needs to be able to compute all the\n",
      "     dependencies of ‘pkgs’ from ‘available’, including if one element\n",
      "     of ‘pkgs’ depends indirectly on another.  This means that if for\n",
      "     example you are installing CRAN packages which depend on\n",
      "     Bioconductor packages which in turn depend on CRAN packages,\n",
      "     ‘available’ needs to cover both CRAN and Bioconductor packages.\n",
      "\n",
      "_\bN_\bo_\bt_\be:\n",
      "\n",
      "     Some binary distributions of R have ‘INSTALL’ in a separate\n",
      "     bundle, e.g. an ‘R-devel’ RPM.  ‘install.packages’ will give an\n",
      "     error if called with ‘type = \"source\"’ on such a system.\n",
      "\n",
      "     Some binary Linux distributions of R can be installed on a machine\n",
      "     without the tools needed to install packages: a possible remedy is\n",
      "     to do a complete install of R which should bring in all those\n",
      "     tools as dependencies.\n",
      "\n",
      "_\bS_\be_\be _\bA_\bl_\bs_\bo:\n",
      "\n",
      "     ‘update.packages’, ‘available.packages’, ‘download.packages’,\n",
      "     ‘installed.packages’, ‘contrib.url’.\n",
      "\n",
      "     See ‘download.file’ for how to handle proxies and other options to\n",
      "     monitor file transfers.\n",
      "\n",
      "     ‘untar’ for manually unpacking source package tarballs.\n",
      "\n",
      "     ‘INSTALL’, ‘REMOVE’, ‘remove.packages’, ‘library’, ‘.packages’,\n",
      "     ‘read.dcf’\n",
      "\n",
      "     The ‘R Installation and Administration’ manual for how to set up a\n",
      "     repository.\n",
      "\n",
      "_\bE_\bx_\ba_\bm_\bp_\bl_\be_\bs:\n",
      "\n",
      "     ## Not run:\n",
      "     \n",
      "     ## A Linux example for Fedora's layout of udunits2 headers.\n",
      "     install.packages(c(\"ncdf4\", \"RNetCDF\"),\n",
      "       configure.args = c(RNetCDF = \"--with-netcdf-include=/usr/include/udunits2\"))\n",
      "     ## End(Not run)\n",
      "     \n"
     ]
    }
   ],
   "source": [
    "%%R\n",
    "?install.packages()"
   ]
  },
  {
   "cell_type": "markdown",
   "metadata": {},
   "source": [
    "We need to install necesary R libraries"
   ]
  },
  {
   "cell_type": "code",
   "execution_count": 5,
   "metadata": {
    "collapsed": true
   },
   "outputs": [],
   "source": [
    "%%R\n",
    "lib=\"/home/alvaro/anaconda2/lib/R/library\"\n",
    "repos=\"http://cran.us.r-project.org\"\n",
    "pkgs=c(\"ggplot2\", \"plotly\", \"OIsurv\", \"IRdisplay\")\n",
    "install.packages(pkgs, lib, repos)"
   ]
  },
  {
   "cell_type": "markdown",
   "metadata": {},
   "source": [
    "## Introduction"
   ]
  },
  {
   "cell_type": "markdown",
   "metadata": {},
   "source": [
    "[Survival analysis](http://en.wikipedia.org/wiki/Survival_analysis) is a set of statistical methods for analyzing the occurrence of events over time. It is also used to determine the relationship of co-variates to the time-to-events, and accurately compare time-to-event between two or more groups. For example:\n",
    "- Time to death in biological systems.\n",
    "- Failure time in mechanical systems.\n",
    "- How long can we expect a user to be on a website / service?\n",
    "- Time to recovery for lung cancer treatment.\n",
    "\n",
    "The statistical term `survival analysis` is analogous to `reliability theory` in engineering, `duration analysis` in economics, and `event history analysis` in sociology.\n",
    "\n",
    "The two key functions in survival analysis are the **survival function** and the **hazard function**.\n",
    "\n",
    "The **survival function**, conventionally denoted by $S$, is the probability that the event (say, death) has not occurred yet:\n",
    "\n",
    "$$\n",
    "S(t) = Pr(T>t),\n",
    "$$\n",
    "\n",
    "where $T$ denotes the time of death and $Pr$ the probability. Since $S$ is a probability, $0\\leq S(t)\\leq 1$. Survival times are non-negative $(T>0)$ and, generally, $S(0)=1$.\n",
    "\n",
    "The hazard function $h(t)$ is the event (death) rate at time $t$, conditional on survival until $t$ (i.e., T\\geq t):\n",
    "\n",
    "$$\n",
    "\\begin{eqnarray}\n",
    "h(t) &=&\\lim_{\\Delta t\\to 0} Pr(t\\leq T \\leq t + \\Delta t |T \\geq t) \\\\\n",
    "&=&\\lim_{\\Delta t\\to 0} Pr(t\\leq T \\leq t + \\Delta t)S(t) \\\\\n",
    "&=& p(t)S(t),\n",
    "\\end{eqnarray}\n",
    "$$\n",
    "\n",
    "where $p$ denotes the probability density function.\n",
    "\n",
    "In practice, we do not get to observe the actual survival function of a population; we must use the observed data to estimate it. A popular estimate for the survival function $S(t)$ is the [Kaplan–Meier estimate](http://en.wikipedia.org/wiki/Kaplan%E2%80%93Meier_estimator):\n",
    "\n",
    "$$\n",
    "\\hat S (t) = \\prod _{t_i\\leq t} \\frac{n_i - d_i}{n_i},\n",
    "$$\n",
    "\n",
    "where $d_i$ is the number of events (deaths) observed at time $t_i$ and $n_i$ is the number of subjects at risk observed at time $t_i$."
   ]
  },
  {
   "cell_type": "markdown",
   "metadata": {},
   "source": [
    "## Censoring"
   ]
  },
  {
   "cell_type": "markdown",
   "metadata": {},
   "source": [
    "Censoring is a type of missing data problem common in survival analysis. Other popular comparison methods, such as linear regression and t-tests do not accommodate for censoring. This makes survival analysis attractive for data from randomized clinical studies.\n",
    "\n",
    "In an ideal scenario, both the birth and death rates of a patient is known, which means the lifetime is known. However, this knowledge is not always possible. In practice we may face some kind of censoring, the most common one being:\n",
    "\n",
    "**Right censoring** which occurs when the 'death' is unknown, but it is after some known date. e.g. The 'death' occurs after the end of the study, or there was no follow-up with the patient.\n",
    "\n",
    "**Left censoring** which occurs when the lifetime is known to be less than a certain duration. e.g. Unknown time of initial infection exposure when first meeting with a patient.\n",
    "\n",
    "There are other types of censoring but we refer the reader to the bibliography for further information.\n",
    "\n",
    "For following analysis, we will use the [lifelines](https://github.com/CamDavidsonPilon/lifelines) library for python, and the [survival](http://cran.r-project.org/web/packages/survival/survival.pdf) package for R. We will make use of the [rpy2](http://rpy.sourceforge.net/) package to execute R code in the same document as the python code."
   ]
  },
  {
   "cell_type": "code",
   "execution_count": 30,
   "metadata": {
    "collapsed": true
   },
   "outputs": [],
   "source": [
    "# OIserve contains the survival package and sample datasets\n",
    "%R library(OIsurv)\n",
    "%R library(devtools)\n",
    "%R library(plotly)\n",
    "%R library(IRdisplay)\n",
    "\n",
    "# Load python libraries\n",
    "import numpy as np\n",
    "import pandas as pd\n",
    "import lifelines as ll\n",
    "\n",
    "# Plotting helpers\n",
    "%matplotlib inline\n",
    "from IPython.display import HTML\n",
    "import matplotlib.pyplot as plt\n",
    "import plotly.plotly as py\n",
    "import plotly.tools as tls   \n",
    "import plotly.graph_objs as go\n",
    "\n",
    "from pylab import rcParams\n",
    "rcParams['figure.figsize']=10, 5"
   ]
  },
  {
   "cell_type": "code",
   "execution_count": 48,
   "metadata": {
    "collapsed": true
   },
   "outputs": [],
   "source": [
    "username=\"alvarocalle\"\n",
    "api_key=\"sbbgNaGUwYaB4nsMe0Ir\"\n",
    "tls.set_credentials_file(username=username, api_key=api_key)"
   ]
  },
  {
   "cell_type": "markdown",
   "metadata": {
    "collapsed": true
   },
   "source": [
    "## Loading data into Python and R\n",
    "\n",
    "We will be using the tongue dataset from the KMsurv package in R, then convert the data into a pandas DataFrame under the same name.\n",
    "\n",
    "This data frame contains the following columns:\n",
    "\n",
    "- **type**: Tumor DNA profile (1=Aneuploid Tumor, 2=Diploid Tumor)\n",
    "- **time**: Time to death or on-study time, weeks\n",
    "- **delta**: Death indicator (0=alive, 1=dead)\n",
    "\n",
    "First we import the high-level interface to make the use of R in a *pythonic* way. Importing the top-level sub-package is also initializing and starting R embedded in the current Python process:"
   ]
  },
  {
   "cell_type": "code",
   "execution_count": 14,
   "metadata": {
    "collapsed": true
   },
   "outputs": [],
   "source": [
    "# high-level interface R to python\n",
    "from rpy2.robjects import pandas2ri\n",
    "from rpy2.robjects import r\n",
    "\n",
    "# Load in data\n",
    "%R data(tongue)\n",
    "\n",
    "# Pull data into python kernel\n",
    "%Rpull tongue\n",
    "\n",
    "df_tongue = r('tongue') # pandas-type DataFrame\n",
    "#df_R = pandas2ri.py2ri(df_tongue) # R-type DataFrame\n",
    "#print type(df_tongue)\n",
    "#print type(df_R)"
   ]
  },
  {
   "cell_type": "markdown",
   "metadata": {},
   "source": [
    "We can now refer to tongue using both R and python."
   ]
  },
  {
   "cell_type": "code",
   "execution_count": 15,
   "metadata": {},
   "outputs": [
    {
     "name": "stdout",
     "output_type": "stream",
     "text": [
      "   type  time  delta\n",
      "1     1     1      1\n",
      "2     1     3      1\n",
      "3     1     3      1\n",
      "4     1     4      1\n",
      "5     1    10      1\n",
      "            type        time     delta\n",
      "count  80.000000   80.000000  80.00000\n",
      "mean    1.350000   73.825000   0.66250\n",
      "std     0.479979   67.263091   0.47584\n",
      "min     1.000000    1.000000   0.00000\n",
      "25%     1.000000   23.750000   0.00000\n",
      "50%     1.000000   69.500000   1.00000\n",
      "75%     2.000000  101.750000   1.00000\n",
      "max     2.000000  400.000000   1.00000\n"
     ]
    },
    {
     "data": {
      "text/plain": [
       "array(['Min.   :1.00  ', '1st Qu.:1.00  ', 'Median :1.00  ',\n",
       "       'Mean   :1.35  ', '3rd Qu.:2.00  ', 'Max.   :2.00  ',\n",
       "       'Min.   :  1.00  ', '1st Qu.: 23.75  ', 'Median : 69.50  ',\n",
       "       'Mean   : 73.83  ', '3rd Qu.:101.75  ', 'Max.   :400.00  ',\n",
       "       'Min.   :0.0000  ', '1st Qu.:0.0000  ', 'Median :1.0000  ',\n",
       "       'Mean   :0.6625  ', '3rd Qu.:1.0000  ', 'Max.   :1.0000  '],\n",
       "      dtype='|S16')"
      ]
     },
     "execution_count": 15,
     "metadata": {},
     "output_type": "execute_result"
    }
   ],
   "source": [
    "# Python\n",
    "print df_tongue.head()\n",
    "print df_tongue.describe()\n",
    "\n",
    "# R\n",
    "%R summary(tongue)"
   ]
  },
  {
   "cell_type": "markdown",
   "metadata": {},
   "source": [
    "We can even operate on R and Python within the same code cell."
   ]
  },
  {
   "cell_type": "code",
   "execution_count": 16,
   "metadata": {},
   "outputs": [
    {
     "data": {
      "text/plain": [
       "[1] 73.825\n"
      ]
     },
     "metadata": {},
     "output_type": "display_data"
    },
    {
     "name": "stdout",
     "output_type": "stream",
     "text": [
      "73.825\n"
     ]
    }
   ],
   "source": [
    "%R print(mean(tongue$time))\n",
    "\n",
    "print df_tongue['time'].mean()"
   ]
  },
  {
   "cell_type": "markdown",
   "metadata": {},
   "source": [
    "In R we need to create a Surv object with the Surv() function. Most functions in the survival package apply methods to this object. For right-censored data, we need to pass two arguments to Surv():\n",
    "\n",
    "- a vector of times\n",
    "- a vector indicating which times are observed and censored\n",
    "\n",
    "The plus-signs identify observations that are right-censored."
   ]
  },
  {
   "cell_type": "code",
   "execution_count": 17,
   "metadata": {},
   "outputs": [
    {
     "data": {
      "text/plain": [
       " [1]   1    3    3    4   10   13   13   16   16   24   26   27   28   30   30 \n",
       "[16]  32   41   51   65   67   70   72   73   77   91   93   96  100  104  157 \n",
       "[31] 167   61+  74+  79+  80+  81+  87+  87+  88+  89+  93+  97+ 101+ 104+ 108+\n",
       "[46] 109+ 120+ 131+ 150+ 231+ 240+ 400+\n"
      ]
     },
     "metadata": {},
     "output_type": "display_data"
    }
   ],
   "source": [
    "%%R\n",
    "attach(tongue)\n",
    "\n",
    "tongue.surv <- Surv(time[type==1], delta[type==1])\n",
    "\n",
    "tongue.surv"
   ]
  },
  {
   "cell_type": "markdown",
   "metadata": {},
   "source": [
    "## Estimating survival with Kaplan-Meier"
   ]
  },
  {
   "cell_type": "markdown",
   "metadata": {},
   "source": [
    "### Using R"
   ]
  },
  {
   "cell_type": "markdown",
   "metadata": {},
   "source": [
    "The simplest fit estimates a survival object against an intercept. However, the survfit() function has several optional arguments. For example, we can change the confidence interval using conf.int and conf.type.\n",
    "\n",
    "See `help(survfit.formula)` for the comprehensive documentation."
   ]
  },
  {
   "cell_type": "code",
   "execution_count": 18,
   "metadata": {},
   "outputs": [
    {
     "data": {
      "text/plain": [
       "Call: survfit(formula = tongue.surv ~ 1)\n",
       "\n",
       "      n  events  median 0.95LCL 0.95UCL \n",
       "     52      31      93      67      NA \n"
      ]
     },
     "metadata": {},
     "output_type": "display_data"
    }
   ],
   "source": [
    "%%R\n",
    "surv.fit <- survfit(tongue.surv~1)\n",
    "surv.fit"
   ]
  },
  {
   "cell_type": "markdown",
   "metadata": {},
   "source": [
    "It is often helpful to call the `summary()` and `plot()` functions on this object."
   ]
  },
  {
   "cell_type": "code",
   "execution_count": 19,
   "metadata": {},
   "outputs": [
    {
     "data": {
      "text/plain": [
       "Call: survfit(formula = tongue.surv ~ 1)\n",
       "\n",
       " time n.risk n.event survival std.err lower 95% CI upper 95% CI\n",
       "    1     52       1    0.981  0.0190        0.944        1.000\n",
       "    3     51       2    0.942  0.0323        0.881        1.000\n",
       "    4     49       1    0.923  0.0370        0.853        0.998\n",
       "   10     48       1    0.904  0.0409        0.827        0.988\n",
       "   13     47       2    0.865  0.0473        0.777        0.963\n",
       "   16     45       2    0.827  0.0525        0.730        0.936\n",
       "   24     43       1    0.808  0.0547        0.707        0.922\n",
       "   26     42       1    0.788  0.0566        0.685        0.908\n",
       "   27     41       1    0.769  0.0584        0.663        0.893\n",
       "   28     40       1    0.750  0.0600        0.641        0.877\n",
       "   30     39       2    0.712  0.0628        0.598        0.846\n",
       "   32     37       1    0.692  0.0640        0.578        0.830\n",
       "   41     36       1    0.673  0.0651        0.557        0.813\n",
       "   51     35       1    0.654  0.0660        0.537        0.797\n",
       "   65     33       1    0.634  0.0669        0.516        0.780\n",
       "   67     32       1    0.614  0.0677        0.495        0.762\n",
       "   70     31       1    0.594  0.0683        0.475        0.745\n",
       "   72     30       1    0.575  0.0689        0.454        0.727\n",
       "   73     29       1    0.555  0.0693        0.434        0.709\n",
       "   77     27       1    0.534  0.0697        0.414        0.690\n",
       "   91     19       1    0.506  0.0715        0.384        0.667\n",
       "   93     18       1    0.478  0.0728        0.355        0.644\n",
       "   96     16       1    0.448  0.0741        0.324        0.620\n",
       "  100     14       1    0.416  0.0754        0.292        0.594\n",
       "  104     12       1    0.381  0.0767        0.257        0.566\n",
       "  157      5       1    0.305  0.0918        0.169        0.550\n",
       "  167      4       1    0.229  0.0954        0.101        0.518\n"
      ]
     },
     "metadata": {},
     "output_type": "display_data"
    }
   ],
   "source": [
    "%%R \n",
    "summary(surv.fit)"
   ]
  },
  {
   "cell_type": "code",
   "execution_count": 20,
   "metadata": {},
   "outputs": [
    {
     "data": {
      "image/png": "[encoded data removed]"
     },
     "metadata": {},
     "output_type": "display_data"
    }
   ],
   "source": [
    "%%R -h 400\n",
    "plot(surv.fit, main='Kaplan-Meier estimate with 95% confidence bounds',\n",
    "     xlab='time', ylab='survival function')"
   ]
  },
  {
   "cell_type": "markdown",
   "metadata": {},
   "source": [
    "Let's convert this plot into an interactive [plotly](https://plot.ly/) object using plotly and [ggplot2](http://ggplot2.org/).\n",
    "\n",
    "First, we will use a helper ggplot function written by [Edwin Thoen](https://www.r-statistics.com/2013/07/creating-good-looking-survival-curves-the-ggsurv-function/) to plot pretty survival distributions in R."
   ]
  },
  {
   "cell_type": "code",
   "execution_count": 21,
   "metadata": {
    "collapsed": true
   },
   "outputs": [],
   "source": [
    "%%R\n",
    "\n",
    "ggsurv <- function(s, CI = 'def', plot.cens = T, surv.col = 'gg.def',\n",
    "                   cens.col = 'red', lty.est = 1, lty.ci = 2,\n",
    "                   cens.shape = 3, back.white = F, xlab = 'Time',\n",
    "                   ylab = 'Survival', main = ''){\n",
    " \n",
    "  library(ggplot2)\n",
    "  strata <- ifelse(is.null(s$strata) ==T, 1, length(s$strata))\n",
    "  stopifnot(length(surv.col) == 1 | length(surv.col) == strata)\n",
    "  stopifnot(length(lty.est) == 1 | length(lty.est) == strata)\n",
    " \n",
    "  ggsurv.s <- function(s, CI = 'def', plot.cens = T, surv.col = 'gg.def',\n",
    "                       cens.col = 'red', lty.est = 1, lty.ci = 2,\n",
    "                       cens.shape = 3, back.white = F, xlab = 'Time',\n",
    "                       ylab = 'Survival', main = ''){\n",
    " \n",
    "    dat <- data.frame(time = c(0, s$time),\n",
    "                      surv = c(1, s$surv),\n",
    "                      up = c(1, s$upper),\n",
    "                      low = c(1, s$lower),\n",
    "                      cens = c(0, s$n.censor))\n",
    "    dat.cens <- subset(dat, cens != 0)\n",
    " \n",
    "    col <- ifelse(surv.col == 'gg.def', 'black', surv.col)\n",
    " \n",
    "    pl <- ggplot(dat, aes(x = time, y = surv)) +\n",
    "      xlab(xlab) + ylab(ylab) + ggtitle(main) +\n",
    "      geom_step(col = col, lty = lty.est)\n",
    " \n",
    "    pl <- if(CI == T | CI == 'def') {\n",
    "      pl + geom_step(aes(y = up), color = col, lty = lty.ci) +\n",
    "        geom_step(aes(y = low), color = col, lty = lty.ci)\n",
    "    } else (pl)\n",
    " \n",
    "    pl <- if(plot.cens == T & length(dat.cens) > 0){\n",
    "      pl + geom_point(data = dat.cens, aes(y = surv), shape = cens.shape,\n",
    "                       col = cens.col)\n",
    "    } else if (plot.cens == T & length(dat.cens) == 0){\n",
    "      stop ('There are no censored observations')\n",
    "    } else(pl)\n",
    " \n",
    "    pl <- if(back.white == T) {pl + theme_bw()\n",
    "    } else (pl)\n",
    "    pl\n",
    "  }\n",
    " \n",
    "  ggsurv.m <- function(s, CI = 'def', plot.cens = T, surv.col = 'gg.def',\n",
    "                       cens.col = 'red', lty.est = 1, lty.ci = 2,\n",
    "                       cens.shape = 3, back.white = F, xlab = 'Time',\n",
    "                       ylab = 'Survival', main = '') {\n",
    "    n <- s$strata\n",
    " \n",
    "    groups <- factor(unlist(strsplit(names\n",
    "                                     (s$strata), '='))[seq(2, 2*strata, by = 2)])\n",
    "    gr.name <-  unlist(strsplit(names(s$strata), '='))[1]\n",
    "    gr.df <- vector('list', strata)\n",
    "    ind <- vector('list', strata)\n",
    "    n.ind <- c(0,n); n.ind <- cumsum(n.ind)\n",
    "    for(i in 1:strata) ind[[i]] <- (n.ind[i]+1):n.ind[i+1]\n",
    " \n",
    "    for(i in 1:strata){\n",
    "      gr.df[[i]] <- data.frame(\n",
    "        time = c(0, s$time[ ind[[i]] ]),\n",
    "        surv = c(1, s$surv[ ind[[i]] ]),\n",
    "        up = c(1, s$upper[ ind[[i]] ]),\n",
    "        low = c(1, s$lower[ ind[[i]] ]),\n",
    "        cens = c(0, s$n.censor[ ind[[i]] ]),\n",
    "        group = rep(groups[i], n[i] + 1))\n",
    "    }\n",
    " \n",
    "    dat <- do.call(rbind, gr.df)\n",
    "    dat.cens <- subset(dat, cens != 0)\n",
    " \n",
    "    pl <- ggplot(dat, aes(x = time, y = surv, group = group)) +\n",
    "      xlab(xlab) + ylab(ylab) + ggtitle(main) +\n",
    "      geom_step(aes(col = group, lty = group))\n",
    " \n",
    "    col <- if(length(surv.col == 1)){\n",
    "      scale_colour_manual(name = gr.name, values = rep(surv.col, strata))\n",
    "    } else{\n",
    "      scale_colour_manual(name = gr.name, values = surv.col)\n",
    "    }\n",
    " \n",
    "    pl <- if(surv.col[1] != 'gg.def'){\n",
    "      pl + col\n",
    "    } else {pl + scale_colour_discrete(name = gr.name)}\n",
    " \n",
    "    line <- if(length(lty.est) == 1){\n",
    "      scale_linetype_manual(name = gr.name, values = rep(lty.est, strata))\n",
    "    } else {scale_linetype_manual(name = gr.name, values = lty.est)}\n",
    " \n",
    "    pl <- pl + line\n",
    " \n",
    "    pl <- if(CI == T) {\n",
    "      if(length(surv.col) > 1 && length(lty.est) > 1){\n",
    "        stop('Either surv.col or lty.est should be of length 1 in order\n",
    "             to plot 95% CI with multiple strata')\n",
    "      }else if((length(surv.col) > 1 | surv.col == 'gg.def')[1]){\n",
    "        pl + geom_step(aes(y = up, color = group), lty = lty.ci) +\n",
    "          geom_step(aes(y = low, color = group), lty = lty.ci)\n",
    "      } else{pl +  geom_step(aes(y = up, lty = group), col = surv.col) +\n",
    "               geom_step(aes(y = low,lty = group), col = surv.col)}\n",
    "    } else {pl}\n",
    " \n",
    " \n",
    "    pl <- if(plot.cens == T & length(dat.cens) > 0){\n",
    "      pl + geom_point(data = dat.cens, aes(y = surv), shape = cens.shape,\n",
    "                      col = cens.col)\n",
    "    } else if (plot.cens == T & length(dat.cens) == 0){\n",
    "      stop ('There are no censored observations')\n",
    "    } else(pl)\n",
    " \n",
    "    pl <- if(back.white == T) {pl + theme_bw()\n",
    "    } else (pl)\n",
    "    pl\n",
    "  }\n",
    "  pl <- if(strata == 1) {ggsurv.s(s, CI , plot.cens, surv.col ,\n",
    "                                  cens.col, lty.est, lty.ci,\n",
    "                                  cens.shape, back.white, xlab,\n",
    "                                  ylab, main)\n",
    "  } else {ggsurv.m(s, CI, plot.cens, surv.col ,\n",
    "                   cens.col, lty.est, lty.ci,\n",
    "                   cens.shape, back.white, xlab,\n",
    "                   ylab, main)}\n",
    "  pl\n",
    "}"
   ]
  },
  {
   "cell_type": "code",
   "execution_count": 22,
   "metadata": {},
   "outputs": [
    {
     "data": {
      "image/png": "[encoded data removed]"
     },
     "metadata": {},
     "output_type": "display_data"
    }
   ],
   "source": [
    "%%R -h 400\n",
    "p <- ggsurv(surv.fit) + theme_bw()\n",
    "p"
   ]
  },
  {
   "cell_type": "markdown",
   "metadata": {},
   "source": [
    "The `y-axis` represents the probability a patient is still alive at time t weeks. We see a steep drop off within the first 100 weeks, and then observe the curve flattening. The dotted lines represent the 95% confidence intervals."
   ]
  },
  {
   "cell_type": "markdown",
   "metadata": {},
   "source": [
    "### Using Python\n",
    "\n",
    "We will now replicate the above steps using python. Above, we have already specified a variable tongues that holds the data in a pandas dataframe."
   ]
  },
  {
   "cell_type": "code",
   "execution_count": 23,
   "metadata": {
    "collapsed": true
   },
   "outputs": [],
   "source": [
    "from lifelines.estimation import KaplanMeierFitter\n",
    "kmf = KaplanMeierFitter()"
   ]
  },
  {
   "cell_type": "markdown",
   "metadata": {},
   "source": [
    "The method takes the same parameters as it's R counterpart, a time vector and a vector indicating which observations are observed or censored. "
   ]
  },
  {
   "cell_type": "code",
   "execution_count": 24,
   "metadata": {},
   "outputs": [
    {
     "data": {
      "text/plain": [
       "<matplotlib.axes._subplots.AxesSubplot at 0x7f27362a0c50>"
      ]
     },
     "execution_count": 24,
     "metadata": {},
     "output_type": "execute_result"
    },
    {
     "data": {
      "image/png": "[encoded data removed]",
      "text/plain": [
       "<matplotlib.figure.Figure at 0x7f2736297a50>"
      ]
     },
     "metadata": {},
     "output_type": "display_data"
    }
   ],
   "source": [
    "f = tongue.type==1\n",
    "T = tongue[f]['time']\n",
    "C = tongue[f]['delta']\n",
    "\n",
    "kmf.fit(T, event_observed=C)\n",
    "kmf.plot(title='Tumor DNA Profile 1')"
   ]
  },
  {
   "cell_type": "markdown",
   "metadata": {
    "collapsed": true
   },
   "source": [
    "Now we can convert this plot to an interactive [Plotly](https://plot.ly/) object. However, we will have to augment the legend and filled area manually. Once we create a helper function, the process is simple.\n",
    "\n",
    "Please see the Plotly Python [user guide](https://plot.ly/python/overview/#in-%5B37%5D) for more insight on how to update plot parameters.\n",
    "\n",
    "> We can also easily edit the chart properties using the Plotly GUI interface by clicking the \"Play with this data!\" link below the chart."
   ]
  },
  {
   "cell_type": "code",
   "execution_count": 49,
   "metadata": {},
   "outputs": [
    {
     "data": {
      "text/html": [
       "<script>requirejs.config({paths: { 'plotly': ['https://cdn.plot.ly/plotly-latest.min']},});if(!window.Plotly) {{require(['plotly'],function(plotly) {window.Plotly=plotly;});}}</script>"
      ],
      "text/vnd.plotly.v1+html": [
       "<script>requirejs.config({paths: { 'plotly': ['https://cdn.plot.ly/plotly-latest.min']},});if(!window.Plotly) {{require(['plotly'],function(plotly) {window.Plotly=plotly;});}}</script>"
      ]
     },
     "metadata": {},
     "output_type": "display_data"
    },
    {
     "data": {
      "text/plain": [
       "'file:///home/alvaro/Documentos/Analytics/Survival/temp-plot.html'"
      ]
     },
     "execution_count": 49,
     "metadata": {},
     "output_type": "execute_result"
    }
   ],
   "source": [
    "from plotly.offline import download_plotlyjs, init_notebook_mode, plot, iplot\n",
    "\n",
    "p = kmf.plot(ci_force_lines=True, title='Tumor DNA Profile 1 (95% CI)')\n",
    "\n",
    "# Collect the plot object\n",
    "kmf1 = plt.gcf() \n",
    "\n",
    "def pyplot(fig, ci=True, legend=True):\n",
    "    \"\"\"\n",
    "    Convert mpl fig obj to plotly fig obj, resize to plotly's default\n",
    "    Plotly opens (offline) in new window\n",
    "    \"\"\"\n",
    "    \n",
    "    py_fig = tls.mpl_to_plotly(fig, resize=True)\n",
    "    \n",
    "    # Add fill property to lower limit line\n",
    "    if ci == True:\n",
    "        style1 = dict(fill='tonexty')\n",
    "        # apply style\n",
    "        py_fig['data'][2].update(style1)\n",
    "        \n",
    "        # Change color scheme to black\n",
    "        py_fig['data'].update(dict(line=Line(color='black')))\n",
    "    \n",
    "    # change the default line type to 'step'\n",
    "    py_fig['data'].update(dict(line=Line(shape='hv')))\n",
    "    # Delete misplaced legend annotations \n",
    "    py_fig['layout'].pop('annotations', None)\n",
    "    \n",
    "    if legend == True:\n",
    "        # Add legend, place it at the top right corner of the plot\n",
    "        py_fig['layout'].update(\n",
    "            showlegend=True,\n",
    "            legend=Legend(\n",
    "                x=1.05,\n",
    "                y=1\n",
    "            )\n",
    "        )\n",
    "        \n",
    "    # Send updated figure object to Plotly, show result in notebook\n",
    "    return plot(py_fig)\n",
    "\n",
    "init_notebook_mode(connected=True)\n",
    "pyplot(kmf1, legend=False)"
   ]
  },
  {
   "cell_type": "markdown",
   "metadata": {},
   "source": [
    "## Multiple Types\n",
    "\n",
    "### Using R\n",
    "\n",
    "Many times there are different groups contained in a single dataset. These may represent categories such as treatment groups, different species, or different manufacturing techniques. The type variable in the tongues dataset describes a patients DNA profile. Below we define a Kaplan-Meier estimate for each of these groups in R and Python."
   ]
  },
  {
   "cell_type": "code",
   "execution_count": 55,
   "metadata": {},
   "outputs": [
    {
     "data": {
      "image/png": "[encoded data removed]"
     },
     "metadata": {},
     "output_type": "display_data"
    }
   ],
   "source": [
    "%%R\n",
    "\n",
    "surv.fit2 <- survfit( Surv(time, delta) ~ type)\n",
    "\n",
    "p <- ggsurv(surv.fit2) + ggtitle('Lifespans of different tumor DNA profile') + theme_bw()\n",
    "\n",
    "p"
   ]
  },
  {
   "cell_type": "markdown",
   "metadata": {},
   "source": [
    "### Using Python"
   ]
  },
  {
   "cell_type": "code",
   "execution_count": 60,
   "metadata": {},
   "outputs": [
    {
     "data": {
      "image/png": "[encoded data removed]",
      "text/plain": [
       "<matplotlib.figure.Figure at 0x7f272d930c90>"
      ]
     },
     "metadata": {},
     "output_type": "display_data"
    }
   ],
   "source": [
    "f2 = tongue.type==2\n",
    "T2 = tongue[f2]['time']\n",
    "C2 = tongue[f2]['delta']\n",
    "\n",
    "ax = plt.subplot(111)\n",
    "\n",
    "kmf.fit(T, event_observed=C, label=['Type 1 DNA'])\n",
    "kmf.survival_function_.plot(ax=ax)\n",
    "kmf.fit(T2, event_observed=C2, label=['Type 2 DNA'])\n",
    "kmf.survival_function_.plot(ax=ax)\n",
    "\n",
    "plt.title('Lifespans of different tumor DNA profile')\n",
    "\n",
    "kmf2 = plt.gcf()"
   ]
  },
  {
   "cell_type": "markdown",
   "metadata": {},
   "source": [
    "Convert to a Plotly object:"
   ]
  },
  {
   "cell_type": "code",
   "execution_count": 62,
   "metadata": {},
   "outputs": [
    {
     "data": {
      "text/plain": [
       "'file:///home/alvaro/Documentos/Analytics/Survival/temp-plot.html'"
      ]
     },
     "execution_count": 62,
     "metadata": {},
     "output_type": "execute_result"
    }
   ],
   "source": [
    "pyplot(kmf2, ci=False)"
   ]
  },
  {
   "cell_type": "markdown",
   "metadata": {},
   "source": [
    "## Testing for Difference\n",
    "\n",
    "It looks like DNA Type 2 is potentially more deadly, or more difficult to treat compared to Type 1. However, the difference between these survival curves still does not seem dramatic. It will be useful to perform a statistical test on the different DNA profiles to see if their survival rates are significantly different.\n",
    "\n",
    "Python's `lifelines` contains methods in `lifelines.statistics`, and the R package `survival` uses a function `survdiff()`. Both functions return a p-value from a chi-squared distribution.\n",
    "\n",
    "It turns out these two DNA types do not have significantly different survival rates."
   ]
  },
  {
   "cell_type": "markdown",
   "metadata": {},
   "source": [
    "### Using R"
   ]
  },
  {
   "cell_type": "code",
   "execution_count": 63,
   "metadata": {},
   "outputs": [
    {
     "data": {
      "text/plain": [
       "Call:\n",
       "survdiff(formula = Surv(time, delta) ~ type)\n",
       "\n",
       "        N Observed Expected (O-E)^2/E (O-E)^2/V\n",
       "type=1 52       31     36.6     0.843      2.79\n",
       "type=2 28       22     16.4     1.873      2.79\n",
       "\n",
       " Chisq= 2.8  on 1 degrees of freedom, p= 0.0949 \n"
      ]
     },
     "metadata": {},
     "output_type": "display_data"
    }
   ],
   "source": [
    "%%R \n",
    "survdiff(Surv(time, delta) ~ type)"
   ]
  },
  {
   "cell_type": "markdown",
   "metadata": {},
   "source": [
    "### Using Python"
   ]
  },
  {
   "cell_type": "code",
   "execution_count": 66,
   "metadata": {},
   "outputs": [
    {
     "name": "stdout",
     "output_type": "stream",
     "text": [
      "<lifelines.StatisticalResult: \n",
      "Results\n",
      "   df: 1\n",
      "   alpha: 0.99\n",
      "   t 0: -1\n",
      "   test: logrank\n",
      "   null distribution: chi squared\n",
      "\n",
      "   __ p-value ___|__ test statistic __|____ test result ____|__ is significant __\n",
      "         0.09487 |              2.790 |  Cannot Reject Null |       False       \n",
      ">\n"
     ]
    }
   ],
   "source": [
    "from lifelines.statistics import logrank_test\n",
    "summary_= logrank_test(T, T2, C, C2, alpha=0.99)\n",
    "\n",
    "print summary_"
   ]
  },
  {
   "cell_type": "markdown",
   "metadata": {},
   "source": [
    "## Estimating Hazard Rates"
   ]
  },
  {
   "cell_type": "markdown",
   "metadata": {},
   "source": [
    "### Using R"
   ]
  },
  {
   "cell_type": "markdown",
   "metadata": {},
   "source": [
    "To estimate the hazard function, we compute the cumulative hazard function using the [Nelson-Aalen estimator](https://plot.ly/ipython-notebooks/survival-analysis-r-vs-python/), defined as:\n",
    "\n",
    "$$\n",
    "\\begin{eqnarray}\n",
    "\\hat \\Lambda (t) = \\sum_{t_i\\leq t}\\frac{d_i}{n_i}\n",
    "\\end{eqnarray}\n",
    "$$\n",
    "\n",
    "where $d_i$ is the number of deaths at time $t_i$ and $n_i$ is the number of susceptible individuals. Both R and Python modules use the same estimator. However, in R we will use the $-\\log$ of the *Fleming and Harrington* estimator, which is equivalent to the *Nelson-Aalen*."
   ]
  },
  {
   "cell_type": "code",
   "execution_count": 67,
   "metadata": {},
   "outputs": [
    {
     "data": {
      "image/png": "[encoded data removed]"
     },
     "metadata": {},
     "output_type": "display_data"
    }
   ],
   "source": [
    "%%R  \n",
    "\n",
    "haz <- Surv(time[type==1], delta[type==1])\n",
    "haz.fit  <- summary(survfit(haz ~ 1), type='fh')\n",
    "\n",
    "x <- c(haz.fit$time, 250)\n",
    "y <- c(-log(haz.fit$surv), 1.474)\n",
    "cum.haz <- data.frame(time=x, cumulative.hazard=y)\n",
    "\n",
    "p <- ggplot(cum.haz, aes(time, cumulative.hazard)) + geom_step() + theme_bw() + \n",
    "        ggtitle('Nelson-Aalen Estimate')\n",
    "p"
   ]
  },
  {
   "cell_type": "markdown",
   "metadata": {},
   "source": [
    "### Using Python"
   ]
  },
  {
   "cell_type": "code",
   "execution_count": 68,
   "metadata": {},
   "outputs": [
    {
     "data": {
      "text/plain": [
       "<matplotlib.axes._subplots.AxesSubplot at 0x7f272da32550>"
      ]
     },
     "execution_count": 68,
     "metadata": {},
     "output_type": "execute_result"
    },
    {
     "data": {
      "image/png": "[encoded data removed]",
      "text/plain": [
       "<matplotlib.figure.Figure at 0x7f272da3c590>"
      ]
     },
     "metadata": {},
     "output_type": "display_data"
    }
   ],
   "source": [
    "from lifelines.estimation import NelsonAalenFitter\n",
    "\n",
    "naf = NelsonAalenFitter()\n",
    "naf.fit(T, event_observed=C)\n",
    "\n",
    "naf.plot(title='Nelson-Aalen Estimate')"
   ]
  },
  {
   "cell_type": "code",
   "execution_count": 69,
   "metadata": {},
   "outputs": [
    {
     "data": {
      "text/plain": [
       "'file:///home/alvaro/Documentos/Analytics/Survival/temp-plot.html'"
      ]
     },
     "execution_count": 69,
     "metadata": {},
     "output_type": "execute_result"
    }
   ],
   "source": [
    "naf.plot(ci_force_lines=True, title='Nelson-Aalen Estimate')\n",
    "py_p = plt.gcf()\n",
    "\n",
    "pyplot(py_p, legend=False)"
   ]
  }
 ],
 "metadata": {
  "kernelspec": {
   "display_name": "Python 3",
   "language": "python",
   "name": "python3"
  },
  "language_info": {
   "codemirror_mode": {
    "name": "ipython",
    "version": 3
   },
   "file_extension": ".py",
   "mimetype": "text/x-python",
   "name": "python",
   "nbconvert_exporter": "python",
   "pygments_lexer": "ipython3",
   "version": "3.6.8"
  }
 },
 "nbformat": 4,
 "nbformat_minor": 2
}
