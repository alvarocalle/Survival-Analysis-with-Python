{
 "cells": [
  {
   "cell_type": "markdown",
   "metadata": {
    "run_control": {
     "frozen": false,
     "read_only": false
    }
   },
   "source": [
    "# Hard Disk Drive (HDD) survival analysis in python\n",
    "\n",
    "## Part I: data cleaning and preparation\n",
    "\n",
    "Date: December 2017\n",
    "\n",
    "Autor: [Alvaro Calle Cordon](www.linkedin.com/in/alvarocallecordon)\n",
    "\n",
    "Notebook uses Python 2.7"
   ]
  },
  {
   "cell_type": "markdown",
   "metadata": {
    "run_control": {
     "frozen": false,
     "read_only": false
    }
   },
   "source": [
    "## Descripción del notebook\n",
    "\n",
    "**Notebooks**\n",
    "\n",
    "This notebook prepares the HDD data to perform a survival analysis. It is the first notebook in a series of three where we explore the use of the python `lifelines` library for the analysis. \n",
    "\n",
    "- HDD_survival_II_KM: Kaplan-Meier non-parametric estimators\n",
    "- HDD_survival_III_Cox: Application of CoxPH for hard drive failure data\n",
    "\n",
    "**Data**\n",
    "\n",
    "- Data has been retrieved from [BackBlaze](https://www.backblaze.com/b2/hard-drive-test-data.html)\n",
    "- BackBlaze provides cleaned logfiles for the entire period and a small set of SQL files to create a sqlite database. This database will be read from the python notebook and analyzed"
   ]
  },
  {
   "cell_type": "markdown",
   "metadata": {},
   "source": [
    "## Documentación\n",
    "\n",
    "- https://github.com/MustafaOguz/Survival_Analysis\n",
    "- https://github.com/search?l=Python&q=survival+analysis&type=Repositories&utf8=%E2%9C%93\n",
    "- https://github.com/eduardoleon/survival\n",
    "- https://github.com/jaredleekatzman/DeepSurv\n",
    "- https://github.com/CamDavidsonPilon/lifelines\n",
    "- http://lifelines.readthedocs.io/en/latest/Survival%20Analysis%20intro.html\n",
    "- http://blog.applied.ai/survival-analysis-part1"
   ]
  },
  {
   "cell_type": "markdown",
   "metadata": {
    "run_control": {
     "frozen": false,
     "read_only": false
    }
   },
   "source": [
    "## Setup"
   ]
  },
  {
   "cell_type": "markdown",
   "metadata": {},
   "source": [
    "### Initial setups"
   ]
  },
  {
   "cell_type": "code",
   "execution_count": 1,
   "metadata": {
    "collapsed": true,
    "run_control": {
     "frozen": false,
     "read_only": false
    }
   },
   "outputs": [],
   "source": [
    "# plots in the notebook\n",
    "%matplotlib inline\n",
    "\n",
    "# fire ipython console\n",
    "#%qtconsole --colors=linux --ConsoleWidget.font_size=12 --ConsoleWidget.font_family='Consolas'"
   ]
  },
  {
   "cell_type": "markdown",
   "metadata": {},
   "source": [
    "### Libraries"
   ]
  },
  {
   "cell_type": "code",
   "execution_count": 2,
   "metadata": {
    "collapsed": true
   },
   "outputs": [],
   "source": [
    "# suppress warnings\n",
    "import warnings\n",
    "warnings.filterwarnings('ignore')\n",
    "\n",
    "import matplotlib.pyplot as plt\n",
    "import seaborn as sns\n",
    "import numpy as np\n",
    "import pandas as pd\n",
    "import sqlite3"
   ]
  },
  {
   "cell_type": "markdown",
   "metadata": {},
   "source": [
    "### Customizations"
   ]
  },
  {
   "cell_type": "raw",
   "metadata": {},
   "source": [
    "# set default styles for plotting via pandas, seaborn and matplotlib\n",
    "pd.set_option('display.mpl_style', 'default')\n",
    "pd.set_option('display.notebook_repr_html', True)\n",
    "sns.set(style='darkgrid')\n",
    "cmap_clrbld = ['#777777','#E69F00','#56B4E9','#D3C511'\n",
    "               ,'#009E73','#8D42F0','#0072B2','#D55E00','#CC79A7']\n",
    "plt.rcParams['axes.color_cycle'] = cmap_clrbld\n",
    "plt.rcParams['figure.figsize'] = 10, 6\n",
    "\n",
    "np.random.seed(0)   \n",
    "\n",
    "# set font format\n",
    "font = {'family': 'serif',\n",
    "        'color': 'black',\n",
    "        'weight': 'normal',\n",
    "        'size': 12}"
   ]
  },
  {
   "cell_type": "markdown",
   "metadata": {
    "run_control": {
     "frozen": false,
     "read_only": false
    }
   },
   "source": [
    "## Loading the data\n",
    "\n",
    "We assume that the sqlitle database has been created following BackBlaze instructions and that we have a basic database in the current local directory called `drive_stats.db`"
   ]
  },
  {
   "cell_type": "code",
   "execution_count": 3,
   "metadata": {},
   "outputs": [
    {
     "data": {
      "text/plain": [
       "u'/home/alvaro/Documentos/Analytics/Survival'"
      ]
     },
     "execution_count": 3,
     "metadata": {},
     "output_type": "execute_result"
    }
   ],
   "source": [
    "# Where am I:\n",
    "%pwd"
   ]
  },
  {
   "cell_type": "code",
   "execution_count": 18,
   "metadata": {},
   "outputs": [
    {
     "name": "stdout",
     "output_type": "stream",
     "text": [
      "\u001b[0m\u001b[01;34mdata_Q3_2016\u001b[0m/     \u001b[01;31mdocs_Q3_2016+.zip\u001b[0m   drive_survival.sql~\r\n",
      "\u001b[01;31mdata_Q3_2016.zip\u001b[0m  drive_stats.db      hard_drives_survival.ipynb\r\n",
      "\u001b[01;34mdocs_Q3_2016\u001b[0m/     drive_survival.sql\r\n"
     ]
    }
   ],
   "source": [
    "# check drive_stats.db is in the current directory\n",
    "%ls"
   ]
  },
  {
   "cell_type": "markdown",
   "metadata": {
    "run_control": {
     "frozen": false,
     "read_only": false
    }
   },
   "source": [
    "### SQL connector"
   ]
  },
  {
   "cell_type": "code",
   "execution_count": 5,
   "metadata": {
    "collapsed": true
   },
   "outputs": [],
   "source": [
    "cnx = sqlite3.connect('drive_stats.db')\n",
    "csr = cnx.cursor()"
   ]
  },
  {
   "cell_type": "markdown",
   "metadata": {},
   "source": [
    "### Pre-processed data from sqlitle db"
   ]
  },
  {
   "cell_type": "code",
   "execution_count": 49,
   "metadata": {
    "collapsed": true
   },
   "outputs": [],
   "source": [
    "# original data:\n",
    "#query = 'select * from drive_stats'\n",
    "#df = pd.read_sql(query, con=cnx, index_col=None, parse_dates='date')\n",
    "\n",
    "# processed data:\n",
    "query = 'select * from drive_survival'\n",
    "df = pd.read_sql(query, con=cnx, index_col='diskid', parse_dates=['mindate','maxdate'])"
   ]
  },
  {
   "cell_type": "code",
   "execution_count": 50,
   "metadata": {
    "collapsed": true
   },
   "outputs": [
    {
     "name": "stdout",
     "output_type": "stream",
     "text": [
      "(74574, 8)\n"
     ]
    }
   ],
   "source": [
    "print df.shape"
   ]
  },
  {
   "cell_type": "code",
   "execution_count": 51,
   "metadata": {},
   "outputs": [
    {
     "data": {
      "text/html": [
       "<div>\n",
       "<style>\n",
       "    .dataframe thead tr:only-child th {\n",
       "        text-align: right;\n",
       "    }\n",
       "\n",
       "    .dataframe thead th {\n",
       "        text-align: left;\n",
       "    }\n",
       "\n",
       "    .dataframe tbody tr th {\n",
       "        vertical-align: top;\n",
       "    }\n",
       "</style>\n",
       "<table border=\"1\" class=\"dataframe\">\n",
       "  <thead>\n",
       "    <tr style=\"text-align: right;\">\n",
       "      <th></th>\n",
       "      <th>model</th>\n",
       "      <th>capacitybytes</th>\n",
       "      <th>mindate</th>\n",
       "      <th>maxdate</th>\n",
       "      <th>nrecords</th>\n",
       "      <th>minhours</th>\n",
       "      <th>maxhours</th>\n",
       "      <th>failed</th>\n",
       "    </tr>\n",
       "    <tr>\n",
       "      <th>diskid</th>\n",
       "      <th></th>\n",
       "      <th></th>\n",
       "      <th></th>\n",
       "      <th></th>\n",
       "      <th></th>\n",
       "      <th></th>\n",
       "      <th></th>\n",
       "      <th></th>\n",
       "    </tr>\n",
       "  </thead>\n",
       "  <tbody>\n",
       "    <tr>\n",
       "      <th>13H2B97AS</th>\n",
       "      <td>TOSHIBA DT01ACA300</td>\n",
       "      <td>3000592982016</td>\n",
       "      <td>2016-07-01</td>\n",
       "      <td>2016-09-30</td>\n",
       "      <td>92</td>\n",
       "      <td>20641</td>\n",
       "      <td>22825</td>\n",
       "      <td>0</td>\n",
       "    </tr>\n",
       "    <tr>\n",
       "      <th>13H32WEAS</th>\n",
       "      <td>TOSHIBA DT01ACA300</td>\n",
       "      <td>3000592982016</td>\n",
       "      <td>2016-07-01</td>\n",
       "      <td>2016-09-30</td>\n",
       "      <td>92</td>\n",
       "      <td>27892</td>\n",
       "      <td>30076</td>\n",
       "      <td>0</td>\n",
       "    </tr>\n",
       "    <tr>\n",
       "      <th>13H6A21GS</th>\n",
       "      <td>TOSHIBA DT01ACA300</td>\n",
       "      <td>3000592982016</td>\n",
       "      <td>2016-07-01</td>\n",
       "      <td>2016-09-30</td>\n",
       "      <td>92</td>\n",
       "      <td>27258</td>\n",
       "      <td>29442</td>\n",
       "      <td>0</td>\n",
       "    </tr>\n",
       "    <tr>\n",
       "      <th>13H7X2HAS</th>\n",
       "      <td>TOSHIBA DT01ACA300</td>\n",
       "      <td>3000592982016</td>\n",
       "      <td>2016-07-01</td>\n",
       "      <td>2016-09-30</td>\n",
       "      <td>92</td>\n",
       "      <td>14502</td>\n",
       "      <td>16686</td>\n",
       "      <td>0</td>\n",
       "    </tr>\n",
       "    <tr>\n",
       "      <th>13H85BMGS</th>\n",
       "      <td>TOSHIBA DT01ACA300</td>\n",
       "      <td>3000592982016</td>\n",
       "      <td>2016-07-01</td>\n",
       "      <td>2016-09-30</td>\n",
       "      <td>92</td>\n",
       "      <td>24503</td>\n",
       "      <td>26687</td>\n",
       "      <td>0</td>\n",
       "    </tr>\n",
       "  </tbody>\n",
       "</table>\n",
       "</div>"
      ],
      "text/plain": [
       "                        model  capacitybytes    mindate    maxdate  nrecords  \\\n",
       "diskid                                                                         \n",
       "13H2B97AS  TOSHIBA DT01ACA300  3000592982016 2016-07-01 2016-09-30        92   \n",
       "13H32WEAS  TOSHIBA DT01ACA300  3000592982016 2016-07-01 2016-09-30        92   \n",
       "13H6A21GS  TOSHIBA DT01ACA300  3000592982016 2016-07-01 2016-09-30        92   \n",
       "13H7X2HAS  TOSHIBA DT01ACA300  3000592982016 2016-07-01 2016-09-30        92   \n",
       "13H85BMGS  TOSHIBA DT01ACA300  3000592982016 2016-07-01 2016-09-30        92   \n",
       "\n",
       "           minhours  maxhours  failed  \n",
       "diskid                                 \n",
       "13H2B97AS     20641     22825       0  \n",
       "13H32WEAS     27892     30076       0  \n",
       "13H6A21GS     27258     29442       0  \n",
       "13H7X2HAS     14502     16686       0  \n",
       "13H85BMGS     24503     26687       0  "
      ]
     },
     "execution_count": 51,
     "metadata": {},
     "output_type": "execute_result"
    }
   ],
   "source": [
    "df.head()"
   ]
  },
  {
   "cell_type": "markdown",
   "metadata": {},
   "source": [
    "Now the new table `drive_survival` has, for each individual drive throughout the study:\n",
    "\n",
    "- diskid/serial number\n",
    "- model: drive manufacturer\n",
    "- capacitybytes: capacity in bytes\n",
    "- mindate/maxdate: first and final dates of operation\n",
    "- nrecords: number of days in which it appears (this may not equal the elapsed days between first and final date)\n",
    "- minhours/maxhours: first and final value of smart_9_raw, the summed hours in operation\n",
    "- failed: a flag of whether the drive failed or survived the whole way through"
   ]
  },
  {
   "cell_type": "code",
   "execution_count": 26,
   "metadata": {},
   "outputs": [
    {
     "data": {
      "text/plain": [
       "model                    object\n",
       "capacitybytes             int64\n",
       "mindate          datetime64[ns]\n",
       "maxdate          datetime64[ns]\n",
       "nrecords                  int64\n",
       "minhours                  int64\n",
       "maxhours                  int64\n",
       "failed                    int64\n",
       "dtype: object"
      ]
     },
     "execution_count": 26,
     "metadata": {},
     "output_type": "execute_result"
    }
   ],
   "source": [
    "df.dtypes"
   ]
  },
  {
   "cell_type": "markdown",
   "metadata": {},
   "source": [
    "## Initial Cleaning and Descriptive Analysis\n",
    "\n",
    "Observe distributions for static data, missing values etc and take corrections accordingly"
   ]
  },
  {
   "cell_type": "markdown",
   "metadata": {},
   "source": [
    "### 1. Reduction: remove disks with more than one failure\n",
    "\n",
    "Here we will consider time-to-failure analysis, i.e., hard disks are remove as soon as they fail."
   ]
  },
  {
   "cell_type": "code",
   "execution_count": 28,
   "metadata": {},
   "outputs": [
    {
     "data": {
      "text/plain": [
       "failed\n",
       "0    74215\n",
       "1      359\n",
       "dtype: int64"
      ]
     },
     "execution_count": 28,
     "metadata": {},
     "output_type": "execute_result"
    }
   ],
   "source": [
    "# check if there are hard-disks with more than a failure\n",
    "df.groupby('failed').size()"
   ]
  },
  {
   "cell_type": "markdown",
   "metadata": {},
   "source": [
    "No need for reduction"
   ]
  },
  {
   "cell_type": "markdown",
   "metadata": {},
   "source": [
    "### 2. Reduction: ignore drives that are too small or too big"
   ]
  },
  {
   "cell_type": "code",
   "execution_count": 36,
   "metadata": {},
   "outputs": [
    {
     "data": {
      "text/plain": [
       "capacitybytes\n",
       "160041885696       189\n",
       "250000000000         1\n",
       "250059350016        97\n",
       "320072933376        48\n",
       "500107862016      1260\n",
       "1000204886016      222\n",
       "1500301910016       45\n",
       "2000398934016     3872\n",
       "3000592982016     6630\n",
       "4000787030016    54629\n",
       "5000981078016       45\n",
       "6001175126016     2356\n",
       "8001563222016     5180\n",
       "dtype: int64"
      ]
     },
     "execution_count": 36,
     "metadata": {},
     "output_type": "execute_result"
    }
   ],
   "source": [
    "df.groupby('capacitybytes').size()"
   ]
  },
  {
   "cell_type": "markdown",
   "metadata": {},
   "source": [
    "Decision: remove drives below 1.5TB and above 6TB, and remove single instance 1TB drives"
   ]
  },
  {
   "cell_type": "code",
   "execution_count": 60,
   "metadata": {},
   "outputs": [
    {
     "name": "stdout",
     "output_type": "stream",
     "text": [
      "(67577, 8)\n"
     ]
    },
    {
     "data": {
      "text/plain": [
       "capacitybytes\n",
       "1500301910016       45\n",
       "2000398934016     3872\n",
       "3000592982016     6630\n",
       "4000787030016    54629\n",
       "5000981078016       45\n",
       "6001175126016     2356\n",
       "dtype: int64"
      ]
     },
     "execution_count": 60,
     "metadata": {},
     "output_type": "execute_result"
    },
    {
     "data": {
      "image/png": "[encoded data removed]",
      "text/plain": [
       "<matplotlib.figure.Figure at 0x7f060cf1fd50>"
      ]
     },
     "metadata": {},
     "output_type": "display_data"
    }
   ],
   "source": [
    "df['capacitybytes'].hist(bins=25)\n",
    "condition = (df['capacitybytes'] > 1.5e12) & (df['capacitybytes'] < 7e12)\n",
    "df = df.loc[condition]\n",
    "print(df.shape)\n",
    "df.groupby('capacitybytes').size()"
   ]
  },
  {
   "cell_type": "markdown",
   "metadata": {},
   "source": [
    "### 3. Correction: properly identify manufacturer\n",
    "\n",
    "The column `model` of the supplied raw data actually contains both manufacturer and model information. We need to separate manufacturer name from model column. \n",
    "- We take advantage of the fact that manufacturer and model are separated by a blank space.\n",
    "- We need to account for the fact that manufacturer is not always present in model, therefore we include an if-condition in the apply function.\n",
    "- The missing manufacturer corresponds to Seagate, therefore after the above transformation, we re-name ST** as Correct `SEAGATE`.\n",
    "- Hitachi and HGST are the same manufacturer, we merge them."
   ]
  },
  {
   "cell_type": "code",
   "execution_count": 65,
   "metadata": {},
   "outputs": [
    {
     "data": {
      "text/plain": [
       "diskid\n",
       "13H2B97AS    TOSHIBA DT01ACA300\n",
       "13H32WEAS    TOSHIBA DT01ACA300\n",
       "13H6A21GS    TOSHIBA DT01ACA300\n",
       "13H7X2HAS    TOSHIBA DT01ACA300\n",
       "13H85BMGS    TOSHIBA DT01ACA300\n",
       "Name: model, dtype: object"
      ]
     },
     "execution_count": 65,
     "metadata": {},
     "output_type": "execute_result"
    }
   ],
   "source": [
    "df['model'].head()"
   ]
  },
  {
   "cell_type": "code",
   "execution_count": 66,
   "metadata": {},
   "outputs": [
    {
     "data": {
      "text/plain": [
       "diskid\n",
       "13H2B97AS    [TOSHIBA, DT01ACA300]\n",
       "13H32WEAS    [TOSHIBA, DT01ACA300]\n",
       "13H6A21GS    [TOSHIBA, DT01ACA300]\n",
       "13H7X2HAS    [TOSHIBA, DT01ACA300]\n",
       "13H85BMGS    [TOSHIBA, DT01ACA300]\n",
       "Name: model, dtype: object"
      ]
     },
     "execution_count": 66,
     "metadata": {},
     "output_type": "execute_result"
    }
   ],
   "source": [
    "df['model'].apply(lambda x: x.split(\" \")).head()"
   ]
  },
  {
   "cell_type": "markdown",
   "metadata": {},
   "source": [
    "**Split manufacturer-model in two columns**"
   ]
  },
  {
   "cell_type": "code",
   "execution_count": 67,
   "metadata": {},
   "outputs": [
    {
     "data": {
      "text/plain": [
       "manufacturer  model          \n",
       "HGST          HDS5C4040ALE630       75\n",
       "              HDS724040ALE640       40\n",
       "              HMS5C4040ALE640     7073\n",
       "              HMS5C4040BLE640     9394\n",
       "Hitachi       HDS5C3030ALA630     4496\n",
       "              HDS5C3030BLE630        1\n",
       "              HDS5C4040ALE630     2631\n",
       "              HDS722020ALA330     3723\n",
       "              HDS723020BLA642        6\n",
       "              HDS723030ALA640      990\n",
       "              HDS723030BLE640        9\n",
       "              HDS724040ALE640        3\n",
       "ST2000VN000   ST2000VN000            5\n",
       "ST31500541AS  ST31500541AS          44\n",
       "ST33000651AS  ST33000651AS           1\n",
       "ST4000DM000   ST4000DM000        35022\n",
       "ST4000DX000   ST4000DX000          197\n",
       "ST4000DX002   ST4000DX002            2\n",
       "ST6000DM001   ST6000DM001            1\n",
       "ST6000DX000   ST6000DX000         1891\n",
       "TOSHIBA       DT01ACA300            46\n",
       "              MD04ABA400V          146\n",
       "              MD04ABA500V           45\n",
       "WDC           WD15EARS               1\n",
       "              WD20EFRX             138\n",
       "              WD30EFRX            1087\n",
       "              WD40EFRX              46\n",
       "              WD60EFRX             464\n",
       "dtype: int64"
      ]
     },
     "execution_count": 67,
     "metadata": {},
     "output_type": "execute_result"
    }
   ],
   "source": [
    "df['manufacturer'] = df['model'].apply(lambda x: x.split()[0])\n",
    "df['model'] = df['model'].apply(lambda x: x.split()[1] if len(x.split()) > 1 else x)\n",
    "df.groupby(['manufacturer','model']).size()"
   ]
  },
  {
   "cell_type": "markdown",
   "metadata": {},
   "source": [
    "**Correct SEAGATE**"
   ]
  },
  {
   "cell_type": "code",
   "execution_count": 69,
   "metadata": {},
   "outputs": [
    {
     "data": {
      "text/plain": [
       "manufacturer  model          \n",
       "HGST          HDS5C4040ALE630       75\n",
       "              HDS724040ALE640       40\n",
       "              HMS5C4040ALE640     7073\n",
       "              HMS5C4040BLE640     9394\n",
       "Hitachi       HDS5C3030ALA630     4496\n",
       "              HDS5C3030BLE630        1\n",
       "              HDS5C4040ALE630     2631\n",
       "              HDS722020ALA330     3723\n",
       "              HDS723020BLA642        6\n",
       "              HDS723030ALA640      990\n",
       "              HDS723030BLE640        9\n",
       "              HDS724040ALE640        3\n",
       "SEAGATE       ST2000VN000            5\n",
       "              ST31500541AS          44\n",
       "              ST33000651AS           1\n",
       "              ST4000DM000        35022\n",
       "              ST4000DX000          197\n",
       "              ST4000DX002            2\n",
       "              ST6000DM001            1\n",
       "              ST6000DX000         1891\n",
       "TOSHIBA       DT01ACA300            46\n",
       "              MD04ABA400V          146\n",
       "              MD04ABA500V           45\n",
       "WDC           WD15EARS               1\n",
       "              WD20EFRX             138\n",
       "              WD30EFRX            1087\n",
       "              WD40EFRX              46\n",
       "              WD60EFRX             464\n",
       "dtype: int64"
      ]
     },
     "execution_count": 69,
     "metadata": {},
     "output_type": "execute_result"
    }
   ],
   "source": [
    "df['manufacturer'] = df['manufacturer'].apply(lambda x: 'SEAGATE' if x[:2] == 'ST' else x)\n",
    "df.groupby(['manufacturer','model']).size()"
   ]
  },
  {
   "cell_type": "markdown",
   "metadata": {},
   "source": [
    "**Merge Hitachi and HGST**"
   ]
  },
  {
   "cell_type": "code",
   "execution_count": 74,
   "metadata": {},
   "outputs": [
    {
     "data": {
      "text/plain": [
       "manufacturer  model          \n",
       "HGST          HDS5C3030ALA630     4496\n",
       "              HDS5C3030BLE630        1\n",
       "              HDS5C4040ALE630     2706\n",
       "              HDS722020ALA330     3723\n",
       "              HDS723020BLA642        6\n",
       "              HDS723030ALA640      990\n",
       "              HDS723030BLE640        9\n",
       "              HDS724040ALE640       43\n",
       "              HMS5C4040ALE640     7073\n",
       "              HMS5C4040BLE640     9394\n",
       "SEAGATE       ST2000VN000            5\n",
       "              ST31500541AS          44\n",
       "              ST33000651AS           1\n",
       "              ST4000DM000        35022\n",
       "              ST4000DX000          197\n",
       "              ST4000DX002            2\n",
       "              ST6000DM001            1\n",
       "              ST6000DX000         1891\n",
       "TOSHIBA       DT01ACA300            46\n",
       "              MD04ABA400V          146\n",
       "              MD04ABA500V           45\n",
       "WDC           WD15EARS               1\n",
       "              WD20EFRX             138\n",
       "              WD30EFRX            1087\n",
       "              WD40EFRX              46\n",
       "              WD60EFRX             464\n",
       "dtype: int64"
      ]
     },
     "execution_count": 74,
     "metadata": {},
     "output_type": "execute_result"
    }
   ],
   "source": [
    "df.loc[df['manufacturer'] == 'Hitachi', 'manufacturer'] = 'HGST'\n",
    "df.groupby(['manufacturer','model']).size()"
   ]
  },
  {
   "cell_type": "markdown",
   "metadata": {},
   "source": [
    "### 4. Correction: make capacities human readable"
   ]
  },
  {
   "cell_type": "code",
   "execution_count": 75,
   "metadata": {},
   "outputs": [
    {
     "data": {
      "text/plain": [
       "capacity\n",
       "1.5TB       45\n",
       "2.0TB     3872\n",
       "3.0TB     6630\n",
       "4.0TB    54629\n",
       "5.0TB       45\n",
       "6.0TB     2356\n",
       "dtype: int64"
      ]
     },
     "execution_count": 75,
     "metadata": {},
     "output_type": "execute_result"
    }
   ],
   "source": [
    "df['capacity'] = df['capacitybytes'].apply(lambda x: '{}TB'.format(round(x / 1e12,2)))\n",
    "df.groupby(['capacity']).size()"
   ]
  },
  {
   "cell_type": "markdown",
   "metadata": {},
   "source": [
    "### 5. Reduction: Remove under-represented manufacturer-capacities\n",
    "\n",
    "We want to make the survival analysis quite general, so if possible, we want to avoid subgroups that are too small"
   ]
  },
  {
   "cell_type": "code",
   "execution_count": 82,
   "metadata": {},
   "outputs": [
    {
     "name": "stdout",
     "output_type": "stream",
     "text": [
      "capacity      1.5TB   2.0TB   3.0TB    4.0TB  5.0TB   6.0TB\n",
      "manufacturer                                               \n",
      "HGST            NaN  3729.0  5496.0  19216.0    NaN     NaN\n",
      "SEAGATE        44.0     5.0     1.0  35221.0    NaN  1892.0\n",
      "TOSHIBA         NaN     NaN    46.0    146.0   45.0     NaN\n",
      "WDC             1.0   138.0  1087.0     46.0    NaN   464.0\n"
     ]
    },
    {
     "data": {
      "image/png": "[encoded data removed]",
      "text/plain": [
       "<matplotlib.figure.Figure at 0x7f06040f0e10>"
      ]
     },
     "metadata": {},
     "output_type": "display_data"
    }
   ],
   "source": [
    "gp = df.groupby(['manufacturer','capacity']).size().unstack()\n",
    "print gp\n",
    "fig, axes = plt.subplots(nrows=1, ncols=1, figsize=(6,6), squeeze=False)\n",
    "ax = sns.heatmap(gp, mask=pd.isnull(gp), ax=axes[0,0], robust=True, square=True, cbar=True)"
   ]
  },
  {
   "cell_type": "markdown",
   "metadata": {},
   "source": [
    "**Decision: Exclude Toshiba**"
   ]
  },
  {
   "cell_type": "code",
   "execution_count": 83,
   "metadata": {},
   "outputs": [
    {
     "data": {
      "text/plain": [
       "(67340, 10)"
      ]
     },
     "execution_count": 83,
     "metadata": {},
     "output_type": "execute_result"
    }
   ],
   "source": [
    "df = df.loc[df['manufacturer'] != 'TOSHIBA']\n",
    "df.shape"
   ]
  },
  {
   "cell_type": "markdown",
   "metadata": {},
   "source": [
    "**View model - capacities**"
   ]
  },
  {
   "cell_type": "code",
   "execution_count": 86,
   "metadata": {},
   "outputs": [
    {
     "data": {
      "image/png": "[encoded data removed]",
      "text/plain": [
       "<matplotlib.figure.Figure at 0x7f0604003850>"
      ]
     },
     "metadata": {},
     "output_type": "display_data"
    }
   ],
   "source": [
    "gp = df.groupby(['manufacturer','model','capacity']).size().unstack()\n",
    "fig, axes = plt.subplots(nrows=1, ncols=1, figsize=(8,10), squeeze=False)\n",
    "ax = sns.heatmap(gp, mask=pd.isnull(gp), ax=axes[0,0], robust=True, square=False, cbar=True)"
   ]
  },
  {
   "cell_type": "markdown",
   "metadata": {},
   "source": [
    "**Observation**: As one might expect, a model only ever appears with a single capacity, so the model-capacity information is mutually redudant.\n",
    "\n",
    "> For survival analysis we will use only manufacturer and capacity features, ignoring model number which is redundant information"
   ]
  },
  {
   "cell_type": "markdown",
   "metadata": {},
   "source": [
    "## Specific Cleaning for Survival Durations\n",
    "\n",
    "Observe distributions for time-based data and durations - these are critical for survival analysis\n",
    "\n",
    "### 1. Feature Engineering: transform dates to month-year\n",
    "\n",
    "min/max dates are the first and final dates of operation"
   ]
  },
  {
   "cell_type": "code",
   "execution_count": 87,
   "metadata": {},
   "outputs": [],
   "source": [
    "df['mindateym'] = df['mindate'].apply(lambda x: x.strftime('%Y%m'))\n",
    "df['maxdateym'] = df['maxdate'].apply(lambda x: x.strftime('%Y%m'))"
   ]
  },
  {
   "cell_type": "code",
   "execution_count": 88,
   "metadata": {},
   "outputs": [
    {
     "data": {
      "text/html": [
       "<div>\n",
       "<style>\n",
       "    .dataframe thead tr:only-child th {\n",
       "        text-align: right;\n",
       "    }\n",
       "\n",
       "    .dataframe thead th {\n",
       "        text-align: left;\n",
       "    }\n",
       "\n",
       "    .dataframe tbody tr th {\n",
       "        vertical-align: top;\n",
       "    }\n",
       "</style>\n",
       "<table border=\"1\" class=\"dataframe\">\n",
       "  <thead>\n",
       "    <tr style=\"text-align: right;\">\n",
       "      <th></th>\n",
       "      <th>model</th>\n",
       "      <th>capacitybytes</th>\n",
       "      <th>mindate</th>\n",
       "      <th>maxdate</th>\n",
       "      <th>nrecords</th>\n",
       "      <th>minhours</th>\n",
       "      <th>maxhours</th>\n",
       "      <th>failed</th>\n",
       "      <th>manufacturer</th>\n",
       "      <th>capacity</th>\n",
       "      <th>mindateym</th>\n",
       "      <th>maxdateym</th>\n",
       "    </tr>\n",
       "    <tr>\n",
       "      <th>diskid</th>\n",
       "      <th></th>\n",
       "      <th></th>\n",
       "      <th></th>\n",
       "      <th></th>\n",
       "      <th></th>\n",
       "      <th></th>\n",
       "      <th></th>\n",
       "      <th></th>\n",
       "      <th></th>\n",
       "      <th></th>\n",
       "      <th></th>\n",
       "      <th></th>\n",
       "    </tr>\n",
       "  </thead>\n",
       "  <tbody>\n",
       "    <tr>\n",
       "      <th>5XW00J2Z</th>\n",
       "      <td>ST31500541AS</td>\n",
       "      <td>1500301910016</td>\n",
       "      <td>2016-07-21</td>\n",
       "      <td>2016-09-30</td>\n",
       "      <td>62</td>\n",
       "      <td>46815</td>\n",
       "      <td>48301</td>\n",
       "      <td>0</td>\n",
       "      <td>SEAGATE</td>\n",
       "      <td>1.5TB</td>\n",
       "      <td>201607</td>\n",
       "      <td>201609</td>\n",
       "    </tr>\n",
       "    <tr>\n",
       "      <th>5XW029ZZ</th>\n",
       "      <td>ST31500541AS</td>\n",
       "      <td>1500301910016</td>\n",
       "      <td>2016-07-21</td>\n",
       "      <td>2016-09-30</td>\n",
       "      <td>62</td>\n",
       "      <td>50682</td>\n",
       "      <td>52168</td>\n",
       "      <td>0</td>\n",
       "      <td>SEAGATE</td>\n",
       "      <td>1.5TB</td>\n",
       "      <td>201607</td>\n",
       "      <td>201609</td>\n",
       "    </tr>\n",
       "    <tr>\n",
       "      <th>5XW02BHJ</th>\n",
       "      <td>ST31500541AS</td>\n",
       "      <td>1500301910016</td>\n",
       "      <td>2016-07-21</td>\n",
       "      <td>2016-09-30</td>\n",
       "      <td>62</td>\n",
       "      <td>45703</td>\n",
       "      <td>47362</td>\n",
       "      <td>0</td>\n",
       "      <td>SEAGATE</td>\n",
       "      <td>1.5TB</td>\n",
       "      <td>201607</td>\n",
       "      <td>201609</td>\n",
       "    </tr>\n",
       "    <tr>\n",
       "      <th>5XW02L6V</th>\n",
       "      <td>ST31500541AS</td>\n",
       "      <td>1500301910016</td>\n",
       "      <td>2016-07-21</td>\n",
       "      <td>2016-09-30</td>\n",
       "      <td>62</td>\n",
       "      <td>54121</td>\n",
       "      <td>55780</td>\n",
       "      <td>0</td>\n",
       "      <td>SEAGATE</td>\n",
       "      <td>1.5TB</td>\n",
       "      <td>201607</td>\n",
       "      <td>201609</td>\n",
       "    </tr>\n",
       "    <tr>\n",
       "      <th>5XW02N56</th>\n",
       "      <td>ST31500541AS</td>\n",
       "      <td>1500301910016</td>\n",
       "      <td>2016-07-21</td>\n",
       "      <td>2016-09-30</td>\n",
       "      <td>62</td>\n",
       "      <td>50686</td>\n",
       "      <td>52172</td>\n",
       "      <td>0</td>\n",
       "      <td>SEAGATE</td>\n",
       "      <td>1.5TB</td>\n",
       "      <td>201607</td>\n",
       "      <td>201609</td>\n",
       "    </tr>\n",
       "  </tbody>\n",
       "</table>\n",
       "</div>"
      ],
      "text/plain": [
       "                 model  capacitybytes    mindate    maxdate  nrecords  \\\n",
       "diskid                                                                  \n",
       "5XW00J2Z  ST31500541AS  1500301910016 2016-07-21 2016-09-30        62   \n",
       "5XW029ZZ  ST31500541AS  1500301910016 2016-07-21 2016-09-30        62   \n",
       "5XW02BHJ  ST31500541AS  1500301910016 2016-07-21 2016-09-30        62   \n",
       "5XW02L6V  ST31500541AS  1500301910016 2016-07-21 2016-09-30        62   \n",
       "5XW02N56  ST31500541AS  1500301910016 2016-07-21 2016-09-30        62   \n",
       "\n",
       "          minhours  maxhours  failed manufacturer capacity mindateym maxdateym  \n",
       "diskid                                                                          \n",
       "5XW00J2Z     46815     48301       0      SEAGATE    1.5TB    201607    201609  \n",
       "5XW029ZZ     50682     52168       0      SEAGATE    1.5TB    201607    201609  \n",
       "5XW02BHJ     45703     47362       0      SEAGATE    1.5TB    201607    201609  \n",
       "5XW02L6V     54121     55780       0      SEAGATE    1.5TB    201607    201609  \n",
       "5XW02N56     50686     52172       0      SEAGATE    1.5TB    201607    201609  "
      ]
     },
     "execution_count": 88,
     "metadata": {},
     "output_type": "execute_result"
    }
   ],
   "source": [
    "df.head()"
   ]
  },
  {
   "cell_type": "markdown",
   "metadata": {},
   "source": [
    "**View distribution of first and final date of operation**"
   ]
  },
  {
   "cell_type": "code",
   "execution_count": 96,
   "metadata": {},
   "outputs": [
    {
     "data": {
      "image/png": "[encoded data removed]",
      "text/plain": [
       "<matplotlib.figure.Figure at 0x7f0603f16a90>"
      ]
     },
     "metadata": {},
     "output_type": "display_data"
    }
   ],
   "source": [
    "gp = df.groupby(['mindateym','maxdateym']).size().unstack()\n",
    "fig, axes = plt.subplots(nrows=1, ncols=1, figsize=(5,5), squeeze=False)\n",
    "ax = sns.heatmap(gp, mask=pd.isnull(gp), ax=axes[0,0],robust=True, square=True, cbar=True)"
   ]
  },
  {
   "cell_type": "markdown",
   "metadata": {},
   "source": [
    "**Observation**: there's a HUGE number of drives with a final log entry of '201609' at the end of the study.\n",
    "> We clearly also have some strong right-censoring. This is manageable\n",
    "\n",
    "**Observation**: there's few (if any) drives with an intitial log entry of '201607' at the start of the study.\n",
    "\n",
    "> This is an indication of no left-truncation."
   ]
  },
  {
   "cell_type": "markdown",
   "metadata": {},
   "source": [
    "## Using the SMART features to estimate disk duration\n",
    "\n",
    "The column SMART_9_RAW in the original logfiles is apparently a *cumulative sum of hours that the drive has been in use since birth*\n",
    "\n",
    "> Perhaps we can use SMART_9_RAW as an indicator of hard-drive failure?\n",
    "\n",
    "Notice that we preprocessed the min and max smart_9_raw values during the table creation in SQL file `drive_survival.sql`\n",
    "\n",
    "### 1. Reduction: remove rows without minhours and maxhours information"
   ]
  },
  {
   "cell_type": "code",
   "execution_count": 92,
   "metadata": {},
   "outputs": [
    {
     "name": "stdout",
     "output_type": "stream",
     "text": [
      "0\n",
      "0\n"
     ]
    }
   ],
   "source": [
    "print(pd.isnull(df['minhours']).sum())\n",
    "print(pd.isnull(df['maxhours']).sum())"
   ]
  },
  {
   "cell_type": "code",
   "execution_count": 93,
   "metadata": {},
   "outputs": [
    {
     "name": "stdout",
     "output_type": "stream",
     "text": [
      "67340\n",
      "67340\n",
      "67340\n"
     ]
    }
   ],
   "source": [
    "print(df.shape[0])\n",
    "print(df['minhours'].apply(np.isreal).sum())\n",
    "print(df['maxhours'].apply(np.isreal).sum())"
   ]
  },
  {
   "cell_type": "markdown",
   "metadata": {},
   "source": [
    "Observation: no problems with non-numeric values for maxhours\n",
    "> We keep the data set as it is"
   ]
  },
  {
   "cell_type": "markdown",
   "metadata": {},
   "source": [
    "** Look at the distribution of failures in terms of total working hours **"
   ]
  },
  {
   "cell_type": "code",
   "execution_count": 101,
   "metadata": {},
   "outputs": [
    {
     "data": {
      "image/png": "[encoded data removed]",
      "text/plain": [
       "<matplotlib.figure.Figure at 0x7f0603b6b790>"
      ]
     },
     "metadata": {},
     "output_type": "display_data"
    }
   ],
   "source": [
    "fig, axes = plt.subplots(nrows=1, ncols=1, figsize=(10,5), squeeze=False)\n",
    "ax=df.hist(column='maxhours', by='failed', ax=axes[0,0], bins=100, layout=(2,1), log=True, sharex=True, sharey=True)"
   ]
  },
  {
   "cell_type": "markdown",
   "metadata": {},
   "source": [
    "**Observation**: The distributions appear reasonable, no readily apparent bunching of disks around particular values of hours\n",
    "\n",
    "> We will use maxhours for our crucial measure of lifespan"
   ]
  },
  {
   "cell_type": "markdown",
   "metadata": {},
   "source": [
    "## Drop unnecessary columns\n",
    "\n",
    "We will drop the column `capacitybytes` because we have created a more human-redeable one `capacity`"
   ]
  },
  {
   "cell_type": "code",
   "execution_count": 105,
   "metadata": {},
   "outputs": [],
   "source": [
    "del df['capacitybytes']"
   ]
  },
  {
   "cell_type": "markdown",
   "metadata": {},
   "source": [
    "## Final look"
   ]
  },
  {
   "cell_type": "code",
   "execution_count": 106,
   "metadata": {},
   "outputs": [
    {
     "data": {
      "text/html": [
       "<div>\n",
       "<style>\n",
       "    .dataframe thead tr:only-child th {\n",
       "        text-align: right;\n",
       "    }\n",
       "\n",
       "    .dataframe thead th {\n",
       "        text-align: left;\n",
       "    }\n",
       "\n",
       "    .dataframe tbody tr th {\n",
       "        vertical-align: top;\n",
       "    }\n",
       "</style>\n",
       "<table border=\"1\" class=\"dataframe\">\n",
       "  <thead>\n",
       "    <tr style=\"text-align: right;\">\n",
       "      <th></th>\n",
       "      <th>model</th>\n",
       "      <th>mindate</th>\n",
       "      <th>maxdate</th>\n",
       "      <th>nrecords</th>\n",
       "      <th>minhours</th>\n",
       "      <th>maxhours</th>\n",
       "      <th>failed</th>\n",
       "      <th>manufacturer</th>\n",
       "      <th>capacity</th>\n",
       "      <th>mindateym</th>\n",
       "      <th>maxdateym</th>\n",
       "    </tr>\n",
       "    <tr>\n",
       "      <th>diskid</th>\n",
       "      <th></th>\n",
       "      <th></th>\n",
       "      <th></th>\n",
       "      <th></th>\n",
       "      <th></th>\n",
       "      <th></th>\n",
       "      <th></th>\n",
       "      <th></th>\n",
       "      <th></th>\n",
       "      <th></th>\n",
       "      <th></th>\n",
       "    </tr>\n",
       "  </thead>\n",
       "  <tbody>\n",
       "    <tr>\n",
       "      <th>5XW00J2Z</th>\n",
       "      <td>ST31500541AS</td>\n",
       "      <td>2016-07-21</td>\n",
       "      <td>2016-09-30</td>\n",
       "      <td>62</td>\n",
       "      <td>46815</td>\n",
       "      <td>48301</td>\n",
       "      <td>0</td>\n",
       "      <td>SEAGATE</td>\n",
       "      <td>1.5TB</td>\n",
       "      <td>201607</td>\n",
       "      <td>201609</td>\n",
       "    </tr>\n",
       "    <tr>\n",
       "      <th>5XW029ZZ</th>\n",
       "      <td>ST31500541AS</td>\n",
       "      <td>2016-07-21</td>\n",
       "      <td>2016-09-30</td>\n",
       "      <td>62</td>\n",
       "      <td>50682</td>\n",
       "      <td>52168</td>\n",
       "      <td>0</td>\n",
       "      <td>SEAGATE</td>\n",
       "      <td>1.5TB</td>\n",
       "      <td>201607</td>\n",
       "      <td>201609</td>\n",
       "    </tr>\n",
       "    <tr>\n",
       "      <th>5XW02BHJ</th>\n",
       "      <td>ST31500541AS</td>\n",
       "      <td>2016-07-21</td>\n",
       "      <td>2016-09-30</td>\n",
       "      <td>62</td>\n",
       "      <td>45703</td>\n",
       "      <td>47362</td>\n",
       "      <td>0</td>\n",
       "      <td>SEAGATE</td>\n",
       "      <td>1.5TB</td>\n",
       "      <td>201607</td>\n",
       "      <td>201609</td>\n",
       "    </tr>\n",
       "    <tr>\n",
       "      <th>5XW02L6V</th>\n",
       "      <td>ST31500541AS</td>\n",
       "      <td>2016-07-21</td>\n",
       "      <td>2016-09-30</td>\n",
       "      <td>62</td>\n",
       "      <td>54121</td>\n",
       "      <td>55780</td>\n",
       "      <td>0</td>\n",
       "      <td>SEAGATE</td>\n",
       "      <td>1.5TB</td>\n",
       "      <td>201607</td>\n",
       "      <td>201609</td>\n",
       "    </tr>\n",
       "    <tr>\n",
       "      <th>5XW02N56</th>\n",
       "      <td>ST31500541AS</td>\n",
       "      <td>2016-07-21</td>\n",
       "      <td>2016-09-30</td>\n",
       "      <td>62</td>\n",
       "      <td>50686</td>\n",
       "      <td>52172</td>\n",
       "      <td>0</td>\n",
       "      <td>SEAGATE</td>\n",
       "      <td>1.5TB</td>\n",
       "      <td>201607</td>\n",
       "      <td>201609</td>\n",
       "    </tr>\n",
       "  </tbody>\n",
       "</table>\n",
       "</div>"
      ],
      "text/plain": [
       "                 model    mindate    maxdate  nrecords  minhours  maxhours  \\\n",
       "diskid                                                                       \n",
       "5XW00J2Z  ST31500541AS 2016-07-21 2016-09-30        62     46815     48301   \n",
       "5XW029ZZ  ST31500541AS 2016-07-21 2016-09-30        62     50682     52168   \n",
       "5XW02BHJ  ST31500541AS 2016-07-21 2016-09-30        62     45703     47362   \n",
       "5XW02L6V  ST31500541AS 2016-07-21 2016-09-30        62     54121     55780   \n",
       "5XW02N56  ST31500541AS 2016-07-21 2016-09-30        62     50686     52172   \n",
       "\n",
       "          failed manufacturer capacity mindateym maxdateym  \n",
       "diskid                                                      \n",
       "5XW00J2Z       0      SEAGATE    1.5TB    201607    201609  \n",
       "5XW029ZZ       0      SEAGATE    1.5TB    201607    201609  \n",
       "5XW02BHJ       0      SEAGATE    1.5TB    201607    201609  \n",
       "5XW02L6V       0      SEAGATE    1.5TB    201607    201609  \n",
       "5XW02N56       0      SEAGATE    1.5TB    201607    201609  "
      ]
     },
     "execution_count": 106,
     "metadata": {},
     "output_type": "execute_result"
    }
   ],
   "source": [
    "df.head()"
   ]
  },
  {
   "cell_type": "code",
   "execution_count": 107,
   "metadata": {},
   "outputs": [
    {
     "name": "stdout",
     "output_type": "stream",
     "text": [
      "(67340, 11)\n"
     ]
    },
    {
     "data": {
      "text/html": [
       "<div>\n",
       "<style>\n",
       "    .dataframe thead tr:only-child th {\n",
       "        text-align: right;\n",
       "    }\n",
       "\n",
       "    .dataframe thead th {\n",
       "        text-align: left;\n",
       "    }\n",
       "\n",
       "    .dataframe tbody tr th {\n",
       "        vertical-align: top;\n",
       "    }\n",
       "</style>\n",
       "<table border=\"1\" class=\"dataframe\">\n",
       "  <thead>\n",
       "    <tr style=\"text-align: right;\">\n",
       "      <th></th>\n",
       "      <th>nrecords</th>\n",
       "      <th>minhours</th>\n",
       "      <th>maxhours</th>\n",
       "      <th>failed</th>\n",
       "    </tr>\n",
       "  </thead>\n",
       "  <tbody>\n",
       "    <tr>\n",
       "      <th>count</th>\n",
       "      <td>67340.000000</td>\n",
       "      <td>67340.000000</td>\n",
       "      <td>67340.000000</td>\n",
       "      <td>67340.000000</td>\n",
       "    </tr>\n",
       "    <tr>\n",
       "      <th>mean</th>\n",
       "      <td>87.622023</td>\n",
       "      <td>16216.028482</td>\n",
       "      <td>18299.788165</td>\n",
       "      <td>0.005034</td>\n",
       "    </tr>\n",
       "    <tr>\n",
       "      <th>std</th>\n",
       "      <td>15.140069</td>\n",
       "      <td>12750.666147</td>\n",
       "      <td>12635.771663</td>\n",
       "      <td>0.070773</td>\n",
       "    </tr>\n",
       "    <tr>\n",
       "      <th>min</th>\n",
       "      <td>1.000000</td>\n",
       "      <td>1.000000</td>\n",
       "      <td>8.000000</td>\n",
       "      <td>0.000000</td>\n",
       "    </tr>\n",
       "    <tr>\n",
       "      <th>25%</th>\n",
       "      <td>92.000000</td>\n",
       "      <td>5723.000000</td>\n",
       "      <td>7885.000000</td>\n",
       "      <td>0.000000</td>\n",
       "    </tr>\n",
       "    <tr>\n",
       "      <th>50%</th>\n",
       "      <td>92.000000</td>\n",
       "      <td>14477.000000</td>\n",
       "      <td>16660.000000</td>\n",
       "      <td>0.000000</td>\n",
       "    </tr>\n",
       "    <tr>\n",
       "      <th>75%</th>\n",
       "      <td>92.000000</td>\n",
       "      <td>22320.000000</td>\n",
       "      <td>24504.000000</td>\n",
       "      <td>0.000000</td>\n",
       "    </tr>\n",
       "    <tr>\n",
       "      <th>max</th>\n",
       "      <td>92.000000</td>\n",
       "      <td>57440.000000</td>\n",
       "      <td>59097.000000</td>\n",
       "      <td>1.000000</td>\n",
       "    </tr>\n",
       "  </tbody>\n",
       "</table>\n",
       "</div>"
      ],
      "text/plain": [
       "           nrecords      minhours      maxhours        failed\n",
       "count  67340.000000  67340.000000  67340.000000  67340.000000\n",
       "mean      87.622023  16216.028482  18299.788165      0.005034\n",
       "std       15.140069  12750.666147  12635.771663      0.070773\n",
       "min        1.000000      1.000000      8.000000      0.000000\n",
       "25%       92.000000   5723.000000   7885.000000      0.000000\n",
       "50%       92.000000  14477.000000  16660.000000      0.000000\n",
       "75%       92.000000  22320.000000  24504.000000      0.000000\n",
       "max       92.000000  57440.000000  59097.000000      1.000000"
      ]
     },
     "execution_count": 107,
     "metadata": {},
     "output_type": "execute_result"
    }
   ],
   "source": [
    "print(df.shape)\n",
    "df.describe()"
   ]
  },
  {
   "cell_type": "markdown",
   "metadata": {},
   "source": [
    "## Write back to DB"
   ]
  },
  {
   "cell_type": "code",
   "execution_count": 108,
   "metadata": {},
   "outputs": [],
   "source": [
    "df.to_sql('drive_survival_prepared', con=cnx, if_exists='replace', index_label='diskid')"
   ]
  },
  {
   "cell_type": "markdown",
   "metadata": {},
   "source": [
    "## Summary"
   ]
  },
  {
   "cell_type": "markdown",
   "metadata": {},
   "source": [
    "To summarise the initial data prep notebook:\n",
    "\n",
    "- After excluding erroneous data and some drives belonging to under-represented manufacturers and odd capacities, we have records for 67340 harddrives\n",
    "- We may have left-truncation, with harddrives already in daily operation at the first date of the study. This means that our harddrive lifetime can't simply be a calculated duration between first and final dates of operation.\n",
    "- Fortunately we have access to the S.M.A.R.T. 9 statistic, which is a running total of hours of operation. We can use this to calculate a lifetime of operational hours.\n",
    "- We have two clean features to use for predicting lifespan: manufacturer and capacity, and a max observed lifespan of approx 48,000 hours / 2,000 days / 5.5 years, which may lead to some useful real-world insights."
   ]
  }
 ],
 "metadata": {
  "anaconda-cloud": {},
  "hide_input": false,
  "kernelspec": {
   "display_name": "Python 3",
   "language": "python",
   "name": "python3"
  },
  "language_info": {
   "codemirror_mode": {
    "name": "ipython",
    "version": 3
   },
   "file_extension": ".py",
   "mimetype": "text/x-python",
   "name": "python",
   "nbconvert_exporter": "python",
   "pygments_lexer": "ipython3",
   "version": "3.6.8"
  },
  "latex_envs": {
   "bibliofile": "biblio.bib",
   "cite_by": "number",
   "current_citInitial": 1,
   "eqLabelWithNumbers": true,
   "eqNumInitial": 0
  },
  "toc": {
   "nav_menu": {
    "height": "192px",
    "width": "252px"
   },
   "navigate_menu": true,
   "number_sections": true,
   "sideBar": true,
   "threshold": 4,
   "toc_cell": false,
   "toc_section_display": "block",
   "toc_window_display": false
  }
 },
 "nbformat": 4,
 "nbformat_minor": 2
}
