{
 "cells": [
  {
   "cell_type": "markdown",
   "metadata": {
    "run_control": {
     "frozen": false,
     "read_only": false
    }
   },
   "source": [
    "# Hard Disk Drive (HDD) survival analysis in python\n",
    "\n",
    "## Part III: Cox PH modelling\n",
    "\n",
    "Date: Diciembre 2017\n",
    "\n",
    "Autor: [Alvaro Calle Cordon](www.linkedin.com/in/alvarocallecordon)\n",
    "\n",
    "Notebook uses Python 2.7"
   ]
  },
  {
   "cell_type": "markdown",
   "metadata": {
    "run_control": {
     "frozen": false,
     "read_only": false
    }
   },
   "source": [
    "## Descripción del notebook\n",
    "\n",
    "In this notebook we demonstrate a standard semi-parametric regression method to create a model of harddrive failures. This model can be tested for accuracy and used for prediction.\n",
    "\n",
    "In `HDD_survival_II_KM` we used a very basic non-parametric model (Kaplan-Meier) to produce what is effectively a simple count of events over time. These Kaplan-Meier models are extremely quick to run but limited by simplicity; whilst we can compare the empirical survival functions amongst different subsets of the data, we can't easily make comparative statements nor make predictive statements for new unseen data.\n",
    "\n",
    "What we want is a regression model which takes not only the `time_to_event` and `event_outcome` features as before, but also a potentially unlimited set of exogenous features to predict the survival or hazard rate at each point in time. The Cox Proportional Hazards model (Cox PH) is a such a *survival regression* model."
   ]
  },
  {
   "cell_type": "markdown",
   "metadata": {},
   "source": [
    "## Documentación\n",
    "\n",
    "- https://github.com/MustafaOguz/Survival_Analysis\n",
    "- https://github.com/search?l=Python&q=survival+analysis&type=Repositories&utf8=%E2%9C%93\n",
    "- https://github.com/eduardoleon/survival\n",
    "- https://github.com/jaredleekatzman/DeepSurv\n",
    "- https://github.com/CamDavidsonPilon/lifelines\n",
    "- http://lifelines.readthedocs.io/en/latest/Survival%20Analysis%20intro.html\n",
    "- http://blog.applied.ai/survival-analysis-part-4/"
   ]
  },
  {
   "cell_type": "markdown",
   "metadata": {},
   "source": [
    "## Cox Proportional Hazards Modelling\n",
    "\n",
    "The [Cox PH model](https://en.wikipedia.org/wiki/Proportional_hazards_model) gives a semi-parametric method of estimating the hazard function $\\lambda$ at time $t$ given a baseline hazard that's modified by a set of covariates:\n",
    "\n",
    "$$\n",
    "\\lambda(t|X) = \\lambda_0(t)\\ \\exp{(\\beta_1 X_1 + \\cdots + \\beta_p X_p)} = \\lambda_0(t)\\exp(\\beta X )\\, ,\n",
    "$$\n",
    "\n",
    "\n",
    "where $\\lambda_0(t)$ is the non-parametric baseline hazard function and $\\beta X$ is a linear parametric model using features of the individuals, transformed by an exponential function.\n",
    "\n",
    "The algorithm runs quite quickly, performing iterative partial regression of the time-dependent $\\lambda_0(t)$, and the feature-dependent $\\exp(\\beta X)$, repeated until convergence.\n",
    "\n",
    "The big strength of Cox PH is to:\n",
    "\n",
    "- allow us to compare the relative hazard rates of the different features by comparing the $\\beta$ coefficients, and \n",
    "- to compute a predicted survival function for new datapoints simply by plugging the details into the model.\n",
    "\n",
    "One big weakness of the Cox PH is that the $\\beta$ values are assumed constant over all time, which is often untrue, more of which later.\n",
    "\n",
    "Lets continue our investigation into the hard-drive failure data, and as ever, the plots and tables in the notebook are accompanied by detailed comments:"
   ]
  },
  {
   "cell_type": "markdown",
   "metadata": {
    "run_control": {
     "frozen": false,
     "read_only": false
    }
   },
   "source": [
    "## Setup"
   ]
  },
  {
   "cell_type": "markdown",
   "metadata": {},
   "source": [
    "### Initial setups"
   ]
  },
  {
   "cell_type": "code",
   "execution_count": 4,
   "metadata": {
    "collapsed": true,
    "run_control": {
     "frozen": false,
     "read_only": false
    }
   },
   "outputs": [],
   "source": [
    "# plots in the notebook\n",
    "%matplotlib inline\n",
    "\n",
    "# fire ipython console\n",
    "#%qtconsole --colors=linux --ConsoleWidget.font_size=12 --ConsoleWidget.font_family='Consolas'"
   ]
  },
  {
   "cell_type": "markdown",
   "metadata": {},
   "source": [
    "### Libraries"
   ]
  },
  {
   "cell_type": "code",
   "execution_count": 5,
   "metadata": {
    "collapsed": true
   },
   "outputs": [],
   "source": [
    "from collections import OrderedDict\n",
    "import sqlite3\n",
    "import numpy as np\n",
    "import matplotlib.pyplot as plt\n",
    "import pandas as pd\n",
    "import seaborn as sns\n",
    "import lifelines as sa\n",
    "from lifelines.utils import concordance_index, k_fold_cross_validation\n",
    "import patsy as pt\n",
    "\n",
    "# suppress warnings\n",
    "import warnings\n",
    "warnings.filterwarnings('ignore')\n",
    "\n",
    "# Set default styles for plotting via pandas, seaborn and matplotlib\n",
    "pd.set_option('display.mpl_style', 'default')\n",
    "pd.set_option('display.notebook_repr_html', True)\n",
    "sns.set(style='darkgrid')\n",
    "cmap_clrbld = ['#777777','#E69F00','#56B4E9','#D3C511'\n",
    "               ,'#009E73','#8D42F0','#0072B2','#D55E00','#CC79A7']\n",
    "plt.rcParams['axes.color_cycle'] = cmap_clrbld\n",
    "plt.rcParams['figure.figsize'] = 10, 6\n",
    "\n",
    "np.random.seed(0)"
   ]
  },
  {
   "cell_type": "markdown",
   "metadata": {
    "run_control": {
     "frozen": false,
     "read_only": false
    }
   },
   "source": [
    "## Loading the data\n",
    "\n",
    "We load here the table `drive_survival_prepared` generated in the previous notebook `HDD_survival_I_Preparation` which has been stored in the sqlitle database `drive_stats.db`."
   ]
  },
  {
   "cell_type": "code",
   "execution_count": 6,
   "metadata": {},
   "outputs": [
    {
     "data": {
      "text/plain": [
       "u'/home/alvaro/Documentos/Analytics/Survival'"
      ]
     },
     "execution_count": 6,
     "metadata": {},
     "output_type": "execute_result"
    }
   ],
   "source": [
    "# Where am I?\n",
    "%pwd"
   ]
  },
  {
   "cell_type": "code",
   "execution_count": 7,
   "metadata": {},
   "outputs": [
    {
     "name": "stdout",
     "output_type": "stream",
     "text": [
      "code.py             drive_survival.sql~\r\n",
      "\u001b[0m\u001b[01;34mdata_Q3_2016\u001b[0m/       HDD_survival_III_CoxPH.ipynb\r\n",
      "\u001b[01;31mdata_Q3_2016.zip\u001b[0m    HDD_survival_II_KM.ipynb\r\n",
      "\u001b[01;34mdocs_Q3_2016\u001b[0m/       HDD_survival_I_Preparation.ipynb\r\n",
      "\u001b[01;31mdocs_Q3_2016+.zip\u001b[0m   \u001b[01;35mKM_code.png\u001b[0m\r\n",
      "drive_stats.db      survival_r_vs_python.ipynb\r\n",
      "drive_survival.sql  temp-plot.html\r\n"
     ]
    }
   ],
   "source": [
    "# check drive_stats.db is in the current directory\n",
    "%ls"
   ]
  },
  {
   "cell_type": "markdown",
   "metadata": {
    "run_control": {
     "frozen": false,
     "read_only": false
    }
   },
   "source": [
    "**SQL connector** "
   ]
  },
  {
   "cell_type": "code",
   "execution_count": 8,
   "metadata": {
    "collapsed": true
   },
   "outputs": [],
   "source": [
    "cnx = sqlite3.connect('drive_stats.db')\n",
    "csr = cnx.cursor()"
   ]
  },
  {
   "cell_type": "markdown",
   "metadata": {},
   "source": [
    "**Check tables in database**"
   ]
  },
  {
   "cell_type": "code",
   "execution_count": 9,
   "metadata": {},
   "outputs": [
    {
     "name": "stdout",
     "output_type": "stream",
     "text": [
      "[(u'drive_stats',), (u'drive_survival',), (u'drive_survival_prepared',)]\n"
     ]
    }
   ],
   "source": [
    "csr.execute(\"SELECT name FROM sqlite_master WHERE type='table';\")\n",
    "print(csr.fetchall())"
   ]
  },
  {
   "cell_type": "markdown",
   "metadata": {},
   "source": [
    "**Pre-processed data from sqlitle db**"
   ]
  },
  {
   "cell_type": "code",
   "execution_count": 10,
   "metadata": {
    "collapsed": true
   },
   "outputs": [],
   "source": [
    "query = 'select * from drive_survival_prepared'\n",
    "df = pd.read_sql(query, con=cnx, index_col='diskid', parse_dates=['mindate','maxdate'])"
   ]
  },
  {
   "cell_type": "code",
   "execution_count": 11,
   "metadata": {},
   "outputs": [
    {
     "name": "stdout",
     "output_type": "stream",
     "text": [
      "(67340, 11)\n"
     ]
    }
   ],
   "source": [
    "print df.shape"
   ]
  },
  {
   "cell_type": "code",
   "execution_count": 12,
   "metadata": {},
   "outputs": [
    {
     "data": {
      "text/html": [
       "<div>\n",
       "<style>\n",
       "    .dataframe thead tr:only-child th {\n",
       "        text-align: right;\n",
       "    }\n",
       "\n",
       "    .dataframe thead th {\n",
       "        text-align: left;\n",
       "    }\n",
       "\n",
       "    .dataframe tbody tr th {\n",
       "        vertical-align: top;\n",
       "    }\n",
       "</style>\n",
       "<table border=\"1\" class=\"dataframe\">\n",
       "  <thead>\n",
       "    <tr style=\"text-align: right;\">\n",
       "      <th></th>\n",
       "      <th>model</th>\n",
       "      <th>mindate</th>\n",
       "      <th>maxdate</th>\n",
       "      <th>nrecords</th>\n",
       "      <th>minhours</th>\n",
       "      <th>maxhours</th>\n",
       "      <th>failed</th>\n",
       "      <th>manufacturer</th>\n",
       "      <th>capacity</th>\n",
       "      <th>mindateym</th>\n",
       "      <th>maxdateym</th>\n",
       "    </tr>\n",
       "    <tr>\n",
       "      <th>diskid</th>\n",
       "      <th></th>\n",
       "      <th></th>\n",
       "      <th></th>\n",
       "      <th></th>\n",
       "      <th></th>\n",
       "      <th></th>\n",
       "      <th></th>\n",
       "      <th></th>\n",
       "      <th></th>\n",
       "      <th></th>\n",
       "      <th></th>\n",
       "    </tr>\n",
       "  </thead>\n",
       "  <tbody>\n",
       "    <tr>\n",
       "      <th>5XW00J2Z</th>\n",
       "      <td>ST31500541AS</td>\n",
       "      <td>2016-07-21</td>\n",
       "      <td>2016-09-30</td>\n",
       "      <td>62</td>\n",
       "      <td>46815</td>\n",
       "      <td>48301</td>\n",
       "      <td>0</td>\n",
       "      <td>SEAGATE</td>\n",
       "      <td>1.5TB</td>\n",
       "      <td>201607</td>\n",
       "      <td>201609</td>\n",
       "    </tr>\n",
       "    <tr>\n",
       "      <th>5XW029ZZ</th>\n",
       "      <td>ST31500541AS</td>\n",
       "      <td>2016-07-21</td>\n",
       "      <td>2016-09-30</td>\n",
       "      <td>62</td>\n",
       "      <td>50682</td>\n",
       "      <td>52168</td>\n",
       "      <td>0</td>\n",
       "      <td>SEAGATE</td>\n",
       "      <td>1.5TB</td>\n",
       "      <td>201607</td>\n",
       "      <td>201609</td>\n",
       "    </tr>\n",
       "    <tr>\n",
       "      <th>5XW02BHJ</th>\n",
       "      <td>ST31500541AS</td>\n",
       "      <td>2016-07-21</td>\n",
       "      <td>2016-09-30</td>\n",
       "      <td>62</td>\n",
       "      <td>45703</td>\n",
       "      <td>47362</td>\n",
       "      <td>0</td>\n",
       "      <td>SEAGATE</td>\n",
       "      <td>1.5TB</td>\n",
       "      <td>201607</td>\n",
       "      <td>201609</td>\n",
       "    </tr>\n",
       "    <tr>\n",
       "      <th>5XW02L6V</th>\n",
       "      <td>ST31500541AS</td>\n",
       "      <td>2016-07-21</td>\n",
       "      <td>2016-09-30</td>\n",
       "      <td>62</td>\n",
       "      <td>54121</td>\n",
       "      <td>55780</td>\n",
       "      <td>0</td>\n",
       "      <td>SEAGATE</td>\n",
       "      <td>1.5TB</td>\n",
       "      <td>201607</td>\n",
       "      <td>201609</td>\n",
       "    </tr>\n",
       "    <tr>\n",
       "      <th>5XW02N56</th>\n",
       "      <td>ST31500541AS</td>\n",
       "      <td>2016-07-21</td>\n",
       "      <td>2016-09-30</td>\n",
       "      <td>62</td>\n",
       "      <td>50686</td>\n",
       "      <td>52172</td>\n",
       "      <td>0</td>\n",
       "      <td>SEAGATE</td>\n",
       "      <td>1.5TB</td>\n",
       "      <td>201607</td>\n",
       "      <td>201609</td>\n",
       "    </tr>\n",
       "  </tbody>\n",
       "</table>\n",
       "</div>"
      ],
      "text/plain": [
       "                 model    mindate    maxdate  nrecords  minhours  maxhours  \\\n",
       "diskid                                                                       \n",
       "5XW00J2Z  ST31500541AS 2016-07-21 2016-09-30        62     46815     48301   \n",
       "5XW029ZZ  ST31500541AS 2016-07-21 2016-09-30        62     50682     52168   \n",
       "5XW02BHJ  ST31500541AS 2016-07-21 2016-09-30        62     45703     47362   \n",
       "5XW02L6V  ST31500541AS 2016-07-21 2016-09-30        62     54121     55780   \n",
       "5XW02N56  ST31500541AS 2016-07-21 2016-09-30        62     50686     52172   \n",
       "\n",
       "          failed manufacturer capacity mindateym maxdateym  \n",
       "diskid                                                      \n",
       "5XW00J2Z       0      SEAGATE    1.5TB    201607    201609  \n",
       "5XW029ZZ       0      SEAGATE    1.5TB    201607    201609  \n",
       "5XW02BHJ       0      SEAGATE    1.5TB    201607    201609  \n",
       "5XW02L6V       0      SEAGATE    1.5TB    201607    201609  \n",
       "5XW02N56       0      SEAGATE    1.5TB    201607    201609  "
      ]
     },
     "execution_count": 12,
     "metadata": {},
     "output_type": "execute_result"
    }
   ],
   "source": [
    "df.head()"
   ]
  },
  {
   "cell_type": "markdown",
   "metadata": {},
   "source": [
    "## Cox Proportional Hazard Model\n",
    "\n",
    "### Transform raw dataframe into design matrix & model specification\n",
    "\n",
    "The first step is to transform the row-based dataframe into a design matrix $\\mathbf{X}$ for the Cox PH model. We will use the [patsy](https://pypi.python.org/pypi/patsy) package and a model-specification string `manufacturer + capacity`. This modelspec is simply a GLM and the flexible approach afforded by Cox PH lets us declare any modelspec we wish, for example rather than $\\beta_0 X_0 + \\beta_1 X_1 + \\beta_2 X_2$ we could try $\\beta_0 (X0 + X_0^2) + \\beta_1 X_1 ∗ \\beta_2 X_2$ etc.\n",
    "\n",
    "\n",
    "Note that by default, the first factor in each feature will be used in the intercept, which sets the baseline hazard rate, to which all other factor combinations are compared. In this case, that will be HGST and 1.5TB."
   ]
  },
  {
   "cell_type": "code",
   "execution_count": 17,
   "metadata": {},
   "outputs": [
    {
     "data": {
      "text/html": [
       "<div>\n",
       "<style>\n",
       "    .dataframe thead tr:only-child th {\n",
       "        text-align: right;\n",
       "    }\n",
       "\n",
       "    .dataframe thead th {\n",
       "        text-align: left;\n",
       "    }\n",
       "\n",
       "    .dataframe tbody tr th {\n",
       "        vertical-align: top;\n",
       "    }\n",
       "</style>\n",
       "<table border=\"1\" class=\"dataframe\">\n",
       "  <thead>\n",
       "    <tr style=\"text-align: right;\">\n",
       "      <th>diskid</th>\n",
       "      <th>5XW00J2Z</th>\n",
       "      <th>5XW029ZZ</th>\n",
       "      <th>5XW02BHJ</th>\n",
       "      <th>5XW02L6V</th>\n",
       "      <th>5XW02N56</th>\n",
       "    </tr>\n",
       "  </thead>\n",
       "  <tbody>\n",
       "    <tr>\n",
       "      <th>manufacturer[T.SEAGATE]</th>\n",
       "      <td>1.0</td>\n",
       "      <td>1.0</td>\n",
       "      <td>1.0</td>\n",
       "      <td>1.0</td>\n",
       "      <td>1.0</td>\n",
       "    </tr>\n",
       "    <tr>\n",
       "      <th>manufacturer[T.WDC]</th>\n",
       "      <td>0.0</td>\n",
       "      <td>0.0</td>\n",
       "      <td>0.0</td>\n",
       "      <td>0.0</td>\n",
       "      <td>0.0</td>\n",
       "    </tr>\n",
       "    <tr>\n",
       "      <th>capacity[T.2.0TB]</th>\n",
       "      <td>0.0</td>\n",
       "      <td>0.0</td>\n",
       "      <td>0.0</td>\n",
       "      <td>0.0</td>\n",
       "      <td>0.0</td>\n",
       "    </tr>\n",
       "    <tr>\n",
       "      <th>capacity[T.3.0TB]</th>\n",
       "      <td>0.0</td>\n",
       "      <td>0.0</td>\n",
       "      <td>0.0</td>\n",
       "      <td>0.0</td>\n",
       "      <td>0.0</td>\n",
       "    </tr>\n",
       "    <tr>\n",
       "      <th>capacity[T.4.0TB]</th>\n",
       "      <td>0.0</td>\n",
       "      <td>0.0</td>\n",
       "      <td>0.0</td>\n",
       "      <td>0.0</td>\n",
       "      <td>0.0</td>\n",
       "    </tr>\n",
       "    <tr>\n",
       "      <th>capacity[T.6.0TB]</th>\n",
       "      <td>0.0</td>\n",
       "      <td>0.0</td>\n",
       "      <td>0.0</td>\n",
       "      <td>0.0</td>\n",
       "      <td>0.0</td>\n",
       "    </tr>\n",
       "    <tr>\n",
       "      <th>maxhours</th>\n",
       "      <td>48301.0</td>\n",
       "      <td>52168.0</td>\n",
       "      <td>47362.0</td>\n",
       "      <td>55780.0</td>\n",
       "      <td>52172.0</td>\n",
       "    </tr>\n",
       "    <tr>\n",
       "      <th>failed</th>\n",
       "      <td>0.0</td>\n",
       "      <td>0.0</td>\n",
       "      <td>0.0</td>\n",
       "      <td>0.0</td>\n",
       "      <td>0.0</td>\n",
       "    </tr>\n",
       "  </tbody>\n",
       "</table>\n",
       "</div>"
      ],
      "text/plain": [
       "diskid                   5XW00J2Z  5XW029ZZ  5XW02BHJ  5XW02L6V  5XW02N56\n",
       "manufacturer[T.SEAGATE]       1.0       1.0       1.0       1.0       1.0\n",
       "manufacturer[T.WDC]           0.0       0.0       0.0       0.0       0.0\n",
       "capacity[T.2.0TB]             0.0       0.0       0.0       0.0       0.0\n",
       "capacity[T.3.0TB]             0.0       0.0       0.0       0.0       0.0\n",
       "capacity[T.4.0TB]             0.0       0.0       0.0       0.0       0.0\n",
       "capacity[T.6.0TB]             0.0       0.0       0.0       0.0       0.0\n",
       "maxhours                  48301.0   52168.0   47362.0   55780.0   52172.0\n",
       "failed                        0.0       0.0       0.0       0.0       0.0"
      ]
     },
     "execution_count": 17,
     "metadata": {},
     "output_type": "execute_result"
    }
   ],
   "source": [
    "modelspec = 'manufacturer + capacity'\n",
    "\n",
    "dft = pt.dmatrix(modelspec, df, return_type='dataframe')\n",
    "design_info = dft.design_info\n",
    "dft = dft.join(df[['maxhours','failed']])\n",
    "\n",
    "## NOTE: CoxPHFitter expects reduced-rank design matrix WITHOUT intercept\n",
    "del dft['Intercept']\n",
    "dft.head().T"
   ]
  },
  {
   "cell_type": "markdown",
   "metadata": {},
   "source": [
    "**NOTE:**\n",
    "\n",
    "The previous is a view of the top 5 rows of the design matrix, transposed so it fits easier in view. It can be seen the boolean representation of the feature values for each disk, for example:\n",
    "- diskid 5XW00J2Z is a Seagate 1.5TB drive with 48301.0 hours of power-on and no failure, and so on."
   ]
  },
  {
   "cell_type": "markdown",
   "metadata": {},
   "source": [
    "### Fit CoxPH\n",
    "\n",
    "The fit() method runs the CoxPH partial regression and stores the results on the cx object"
   ]
  },
  {
   "cell_type": "code",
   "execution_count": 20,
   "metadata": {},
   "outputs": [
    {
     "name": "stdout",
     "output_type": "stream",
     "text": [
      "Iteration 1: norm_delta = 0.52650, step_size = 0.50000, ll = -3511.41429\n",
      "Iteration 2: norm_delta = 0.33304, step_size = 0.49500, ll = -3366.69927\n",
      "Iteration 3: norm_delta = 0.27801, step_size = 0.49005, ll = -3316.48355\n",
      "Iteration 4: norm_delta = 0.27261, step_size = 0.48515, ll = -3292.08845\n",
      "Iteration 5: norm_delta = 0.28459, step_size = 0.48030, ll = -3279.19489\n",
      "Iteration 6: norm_delta = 0.28483, step_size = 0.47550, ll = -3272.24144\n",
      "Iteration 7: norm_delta = 0.24937, step_size = 0.47074, ll = -3268.59664\n",
      "Iteration 8: norm_delta = 0.18447, step_size = 0.46603, ll = -3266.85738\n",
      "Iteration 9: norm_delta = 0.11927, step_size = 0.46137, ll = -3266.13821\n",
      "Iteration 10: norm_delta = 0.07113, step_size = 0.45676, ll = -3265.87749\n",
      "Iteration 11: norm_delta = 0.04068, step_size = 0.45219, ll = -3265.79076\n",
      "Iteration 12: norm_delta = 0.02282, step_size = 0.44767, ll = -3265.76319\n",
      "Iteration 13: norm_delta = 0.01271, step_size = 0.44319, ll = -3265.75460\n",
      "Iteration 14: norm_delta = 0.00708, step_size = 0.43876, ll = -3265.75193\n",
      "Iteration 15: norm_delta = 0.00395, step_size = 0.43437, ll = -3265.75110\n",
      "Iteration 16: norm_delta = 0.00222, step_size = 0.43003, ll = -3265.75084\n",
      "Iteration 17: norm_delta = 0.00126, step_size = 0.42573, ll = -3265.75075\n",
      "Iteration 18: norm_delta = 0.00071, step_size = 0.42147, ll = -3265.75073\n",
      "Iteration 19: norm_delta = 0.00041, step_size = 0.41726, ll = -3265.75072\n",
      "Convergence completed after 19 iterations.\n"
     ]
    },
    {
     "data": {
      "text/plain": [
       "<lifelines.CoxPHFitter: fitted with 67340 observations, 67001 censored>"
      ]
     },
     "execution_count": 20,
     "metadata": {},
     "output_type": "execute_result"
    }
   ],
   "source": [
    "cx = sa.CoxPHFitter()\n",
    "cx.fit(df=dft, duration_col='maxhours', event_col='failed', show_progress=True)"
   ]
  },
  {
   "cell_type": "markdown",
   "metadata": {},
   "source": [
    "### View the baseline hazard rate:"
   ]
  },
  {
   "cell_type": "code",
   "execution_count": 21,
   "metadata": {},
   "outputs": [
    {
     "data": {
      "text/plain": [
       "<matplotlib.axes._subplots.AxesSubplot at 0x7f852a972d10>"
      ]
     },
     "execution_count": 21,
     "metadata": {},
     "output_type": "execute_result"
    },
    {
     "data": {
      "image/png": "[encoded data removed]",
      "text/plain": [
       "<matplotlib.figure.Figure at 0x7f852acd7050>"
      ]
     },
     "metadata": {},
     "output_type": "display_data"
    }
   ],
   "source": [
    "fig, axes = plt.subplots(nrows=1, ncols=2, squeeze=False, sharex=True)\n",
    "cx.baseline_cumulative_hazard_.plot(ax=axes[0,0], legend=False\n",
    "                ,title='Baseline cumulative hazard rate')\n",
    "cx.baseline_survival_.plot(ax=axes[0,1], legend=False\n",
    "                ,title='Baseline survival rate')"
   ]
  },
  {
   "cell_type": "markdown",
   "metadata": {},
   "source": [
    "**Observation**:\n",
    "\n",
    "The above figures show the baseline cumulative hazard rate $\\Lambda = \\sum_t \\lambda_0(t)$  and the computed baseline survival rate $S =e^{-\\Lambda}$."
   ]
  },
  {
   "cell_type": "markdown",
   "metadata": {},
   "source": [
    "### View the summary of model coefficients"
   ]
  },
  {
   "cell_type": "code",
   "execution_count": 22,
   "metadata": {},
   "outputs": [
    {
     "data": {
      "text/html": [
       "<div>\n",
       "<style>\n",
       "    .dataframe thead tr:only-child th {\n",
       "        text-align: right;\n",
       "    }\n",
       "\n",
       "    .dataframe thead th {\n",
       "        text-align: left;\n",
       "    }\n",
       "\n",
       "    .dataframe tbody tr th {\n",
       "        vertical-align: top;\n",
       "    }\n",
       "</style>\n",
       "<table border=\"1\" class=\"dataframe\">\n",
       "  <thead>\n",
       "    <tr style=\"text-align: right;\">\n",
       "      <th></th>\n",
       "      <th>coef</th>\n",
       "      <th>exp(coef)</th>\n",
       "      <th>se(coef)</th>\n",
       "      <th>z</th>\n",
       "      <th>p</th>\n",
       "      <th>lower 0.95</th>\n",
       "      <th>upper 0.95</th>\n",
       "    </tr>\n",
       "  </thead>\n",
       "  <tbody>\n",
       "    <tr>\n",
       "      <th>manufacturer[T.SEAGATE]</th>\n",
       "      <td>2.457392</td>\n",
       "      <td>11.674323</td>\n",
       "      <td>0.233219</td>\n",
       "      <td>10.536857</td>\n",
       "      <td>5.841887e-26</td>\n",
       "      <td>2.000191</td>\n",
       "      <td>2.914593</td>\n",
       "    </tr>\n",
       "    <tr>\n",
       "      <th>manufacturer[T.WDC]</th>\n",
       "      <td>4.088040</td>\n",
       "      <td>59.622897</td>\n",
       "      <td>0.398838</td>\n",
       "      <td>10.249878</td>\n",
       "      <td>1.184933e-24</td>\n",
       "      <td>3.306160</td>\n",
       "      <td>4.869919</td>\n",
       "    </tr>\n",
       "    <tr>\n",
       "      <th>capacity[T.2.0TB]</th>\n",
       "      <td>-0.769706</td>\n",
       "      <td>0.463149</td>\n",
       "      <td>1.028735</td>\n",
       "      <td>-0.748207</td>\n",
       "      <td>4.543354e-01</td>\n",
       "      <td>-2.786432</td>\n",
       "      <td>1.247020</td>\n",
       "    </tr>\n",
       "    <tr>\n",
       "      <th>capacity[T.3.0TB]</th>\n",
       "      <td>1.522484</td>\n",
       "      <td>4.583597</td>\n",
       "      <td>1.121083</td>\n",
       "      <td>1.358048</td>\n",
       "      <td>1.744484e-01</td>\n",
       "      <td>-0.675281</td>\n",
       "      <td>3.720249</td>\n",
       "    </tr>\n",
       "    <tr>\n",
       "      <th>capacity[T.4.0TB]</th>\n",
       "      <td>4.209740</td>\n",
       "      <td>67.339045</td>\n",
       "      <td>1.183343</td>\n",
       "      <td>3.557499</td>\n",
       "      <td>3.744030e-04</td>\n",
       "      <td>1.889921</td>\n",
       "      <td>6.529559</td>\n",
       "    </tr>\n",
       "    <tr>\n",
       "      <th>capacity[T.6.0TB]</th>\n",
       "      <td>3.673655</td>\n",
       "      <td>39.395619</td>\n",
       "      <td>1.189264</td>\n",
       "      <td>3.089014</td>\n",
       "      <td>2.008218e-03</td>\n",
       "      <td>1.342227</td>\n",
       "      <td>6.005082</td>\n",
       "    </tr>\n",
       "  </tbody>\n",
       "</table>\n",
       "</div>"
      ],
      "text/plain": [
       "                             coef  exp(coef)  se(coef)          z  \\\n",
       "manufacturer[T.SEAGATE]  2.457392  11.674323  0.233219  10.536857   \n",
       "manufacturer[T.WDC]      4.088040  59.622897  0.398838  10.249878   \n",
       "capacity[T.2.0TB]       -0.769706   0.463149  1.028735  -0.748207   \n",
       "capacity[T.3.0TB]        1.522484   4.583597  1.121083   1.358048   \n",
       "capacity[T.4.0TB]        4.209740  67.339045  1.183343   3.557499   \n",
       "capacity[T.6.0TB]        3.673655  39.395619  1.189264   3.089014   \n",
       "\n",
       "                                    p  lower 0.95  upper 0.95  \n",
       "manufacturer[T.SEAGATE]  5.841887e-26    2.000191    2.914593  \n",
       "manufacturer[T.WDC]      1.184933e-24    3.306160    4.869919  \n",
       "capacity[T.2.0TB]        4.543354e-01   -2.786432    1.247020  \n",
       "capacity[T.3.0TB]        1.744484e-01   -0.675281    3.720249  \n",
       "capacity[T.4.0TB]        3.744030e-04    1.889921    6.529559  \n",
       "capacity[T.6.0TB]        2.008218e-03    1.342227    6.005082  "
      ]
     },
     "execution_count": 22,
     "metadata": {},
     "output_type": "execute_result"
    }
   ],
   "source": [
    "cx.summary"
   ]
  },
  {
   "cell_type": "code",
   "execution_count": 31,
   "metadata": {},
   "outputs": [
    {
     "data": {
      "text/plain": [
       "14.879731724872837"
      ]
     },
     "execution_count": 31,
     "metadata": {},
     "output_type": "execute_result"
    }
   ],
   "source": [
    "np.exp(4.2-1.5)"
   ]
  },
  {
   "cell_type": "markdown",
   "metadata": {},
   "source": [
    "The proportional nature of the hazard coefficients can be seen clearly.\n",
    "\n",
    "**Observations**:\n",
    "\n",
    "- Manufacturers:\n",
    "\n",
    "    - A typical Seagate drive has a mean hazard rate $\\exp(2.5) = 11.7x$ that of an HGST drive (HGST is on the baseline for this model), and a WDC drive has a hazard rate  $\\exp(4.1) = 60.3x$ that of an HGST drive\n",
    "\n",
    "- Capacities:\n",
    "\n",
    "    - A typical 3TB drive would appear to be 4.6 x more likely to fail than a typical 1.5TB drive.\n",
    "    - Combining features, our model tells us a Seagate 3TB drive has a hazard rate  $(11.7+4.6=16)x$ that of the baseline, which is  14x larger than an HGST 3TB drive, and  50x smaller than a WDC 3TB drive  $(59.6+4.6=64.2)x$.\n",
    "    - A 4TB drive would appear to be $exp(4.2)x = 67.3x$ more likely to fail than a 1.5TB drive, but compared with a 3TB drive, is $exp(4.2-1.5)x=14.9x$ as likely to fail: an increase in reliability and capacity.\n",
    "    \n",
    "Lets view those ranges on the $\\exp(\\beta)$ coefficients:"
   ]
  },
  {
   "cell_type": "code",
   "execution_count": 32,
   "metadata": {},
   "outputs": [
    {
     "data": {
      "image/png": "[encoded data removed]",
      "text/plain": [
       "<matplotlib.figure.Figure at 0x7f855c5150d0>"
      ]
     },
     "metadata": {},
     "output_type": "display_data"
    }
   ],
   "source": [
    "smy = cx.summary.copy().reset_index()\n",
    "smy['type'] = smy['index'].apply(lambda x: 'mfr' if x[:1]=='m' else 'cap')\n",
    "smy['err'] = smy['upper 0.95'] - smy['coef']\n",
    "\n",
    "fig, axes = plt.subplots(nrows=1, ncols=2, squeeze=False, figsize=(10,6), sharey=True)\n",
    "fig.canvas.draw()\n",
    "for j, sel in enumerate(['mfr','cap']):\n",
    "    smysub = smy.loc[smy['type']==sel].copy()\n",
    "    axes[0,j].errorbar(x=np.arange(smysub.shape[0]), y=np.exp(smysub['coef'])\n",
    "                       ,marker='o', linestyle='', yerr=np.exp(smysub['err']))\n",
    "    axes[0,j].set_title('exp(beta) coefs for {}'.format(['manufacturer','capacity'][j]))\n",
    "    axes[0,j].set_xlim([-0.1, len(smysub) - 0.9])\n",
    "    axes[0,j].set_xticks(np.arange(smysub.shape[0]))\n",
    "    axes[0,j].set_xticklabels([t.split('[')[1][2:-1] for t in smysub['index']])"
   ]
  },
  {
   "cell_type": "markdown",
   "metadata": {},
   "source": [
    "**Observe**:\n",
    "\n",
    "- The proportional hazards really are very different amongst the drives\n",
    "- The uncertainty in the beta coeffs is far more clear in this view, for example"
   ]
  },
  {
   "cell_type": "markdown",
   "metadata": {},
   "source": [
    "### Evaluate model performance using concordance"
   ]
  },
  {
   "cell_type": "markdown",
   "metadata": {},
   "source": [
    "The `lifelines` package has a couple of convenience functions to let us very easily evaluate model performance:\n",
    "\n",
    "- `concordance_index` which computes the concordance index - the overall probability that predicted and actual events occur in the same ranked order (see more at http://papers.nips.cc/paper/3375-on-ranking-in-survival-analysis-bounds-on-the-concordance-index.pdf).\n",
    "\n",
    "- `k_fold_cross_validation` which divides the dataset $n$ into two subsets with $n(k-1)/k$ rows and $n/k$ rows, then uses the larger set to train and the smaller set to test the model using the concordance measure. The 'fold' part means it runs repeatedly over different subsets so that each row in the data is used for training and for test.\n",
    "\n",
    "Paraphrasing the lifelines docs: concordance is a generalisation of the area-under-curve (AUC) measure and interpreted similarly:\n",
    "\n",
    "- 0.5 is the expected result from random predictions,\n",
    "- 1.0 is perfect concordance and,\n",
    "- 0.0 is perfect anti-concordance (multiply predictions with -1 to get 1.0)\n",
    "\n",
    "A concordance score between 0.6 and 0.8 would indicate a well-performing model."
   ]
  },
  {
   "cell_type": "code",
   "execution_count": 34,
   "metadata": {},
   "outputs": [],
   "source": [
    "cx1 = sa.CoxPHFitter()\n",
    "scores = k_fold_cross_validation(cx1, dft, k=5,\n",
    "                                 duration_col='maxhours',\n",
    "                                 event_col='failed', \n",
    "                                 predictor='predict_expectation')"
   ]
  },
  {
   "cell_type": "code",
   "execution_count": 41,
   "metadata": {},
   "outputs": [
    {
     "data": {
      "text/plain": [
       "(0.5, 1)"
      ]
     },
     "execution_count": 41,
     "metadata": {},
     "output_type": "execute_result"
    },
    {
     "data": {
      "image/png": "[encoded data removed]",
      "text/plain": [
       "<matplotlib.figure.Figure at 0x7f8529297b10>"
      ]
     },
     "metadata": {},
     "output_type": "display_data"
    }
   ],
   "source": [
    "fig, axes = plt.subplots(nrows=1, ncols=1, figsize=(10,2))\n",
    "sns.boxplot(scores, color='lightblue', ax=axes, showmeans=True)\n",
    "axes.annotate('{:.3f}'.format(np.mean(scores)), xy=(np.mean(scores),1), xycoords='data',\n",
    "              xytext=(10, 10), textcoords='offset points', color='r', fontsize=12)\n",
    "axes.set_xlim([0.5,1])"
   ]
  },
  {
   "cell_type": "code",
   "execution_count": null,
   "metadata": {
    "collapsed": true
   },
   "outputs": [],
   "source": []
  }
 ],
 "metadata": {
  "anaconda-cloud": {},
  "hide_input": false,
  "kernelspec": {
   "display_name": "Python 3",
   "language": "python",
   "name": "python3"
  },
  "language_info": {
   "codemirror_mode": {
    "name": "ipython",
    "version": 3
   },
   "file_extension": ".py",
   "mimetype": "text/x-python",
   "name": "python",
   "nbconvert_exporter": "python",
   "pygments_lexer": "ipython3",
   "version": "3.6.8"
  },
  "latex_envs": {
   "bibliofile": "biblio.bib",
   "cite_by": "number",
   "current_citInitial": 1,
   "eqLabelWithNumbers": true,
   "eqNumInitial": 0
  },
  "toc": {
   "nav_menu": {
    "height": "192px",
    "width": "252px"
   },
   "navigate_menu": true,
   "number_sections": true,
   "sideBar": true,
   "threshold": 4,
   "toc_cell": false,
   "toc_section_display": "block",
   "toc_window_display": false
  }
 },
 "nbformat": 4,
 "nbformat_minor": 2
}
